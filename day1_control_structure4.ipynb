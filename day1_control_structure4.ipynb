{
  "nbformat": 4,
  "nbformat_minor": 0,
  "metadata": {
    "colab": {
      "provenance": []
    },
    "kernelspec": {
      "name": "python3",
      "display_name": "Python 3"
    },
    "language_info": {
      "name": "python"
    }
  },
  "cells": [
    {
      "cell_type": "markdown",
      "source": [
        "**4.calculate number of upper-case letter and lower-case letter**"
      ],
      "metadata": {
        "id": "IZ0Fl-9Rf8lF"
      }
    },
    {
      "cell_type": "code",
      "source": [
        "Str=\"My Name is Alexpandian\"\n",
        "lower=0\n",
        "upper=0\n",
        "for i in Str:\n",
        "      if(i.islower()):\n",
        "            lower+=1\n",
        "      else:\n",
        "            upper+=1\n",
        "print(\"The number of lowercase characters is:\",lower)\n",
        "print(\"The number of uppercase characters is:\",upper)\n"
      ],
      "metadata": {
        "colab": {
          "base_uri": "https://localhost:8080/"
        },
        "id": "R_-zFLq6gPZD",
        "outputId": "e527c19f-e5a7-476c-bd31-ba012ec9f18a"
      },
      "execution_count": 1,
      "outputs": [
        {
          "output_type": "stream",
          "name": "stdout",
          "text": [
            "The number of lowercase characters is: 16\n",
            "The number of uppercase characters is: 6\n"
          ]
        }
      ]
    }
  ]
}
{
  "nbformat": 4,
  "nbformat_minor": 0,
  "metadata": {
    "colab": {
      "provenance": []
    },
    "kernelspec": {
      "name": "python3",
      "display_name": "Python 3"
    },
    "language_info": {
      "name": "python"
    }
  },
  "cells": [
    {
      "cell_type": "markdown",
      "source": [
        "**2.Write and run a Python program that asks the user to enter 8 integers (one at a time), and then prints out how many of those integers were even numbers. For example, if the user entered 19, 6, 9, 20, 13, 7, 6, and 1, then your program should print out 3 since 3 of those numbers were even.**"
      ],
      "metadata": {
        "id": "YZQVqrUsXCVn"
      }
    },
    {
      "cell_type": "code",
      "source": [
        "even_count = 0\n",
        "for i in range(8):\n",
        "    try:\n",
        "        num = int(input(f\"Enter integer {i + 1}: \"))\n",
        "        if num % 2 == 0:\n",
        "            even_count += 1\n",
        "    except ValueError:\n",
        "        print(\"Invalid input. Please enter an integer.\")\n",
        "print(f\"Number of even integers entered: {even_count}\")"
      ],
      "metadata": {
        "colab": {
          "base_uri": "https://localhost:8080/"
        },
        "id": "UyWBaiwGXQEs",
        "outputId": "5b10656c-b55f-47fe-b3aa-3400061238bf"
      },
      "execution_count": 3,
      "outputs": [
        {
          "output_type": "stream",
          "name": "stdout",
          "text": [
            "Enter integer 1: 19\n",
            "Enter integer 2: 6\n",
            "Enter integer 3: 9\n",
            "Enter integer 4: 20\n",
            "Enter integer 5: 13\n",
            "Enter integer 6: 7\n",
            "Enter integer 7: 6\n",
            "Enter integer 8: 1\n",
            "Number of even integers entered: 3\n"
          ]
        }
      ]
    }
  ]
}
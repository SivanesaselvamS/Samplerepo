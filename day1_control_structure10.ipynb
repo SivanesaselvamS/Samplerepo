{
  "cells": [
    {
      "cell_type": "markdown",
      "metadata": {
        "id": "3X6MJRP88lJC"
      },
      "source": [
        "**10.Write a python program to find a maximum and minimum number in a list without using an inbuilt function.**"
      ]
    },
    {
      "cell_type": "code",
      "execution_count": 13,
      "metadata": {
        "colab": {
          "base_uri": "https://localhost:8080/",
          "height": 140
        },
        "id": "VDUEY3Qw8uPd",
        "outputId": "b5775973-093c-4786-d4bd-f22f5065f203"
      },
      "outputs": [
        {
          "output_type": "error",
          "ename": "IndentationError",
          "evalue": "ignored",
          "traceback": [
            "\u001b[0;36m  File \u001b[0;32m\"<tokenize>\"\u001b[0;36m, line \u001b[0;32m11\u001b[0m\n\u001b[0;31m    return (maximum, minimum)\u001b[0m\n\u001b[0m    ^\u001b[0m\n\u001b[0;31mIndentationError\u001b[0m\u001b[0;31m:\u001b[0m unindent does not match any outer indentation level\n"
          ]
        }
      ],
      "source": [
        "def find_max_min(numbers):\n",
        "    if not numbers:\n",
        "        return (None, None)\n",
        "\n",
        "    maximum = minimum = numbers[0]\n",
        "    for number in numbers:\n",
        "        if number > maximum:\n",
        "            maximum = number\n",
        "        if number < minimum:\n",
        "            minimum = number\n",
        "         return (maximum, minimum)"
      ]
    }
  ],
  "metadata": {
    "colab": {
      "provenance": []
    },
    "kernelspec": {
      "display_name": "Python 3",
      "name": "python3"
    },
    "language_info": {
      "name": "python"
    }
  },
  "nbformat": 4,
  "nbformat_minor": 0
}
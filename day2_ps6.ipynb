{
  "nbformat": 4,
  "nbformat_minor": 0,
  "metadata": {
    "colab": {
      "provenance": []
    },
    "kernelspec": {
      "name": "python3",
      "display_name": "Python 3"
    },
    "language_info": {
      "name": "python"
    }
  },
  "cells": [
    {
      "cell_type": "markdown",
      "source": [
        "**6.To write a Python program to compute matrix multiplication.**"
      ],
      "metadata": {
        "id": "G9IvqkBubj_m"
      }
    },
    {
      "cell_type": "code",
      "source": [
        "def matrix_multiply(A, B):\n",
        "    if len(A[0]) != len(B):\n",
        "        raise ValueError(\"Number of columns in A must be equal to the number of rows in B\")\n",
        "\n",
        "    result = []\n",
        "    for i in range(len(A)):\n",
        "        row = []\n",
        "        for j in range(len(B[0])):\n",
        "            product = 0\n",
        "            for k in range(len(B)):\n",
        "                product += A[i][k] * B[k][j]\n",
        "            row.append(product)\n",
        "        result.append(row)\n",
        "    return result\n",
        "def print_matrix(matrix):\n",
        "    for row in matrix:\n",
        "        print(\" \".join(str(element) for element in row))\n",
        "\n",
        "try:\n",
        "    m = int(input(\"Enter the number of rows for matrix A: \"))\n",
        "    n = int(input(\"Enter the number of columns for matrix A: \"))\n",
        "    A = []\n",
        "    print(\"Enter the elements of matrix A:\")\n",
        "    for i in range(m):\n",
        "        row = []\n",
        "        for j in range(n):\n",
        "            element = float(input(f\"Enter element A[{i+1}][{j+1}]: \"))\n",
        "            row.append(element)\n",
        "        A.append(row)\n",
        "\n",
        "    p = int(input(\"Enter the number of rows for matrix B: \"))\n",
        "    q = int(input(\"Enter the number of columns for matrix B: \"))\n",
        "    B = []\n",
        "    print(\"Enter the elements of matrix B:\")\n",
        "    for i in range(p):\n",
        "        row = []\n",
        "        for j in range(q):\n",
        "            element = float(input(f\"Enter element B[{i+1}][{j+1}]: \"))\n",
        "            row.append(element)\n",
        "        B.append(row)\n",
        "    if n != p:\n",
        "        raise ValueError(\"Number of columns in A must be equal to the number of rows in B\")\n",
        "\n",
        "    result = matrix_multiply(A, B)\n",
        "    print(\"\\nResult of matrix multiplication (A x B):\")\n",
        "    print_matrix(result)\n",
        "\n",
        "except ValueError as e:\n",
        "    print(f\"Error: {e}\")\n",
        "except KeyboardInterrupt:\n",
        "    print(\"\\nMatrix multiplication program was interrupted.\")"
      ],
      "metadata": {
        "colab": {
          "base_uri": "https://localhost:8080/"
        },
        "id": "92JCG9V7bupa",
        "outputId": "d285db44-5b1b-4e6d-e062-5dd653e6e732"
      },
      "execution_count": 4,
      "outputs": [
        {
          "output_type": "stream",
          "name": "stdout",
          "text": [
            "Enter the number of rows for matrix A: 2\n",
            "Enter the number of columns for matrix A: 2\n",
            "Enter the elements of matrix A:\n",
            "Enter element A[1][1]: 1\n",
            "Enter element A[1][2]: 2\n",
            "Enter element A[2][1]: 3\n",
            "Enter element A[2][2]: 4\n",
            "Enter the number of rows for matrix B: 2\n",
            "Enter the number of columns for matrix B: 2\n",
            "Enter the elements of matrix B:\n",
            "Enter element B[1][1]: 5\n",
            "Enter element B[1][2]: 6\n",
            "Enter element B[2][1]: 7\n",
            "Enter element B[2][2]: 8\n",
            "\n",
            "Result of matrix multiplication (A x B):\n",
            "19.0 22.0\n",
            "43.0 50.0\n"
          ]
        }
      ]
    }
  ]
}
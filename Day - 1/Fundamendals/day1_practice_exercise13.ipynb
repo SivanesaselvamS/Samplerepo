{
  "nbformat": 4,
  "nbformat_minor": 0,
  "metadata": {
    "colab": {
      "provenance": []
    },
    "kernelspec": {
      "name": "python3",
      "display_name": "Python 3"
    },
    "language_info": {
      "name": "python"
    }
  },
  "cells": [
    {
      "cell_type": "markdown",
      "source": [
        "**13.Weight on earth**"
      ],
      "metadata": {
        "id": "v39y_zfnWPGf"
      }
    },
    {
      "cell_type": "code",
      "source": [
        "WeightOnEarth = {'john':45,'shelly':65,'marry':35}\n",
        "GMoon=1.622\n",
        "GEarth=9.81\n",
        "WeightOnEarth1 = 45\n",
        "WeightOnEarth2 = 65\n",
        "WeightOnEarth3 = 35\n",
        "(lambda WeightOnEarth1:(WeightOnEarth1 * GMoon)/GEarth)(45)"
      ],
      "metadata": {
        "colab": {
          "base_uri": "https://localhost:8080/"
        },
        "id": "61oG8RNKWchr",
        "outputId": "b168b723-aa99-4b3c-f0c9-299aaaa8391c"
      },
      "execution_count": 1,
      "outputs": [
        {
          "output_type": "execute_result",
          "data": {
            "text/plain": [
              "7.440366972477065"
            ]
          },
          "metadata": {},
          "execution_count": 1
        }
      ]
    },
    {
      "cell_type": "code",
      "source": [
        "(lambda WeightOnEarth2:(WeightOnEarth2 * GMoon)/GEarth)(65)"
      ],
      "metadata": {
        "colab": {
          "base_uri": "https://localhost:8080/"
        },
        "id": "bm8UHDuHXwZK",
        "outputId": "5414e3fc-b31b-4676-ab6a-39ccf4096ae4"
      },
      "execution_count": 2,
      "outputs": [
        {
          "output_type": "execute_result",
          "data": {
            "text/plain": [
              "10.747196738022426"
            ]
          },
          "metadata": {},
          "execution_count": 2
        }
      ]
    },
    {
      "cell_type": "code",
      "source": [
        "(lambda WeightOnEarth3:(WeightOnEarth3 * GMoon)/GEarth)(35)"
      ],
      "metadata": {
        "colab": {
          "base_uri": "https://localhost:8080/"
        },
        "id": "b7klWbopX5hE",
        "outputId": "f7d8df70-75e4-46dd-bc63-294b3ed3cfd7"
      },
      "execution_count": 3,
      "outputs": [
        {
          "output_type": "execute_result",
          "data": {
            "text/plain": [
              "5.786952089704383"
            ]
          },
          "metadata": {},
          "execution_count": 3
        }
      ]
    }
  ]
}
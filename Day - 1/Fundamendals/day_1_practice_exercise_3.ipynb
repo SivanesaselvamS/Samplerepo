{
  "nbformat": 4,
  "nbformat_minor": 0,
  "metadata": {
    "colab": {
      "provenance": []
    },
    "kernelspec": {
      "name": "python3",
      "display_name": "Python 3"
    },
    "language_info": {
      "name": "python"
    }
  },
  "cells": [
    {
      "cell_type": "code",
      "execution_count": null,
      "metadata": {
        "id": "W1FBtbdsOOd_"
      },
      "outputs": [],
      "source": []
    },
    {
      "cell_type": "markdown",
      "source": [
        "**3. Write a python program to implement the following using list.**"
      ],
      "metadata": {
        "id": "mHQ7NjVoORFe"
      }
    },
    {
      "cell_type": "markdown",
      "source": [
        "i)create a list with integers (minimum 10 numbers)"
      ],
      "metadata": {
        "id": "cg6LjWUwPKrk"
      }
    },
    {
      "cell_type": "code",
      "source": [
        "integer_list =[1,2,3,4,5,6,7,8,9,10]\n",
        "print (integer_list)"
      ],
      "metadata": {
        "colab": {
          "base_uri": "https://localhost:8080/"
        },
        "id": "Wzp5G8XBPSx3",
        "outputId": "961b4f43-8754-41b0-9fb8-33d8ebfb113a"
      },
      "execution_count": 1,
      "outputs": [
        {
          "output_type": "stream",
          "name": "stdout",
          "text": [
            "[1, 2, 3, 4, 5, 6, 7, 8, 9, 10]\n"
          ]
        }
      ]
    },
    {
      "cell_type": "markdown",
      "source": [
        "ii)how to display the last number in the list"
      ],
      "metadata": {
        "id": "KpfFwcGQQYt8"
      }
    },
    {
      "cell_type": "code",
      "source": [
        "my_list =[11,22,33,44]\n",
        "last_number = my_list[-1]\n",
        "print (last_number)"
      ],
      "metadata": {
        "colab": {
          "base_uri": "https://localhost:8080/"
        },
        "id": "zH1TwIiMQhM6",
        "outputId": "1710f6ad-fe41-4fbe-8113-bd7a5b9e38f6"
      },
      "execution_count": 2,
      "outputs": [
        {
          "output_type": "stream",
          "name": "stdout",
          "text": [
            "44\n"
          ]
        }
      ]
    },
    {
      "cell_type": "markdown",
      "source": [
        "iii)command for displaying the values from the list[0:4]"
      ],
      "metadata": {
        "id": "ytNXQG5cRJyr"
      }
    },
    {
      "cell_type": "code",
      "source": [
        "my_list = [11,22,33,44,55,66,77]\n",
        "values = my_list[0:4]\n",
        "print (values)"
      ],
      "metadata": {
        "colab": {
          "base_uri": "https://localhost:8080/"
        },
        "id": "snZXIq9nRYvL",
        "outputId": "c4720c8e-a482-4e60-87e1-3ce78b055166"
      },
      "execution_count": 14,
      "outputs": [
        {
          "output_type": "stream",
          "name": "stdout",
          "text": [
            "[11, 22, 33, 44]\n"
          ]
        }
      ]
    },
    {
      "cell_type": "markdown",
      "source": [
        "iv)command for displaying the values from the list [2:]"
      ],
      "metadata": {
        "id": "_FOZfPT9em26"
      }
    },
    {
      "cell_type": "code",
      "source": [
        "my_list = [11,22,33,44,55,66,77]\n",
        "values = my_list[2:]\n",
        "print (values)"
      ],
      "metadata": {
        "colab": {
          "base_uri": "https://localhost:8080/"
        },
        "id": "adYCSWvDeyb6",
        "outputId": "7ee0a49e-6c20-4f85-82c4-fb9836c8ba93"
      },
      "execution_count": 15,
      "outputs": [
        {
          "output_type": "stream",
          "name": "stdout",
          "text": [
            "[33, 44, 55, 66, 77]\n"
          ]
        }
      ]
    },
    {
      "cell_type": "markdown",
      "source": [
        "v)command for displaying the values from the list [:6]\n",
        "\n"
      ],
      "metadata": {
        "id": "DKvL6CX0fBUB"
      }
    },
    {
      "cell_type": "code",
      "source": [
        "my_list = [11,22,33,44,55,66,77]\n",
        "values = my_list[:6]\n",
        "print (values)"
      ],
      "metadata": {
        "colab": {
          "base_uri": "https://localhost:8080/"
        },
        "id": "hR89m1EnfSMu",
        "outputId": "5ba43a53-35ec-4ebc-81f3-a0cc64192d2e"
      },
      "execution_count": 16,
      "outputs": [
        {
          "output_type": "stream",
          "name": "stdout",
          "text": [
            "[11, 22, 33, 44, 55, 66]\n"
          ]
        }
      ]
    }
  ]
}
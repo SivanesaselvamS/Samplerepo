{
  "nbformat": 4,
  "nbformat_minor": 0,
  "metadata": {
    "colab": {
      "provenance": []
    },
    "kernelspec": {
      "name": "python3",
      "display_name": "Python 3"
    },
    "language_info": {
      "name": "python"
    }
  },
  "cells": [
    {
      "cell_type": "code",
      "execution_count": null,
      "metadata": {
        "id": "Ue5iCYln-KAs"
      },
      "outputs": [],
      "source": []
    },
    {
      "cell_type": "markdown",
      "source": [
        "**2. Write a python program to do in the tuples**."
      ],
      "metadata": {
        "id": "Pq2pnfAd-U3W"
      }
    },
    {
      "cell_type": "markdown",
      "source": [
        "i) Manipulate using tuples."
      ],
      "metadata": {
        "id": "kqkH1aYP-xrW"
      }
    },
    {
      "cell_type": "code",
      "source": [
        "my_tuple = (\"Car\",\"Van\",\"Bus\")\n",
        "print (my_tuple)"
      ],
      "metadata": {
        "colab": {
          "base_uri": "https://localhost:8080/"
        },
        "id": "IvwFFy3B-7TR",
        "outputId": "25692112-ad4f-4a1a-b665-ad3c18a240e8"
      },
      "execution_count": 1,
      "outputs": [
        {
          "output_type": "stream",
          "name": "stdout",
          "text": [
            "('Car', 'Van', 'Bus')\n"
          ]
        }
      ]
    },
    {
      "cell_type": "markdown",
      "source": [
        "ii) To add new elements to the end of the tuples."
      ],
      "metadata": {
        "id": "YcmcNTqm_Ydd"
      }
    },
    {
      "cell_type": "code",
      "source": [
        "my_tuple = (\"car\",\"van\",\"bus\")\n",
        "y = (\"lorry\",)\n",
        "my_tuple += y\n",
        "print(my_tuple)"
      ],
      "metadata": {
        "colab": {
          "base_uri": "https://localhost:8080/"
        },
        "id": "DQSTeOOj_iLv",
        "outputId": "9c836f50-a351-483d-d638-6f3ae435452f"
      },
      "execution_count": 12,
      "outputs": [
        {
          "output_type": "stream",
          "name": "stdout",
          "text": [
            "('car', 'van', 'bus', 'lorry')\n"
          ]
        }
      ]
    },
    {
      "cell_type": "markdown",
      "source": [
        "iii) To reverse elements in the tuples."
      ],
      "metadata": {
        "id": "TyymydhcBiEX"
      }
    },
    {
      "cell_type": "code",
      "source": [
        " my_tuple = (\"java\",\"python\",\"c\",\"Html\")\n",
        " print(\"The original tuple is: \",my_tuple)\n",
        " my_tuple = tuple(reversed(my_tuple))\n",
        " print(\"Th reversed tuple is : \",my_tuple)\n"
      ],
      "metadata": {
        "colab": {
          "base_uri": "https://localhost:8080/"
        },
        "id": "xvnlXDYOBruv",
        "outputId": "86ebef49-ec17-42ce-b3be-b2a0de6eb2da"
      },
      "execution_count": 21,
      "outputs": [
        {
          "output_type": "stream",
          "name": "stdout",
          "text": [
            "The original tuple is:  ('java', 'python', 'c', 'Html')\n",
            "Th reversed tuple is :  ('Html', 'c', 'python', 'java')\n"
          ]
        }
      ]
    },
    {
      "cell_type": "markdown",
      "source": [
        "iv) To display the elements of the same tuple multiple times."
      ],
      "metadata": {
        "id": "xrNqYfc2Hbau"
      }
    },
    {
      "cell_type": "code",
      "source": [
        "my_tuple = [\"python\"]\n",
        "my_tuple = 5 * (my_tuple)\n",
        "print(my_tuple)"
      ],
      "metadata": {
        "colab": {
          "base_uri": "https://localhost:8080/"
        },
        "id": "TAxweM3OHuQt",
        "outputId": "97df704d-dad4-4dc8-a553-47f61fc47eee"
      },
      "execution_count": 30,
      "outputs": [
        {
          "output_type": "stream",
          "name": "stdout",
          "text": [
            "['python', 'python', 'python', 'python', 'python']\n"
          ]
        }
      ]
    },
    {
      "cell_type": "markdown",
      "source": [
        "v) To concatenate two tuples"
      ],
      "metadata": {
        "id": "_ZNuGVVwJLFL"
      }
    },
    {
      "cell_type": "code",
      "source": [
        "my_tuple1 = (\"car\",\"bus\",\"van\")\n",
        "my_tuple2 = (\"sun\",\"moon\",\"star\")\n",
        "my_tuple3 = my_tuple1 + my_tuple2\n",
        "print(my_tuple3)"
      ],
      "metadata": {
        "colab": {
          "base_uri": "https://localhost:8080/"
        },
        "id": "qWIgHV8rJahQ",
        "outputId": "db03b0ee-dcde-40c2-cb6b-69a18669590a"
      },
      "execution_count": 34,
      "outputs": [
        {
          "output_type": "stream",
          "name": "stdout",
          "text": [
            "('car', 'bus', 'van', 'sun', 'moon', 'star')\n"
          ]
        }
      ]
    },
    {
      "cell_type": "markdown",
      "source": [
        "vi) To sort the elements in the tuples in ascending order."
      ],
      "metadata": {
        "id": "wfXvEfQ8KrFC"
      }
    },
    {
      "cell_type": "code",
      "source": [
        "my_tuple = [\"pineapple\",\"apple\",\"orange\",\"banana\"]\n",
        "my_tuple.sort()\n",
        "print (my_tuple)"
      ],
      "metadata": {
        "colab": {
          "base_uri": "https://localhost:8080/"
        },
        "id": "iP08__BaK24f",
        "outputId": "9ccf6605-8b59-408e-b1f2-d858a84f4efb"
      },
      "execution_count": 36,
      "outputs": [
        {
          "output_type": "stream",
          "name": "stdout",
          "text": [
            "['apple', 'banana', 'orange', 'pineapple']\n"
          ]
        }
      ]
    }
  ]
}
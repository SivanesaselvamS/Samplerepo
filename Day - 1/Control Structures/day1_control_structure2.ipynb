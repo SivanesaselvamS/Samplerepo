{
  "nbformat": 4,
  "nbformat_minor": 0,
  "metadata": {
    "colab": {
      "provenance": []
    },
    "kernelspec": {
      "name": "python3",
      "display_name": "Python 3"
    },
    "language_info": {
      "name": "python"
    }
  },
  "cells": [
    {
      "cell_type": "markdown",
      "source": [
        "**2.Calculate the salary of an employee**"
      ],
      "metadata": {
        "id": "wkZ6DswicT85"
      }
    },
    {
      "cell_type": "code",
      "source": [
        "basic_salary = int(input(\"Enter the basic salary:\"))\n",
        "da = 0.4*basic_salary\n",
        "hra = 0.2*basic_salary\n",
        "ta = 7.50*basic_salary\n",
        "gross_salary=basic_salary+da+hra+ta\n",
        "tax=0.1*gross_salary\n",
        "net_salary=gross_salary-tax\n",
        "print(\"Gross_Salary = \",gross_salary)\n",
        "print(\"Net_Salary = \",net_salary)\n"
      ],
      "metadata": {
        "colab": {
          "base_uri": "https://localhost:8080/"
        },
        "id": "PJLXA8c_covA",
        "outputId": "ed2508c5-1fb8-4f41-c388-2926583b8ecf"
      },
      "execution_count": 3,
      "outputs": [
        {
          "output_type": "stream",
          "name": "stdout",
          "text": [
            "Enter the basic salary:27000\n",
            "Gross_Salary =  245700.0\n",
            "Net_Salary =  221130.0\n"
          ]
        }
      ]
    }
  ]
}
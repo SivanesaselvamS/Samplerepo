{
  "nbformat": 4,
  "nbformat_minor": 0,
  "metadata": {
    "colab": {
      "provenance": []
    },
    "kernelspec": {
      "name": "python3",
      "display_name": "Python 3"
    },
    "language_info": {
      "name": "python"
    }
  },
  "cells": [
    {
      "cell_type": "markdown",
      "source": [
        "**13.A high-speed train can travel at an average speed of 150 mph, how long will it take a train travelling at this speed to travel from London to Glasgow which is 414 miles away?**"
      ],
      "metadata": {
        "id": "vPG2O5XYBEsz"
      }
    },
    {
      "cell_type": "code",
      "source": [
        "Distance = 414\n",
        "speed = 150\n",
        "time_hours = Distance / speed\n",
        "\n",
        "hours = int(time_hours)\n",
        "minutes = (time_hours - hours) * 60\n",
        "\n",
        "print(f\"It will take {hours} hours and {minutes:.2f} minutes to travel from London to Glasgow.\")"
      ],
      "metadata": {
        "colab": {
          "base_uri": "https://localhost:8080/"
        },
        "id": "pgGzc7fSBSPI",
        "outputId": "3ad6f6cb-e8c5-44c5-c16d-4f9fe28e84df"
      },
      "execution_count": 2,
      "outputs": [
        {
          "output_type": "stream",
          "name": "stdout",
          "text": [
            "It will take 2 hours and 45.60 minutes to travel from London to Glasgow.\n"
          ]
        }
      ]
    }
  ]
}
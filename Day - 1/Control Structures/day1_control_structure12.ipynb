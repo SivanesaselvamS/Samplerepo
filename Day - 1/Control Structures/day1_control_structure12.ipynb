{
  "nbformat": 4,
  "nbformat_minor": 0,
  "metadata": {
    "colab": {
      "provenance": []
    },
    "kernelspec": {
      "name": "python3",
      "display_name": "Python 3"
    },
    "language_info": {
      "name": "python"
    }
  },
  "cells": [
    {
      "cell_type": "markdown",
      "source": [
        "**12.To print out the number of seconds in a year.**"
      ],
      "metadata": {
        "id": "ORzIInfcAL3A"
      }
    },
    {
      "cell_type": "code",
      "source": [
        "Days_per_year = 365\n",
        "hours_per_day = 24\n",
        "minutes_per_hour = 60\n",
        "seconds_per_minute = 60\n",
        "\n",
        "total_seconds = Days_per_year * hours_per_day * minutes_per_hour * seconds_per_minute\n",
        "\n",
        "print(f\"The number of seconds in a year (365 days) is: {total_seconds} seconds\")\n"
      ],
      "metadata": {
        "colab": {
          "base_uri": "https://localhost:8080/"
        },
        "id": "Lvv7qJ0MAXsl",
        "outputId": "cc03c00c-2e05-48f4-ea00-852b49d96d0f"
      },
      "execution_count": 2,
      "outputs": [
        {
          "output_type": "stream",
          "name": "stdout",
          "text": [
            "The number of seconds in a year (365 days) is: 31536000 seconds\n"
          ]
        }
      ]
    }
  ]
}
{
  "nbformat": 4,
  "nbformat_minor": 0,
  "metadata": {
    "colab": {
      "provenance": []
    },
    "kernelspec": {
      "name": "python3",
      "display_name": "Python 3"
    },
    "language_info": {
      "name": "python"
    }
  },
  "cells": [
    {
      "cell_type": "markdown",
      "source": [
        "**14.Write a python program that defines a variable called days in each school year and assign 192 to the variable. The program should then print out the total hours that you spend in school from year 7 to year 11, if each day you spend 6 hours in school days_in_each_school_year = 192**"
      ],
      "metadata": {
        "id": "2570GBYoC1Q8"
      }
    },
    {
      "cell_type": "code",
      "source": [
        "Days_in_each_school_year = 192\n",
        "years = range(7, 12)\n",
        "total_hours = sum(year * Days_in_each_school_year * 6 for year in years)\n",
        "\n",
        "print(f\"Total hours spent in school from year 7 to year 11: {total_hours} hours\")"
      ],
      "metadata": {
        "colab": {
          "base_uri": "https://localhost:8080/"
        },
        "id": "0xCG5QSZC5vf",
        "outputId": "85370b40-6a82-40aa-d133-37eff13368da"
      },
      "execution_count": 3,
      "outputs": [
        {
          "output_type": "stream",
          "name": "stdout",
          "text": [
            "Total hours spent in school from year 7 to year 11: 51840 hours\n"
          ]
        }
      ]
    }
  ]
}
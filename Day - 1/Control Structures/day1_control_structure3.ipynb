{
  "nbformat": 4,
  "nbformat_minor": 0,
  "metadata": {
    "colab": {
      "provenance": []
    },
    "kernelspec": {
      "name": "python3",
      "display_name": "Python 3"
    },
    "language_info": {
      "name": "python"
    }
  },
  "cells": [
    {
      "cell_type": "markdown",
      "source": [
        "**3.Search for a string in the given list.**"
      ],
      "metadata": {
        "id": "bHUwI5C8ebm8"
      }
    },
    {
      "cell_type": "code",
      "source": [
        "list = ['car','bike','lorry','bus']\n",
        "if \"bike\" in list:\n",
        "  print(\"bike is present in the list\")\n",
        "else:\n",
        "  print(\"bike is not present in the list\")"
      ],
      "metadata": {
        "colab": {
          "base_uri": "https://localhost:8080/"
        },
        "id": "Pr2Koe3ae-V6",
        "outputId": "e7945345-1b89-4f2d-9bb2-ea811b4a7e39"
      },
      "execution_count": 1,
      "outputs": [
        {
          "output_type": "stream",
          "name": "stdout",
          "text": [
            "bike is present in the list\n"
          ]
        }
      ]
    }
  ]
}
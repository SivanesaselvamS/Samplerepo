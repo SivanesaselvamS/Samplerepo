{
  "nbformat": 4,
  "nbformat_minor": 0,
  "metadata": {
    "colab": {
      "provenance": []
    },
    "kernelspec": {
      "name": "python3",
      "display_name": "Python 3"
    },
    "language_info": {
      "name": "python"
    }
  },
  "cells": [
    {
      "cell_type": "code",
      "execution_count": null,
      "metadata": {
        "id": "sP0_ZLDX3NMQ"
      },
      "outputs": [],
      "source": []
    },
    {
      "cell_type": "markdown",
      "source": [
        "**7. Write a python program to sum the first 10 prime numbers**."
      ],
      "metadata": {
        "id": "IdiNTvBV3OHB"
      }
    },
    {
      "cell_type": "code",
      "source": [
        "r=30\n",
        "for a in range(2,r+1):\n",
        "    k=0\n",
        "    for i in range(2,a):\n",
        "        if(a%i==0):\n",
        "            k=k+1\n",
        "    if(k<=0):\n",
        "        print(a,end=\" \")"
      ],
      "metadata": {
        "colab": {
          "base_uri": "https://localhost:8080/"
        },
        "id": "raFEnYfy3uG7",
        "outputId": "635bda42-de64-4920-df98-37e9f0060763"
      },
      "execution_count": 4,
      "outputs": [
        {
          "output_type": "stream",
          "name": "stdout",
          "text": [
            "2 3 5 7 11 13 17 19 23 29 "
          ]
        }
      ]
    }
  ]
}
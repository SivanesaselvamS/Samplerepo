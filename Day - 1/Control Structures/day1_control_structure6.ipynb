{
  "nbformat": 4,
  "nbformat_minor": 0,
  "metadata": {
    "colab": {
      "provenance": []
    },
    "kernelspec": {
      "name": "python3",
      "display_name": "Python 3"
    },
    "language_info": {
      "name": "python"
    }
  },
  "cells": [
    {
      "cell_type": "code",
      "execution_count": null,
      "metadata": {
        "id": "xJAGzx0Yz5ob"
      },
      "outputs": [],
      "source": []
    },
    {
      "cell_type": "markdown",
      "source": [
        "**6.Write a python program to print the table of any number.**"
      ],
      "metadata": {
        "id": "MSfCH8XM2BuI"
      }
    },
    {
      "cell_type": "code",
      "source": [
        "def table(n):\n",
        "    for i in range (1, 11):\n",
        "        print (\"%d * %d = %d\" % (n, i, n * i))\n",
        "n = 3\n",
        "table(n)\n",
        ""
      ],
      "metadata": {
        "colab": {
          "base_uri": "https://localhost:8080/"
        },
        "id": "L4NO0CQs2Q9x",
        "outputId": "9b2adc85-1eb4-43a0-eaf3-9e196ed23da1"
      },
      "execution_count": 6,
      "outputs": [
        {
          "output_type": "stream",
          "name": "stdout",
          "text": [
            "3 * 1 = 3\n",
            "3 * 2 = 6\n",
            "3 * 3 = 9\n",
            "3 * 4 = 12\n",
            "3 * 5 = 15\n",
            "3 * 6 = 18\n",
            "3 * 7 = 21\n",
            "3 * 8 = 24\n",
            "3 * 9 = 27\n",
            "3 * 10 = 30\n"
          ]
        }
      ]
    }
  ]
}
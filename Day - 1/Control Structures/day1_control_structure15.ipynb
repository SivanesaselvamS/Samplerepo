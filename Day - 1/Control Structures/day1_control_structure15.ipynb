{
  "nbformat": 4,
  "nbformat_minor": 0,
  "metadata": {
    "colab": {
      "provenance": []
    },
    "kernelspec": {
      "name": "python3",
      "display_name": "Python 3"
    },
    "language_info": {
      "name": "python"
    }
  },
  "cells": [
    {
      "cell_type": "markdown",
      "source": [
        "**15.If the age of Ram,Sam and Khan are input through the keyboard,write a python program to determine the eldest and youngest of the three.**"
      ],
      "metadata": {
        "id": "o5iJeYjWEe57"
      }
    },
    {
      "cell_type": "code",
      "source": [
        "ram_age = int(input(\"Enter Ram's age: \"))\n",
        "sam_age = int(input(\"Enter Sam's age: \"))\n",
        "khan_age = int(input(\"Enter Khan's age: \"))\n",
        "\n",
        "# Determine the eldest and youngest\n",
        "if ram_age >= sam_age and ram_age >= khan_age:\n",
        "    eldest = \"Ram\"\n",
        "    if sam_age <= khan_age:\n",
        "        youngest = \"Sam\"\n",
        "    else:\n",
        "        youngest = \"Khan\"\n",
        "elif sam_age >= ram_age and sam_age >= khan_age:\n",
        "    eldest = \"Sam\"\n",
        "    if ram_age <= khan_age:\n",
        "        youngest = \"Ram\"\n",
        "    else:\n",
        "        youngest = \"Khan\"\n",
        "else:\n",
        "    eldest = \"Khan\"\n",
        "    if ram_age <= sam_age:\n",
        "        youngest = \"Ram\"\n",
        "    else:\n",
        "        youngest = \"Sam\"\n",
        "\n",
        "# Print the results\n",
        "print(f\"The eldest among Ram, Sam, and Khan is: {eldest}\")\n",
        "print(f\"The youngest among Ram, Sam, and Khan is: {youngest}\")\n"
      ],
      "metadata": {
        "colab": {
          "base_uri": "https://localhost:8080/"
        },
        "id": "oOQfAljeEone",
        "outputId": "d7a53b1a-5553-4255-a75e-ce964be5dfbb"
      },
      "execution_count": 1,
      "outputs": [
        {
          "output_type": "stream",
          "name": "stdout",
          "text": [
            "Enter Ram's age: 25\n",
            "Enter Sam's age: 30\n",
            "Enter Khan's age: 45\n",
            "The eldest among Ram, Sam, and Khan is: Khan\n",
            "The youngest among Ram, Sam, and Khan is: Ram\n"
          ]
        }
      ]
    }
  ]
}
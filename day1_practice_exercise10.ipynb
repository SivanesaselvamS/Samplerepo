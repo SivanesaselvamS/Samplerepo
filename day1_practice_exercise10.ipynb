{
  "nbformat": 4,
  "nbformat_minor": 0,
  "metadata": {
    "colab": {
      "provenance": []
    },
    "kernelspec": {
      "name": "python3",
      "display_name": "Python 3"
    },
    "language_info": {
      "name": "python"
    }
  },
  "cells": [
    {
      "cell_type": "markdown",
      "source": [
        "**10.Write a python program to find the sum of all items in a tuple.**"
      ],
      "metadata": {
        "id": "AqzxvNbCLWEN"
      }
    },
    {
      "cell_type": "code",
      "source": [
        "tuple1=[10,20,30,40,50]\n",
        "for i in tuple1:\n",
        "  count = 0\n",
        "count += i\n",
        "print(sum(tuple1))"
      ],
      "metadata": {
        "colab": {
          "base_uri": "https://localhost:8080/"
        },
        "id": "vZzpTE6pLufW",
        "outputId": "f486478b-e993-4682-8ac3-2e0a0fd0b96a"
      },
      "execution_count": 4,
      "outputs": [
        {
          "output_type": "stream",
          "name": "stdout",
          "text": [
            "150\n"
          ]
        }
      ]
    }
  ]
}
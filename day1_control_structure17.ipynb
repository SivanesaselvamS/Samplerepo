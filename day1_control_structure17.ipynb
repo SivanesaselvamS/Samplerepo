{
  "nbformat": 4,
  "nbformat_minor": 0,
  "metadata": {
    "colab": {
      "provenance": []
    },
    "kernelspec": {
      "name": "python3",
      "display_name": "Python 3"
    },
    "language_info": {
      "name": "python"
    }
  },
  "cells": [
    {
      "cell_type": "markdown",
      "source": [
        "**17.**"
      ],
      "metadata": {
        "id": "RwmXjBCPHUqa"
      }
    },
    {
      "cell_type": "markdown",
      "source": [
        "i)"
      ],
      "metadata": {
        "id": "A7ZHPB0UJDJn"
      }
    },
    {
      "cell_type": "code",
      "source": [
        "n = int(input(\"Enter the number of rows: \"))\n",
        "\n",
        "def binomial_coefficient(n, k):\n",
        "    if k == 0 or k == n:\n",
        "        return 1\n",
        "    return binomial_coefficient(n - 1, k - 1) + binomial_coefficient(n - 1, k)\n",
        "\n",
        "for i in range(n):\n",
        "    for j in range(i + 1):\n",
        "        print(binomial_coefficient(i, j), end=\" \")\n",
        "    print()"
      ],
      "metadata": {
        "colab": {
          "base_uri": "https://localhost:8080/"
        },
        "id": "yGTdqIaiHr1h",
        "outputId": "6a6cd7d0-c96b-4bf1-8bd6-195490241e79"
      },
      "execution_count": 3,
      "outputs": [
        {
          "output_type": "stream",
          "name": "stdout",
          "text": [
            "Enter the number of rows: 7\n",
            "1 \n",
            "1 1 \n",
            "1 2 1 \n",
            "1 3 3 1 \n",
            "1 4 6 4 1 \n",
            "1 5 10 10 5 1 \n",
            "1 6 15 20 15 6 1 \n"
          ]
        }
      ]
    },
    {
      "cell_type": "markdown",
      "source": [
        "ii)"
      ],
      "metadata": {
        "id": "-0QJ5N6kJIGp"
      }
    },
    {
      "cell_type": "code",
      "source": [
        "get_ipython().run_line_magic('pinfo', 'python')\n",
        "\n",
        "n = 5  # Number of rows\n",
        "\n",
        "for i in range(n):\n",
        "    # Inner loop for columns\n",
        "    for j in range(i + 1):\n",
        "        print(\"*\", end=\" \")\n",
        "    print()  # Move to the next line after each row\n"
      ],
      "metadata": {
        "colab": {
          "base_uri": "https://localhost:8080/"
        },
        "id": "TY98G1kdJJtM",
        "outputId": "6da90899-4b7b-44a8-8ff4-562a52a0e4b9"
      },
      "execution_count": 11,
      "outputs": [
        {
          "output_type": "stream",
          "name": "stdout",
          "text": [
            "* \n",
            "* * \n",
            "* * * \n",
            "* * * * \n",
            "* * * * * \n"
          ]
        }
      ]
    },
    {
      "cell_type": "markdown",
      "source": [
        "iii)"
      ],
      "metadata": {
        "id": "ojikGor5JQUy"
      }
    },
    {
      "cell_type": "code",
      "source": [
        "n = int(input(\"Enter the number of rows: \"))\n",
        "\n",
        "# Loop to print the pattern\n",
        "for i in range(1, n + 1):\n",
        "    print(\" \" * (n - i), end=\"\")  # Print spaces before asterisks\n",
        "    print(\"* \" * i)  # Print asterisks with a space in between\n"
      ],
      "metadata": {
        "colab": {
          "base_uri": "https://localhost:8080/"
        },
        "id": "J9uY5vwDJR3t",
        "outputId": "3841ac2e-65b3-497d-eb3c-5092c9a55242"
      },
      "execution_count": 6,
      "outputs": [
        {
          "output_type": "stream",
          "name": "stdout",
          "text": [
            "Enter the number of rows: 7\n",
            "      * \n",
            "     * * \n",
            "    * * * \n",
            "   * * * * \n",
            "  * * * * * \n",
            " * * * * * * \n",
            "* * * * * * * \n"
          ]
        }
      ]
    },
    {
      "cell_type": "markdown",
      "source": [
        "iv)"
      ],
      "metadata": {
        "id": "MG-Gz-xtJn0t"
      }
    },
    {
      "cell_type": "code",
      "source": [
        "word = \"Python\"\n",
        "for i in range(len(word) + 1):\n",
        "    print(word[:i])\n",
        "print(\"Python\")"
      ],
      "metadata": {
        "colab": {
          "base_uri": "https://localhost:8080/"
        },
        "id": "2usylMGOJpf2",
        "outputId": "1519a133-22d6-406d-dc51-3a520d05fda8"
      },
      "execution_count": 8,
      "outputs": [
        {
          "output_type": "stream",
          "name": "stdout",
          "text": [
            "\n",
            "P\n",
            "Py\n",
            "Pyt\n",
            "Pyth\n",
            "Pytho\n",
            "Python\n",
            "Python\n"
          ]
        }
      ]
    }
  ]
}
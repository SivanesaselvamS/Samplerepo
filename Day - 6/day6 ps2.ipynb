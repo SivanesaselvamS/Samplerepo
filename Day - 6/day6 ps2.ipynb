{
 "cells": [
  {
   "cell_type": "markdown",
   "id": "4fab8f44",
   "metadata": {},
   "source": [
    "# 2.Write a python script to create a class \"Person\" with private attributes for age and name. Implement a method to calculate a person's eligibility for voting based on their age. Ensure that age cannot be accessed directly but only through a getter method.\n"
   ]
  },
  {
   "cell_type": "code",
   "execution_count": 13,
   "id": "6a30a720",
   "metadata": {},
   "outputs": [
    {
     "name": "stdout",
     "output_type": "stream",
     "text": [
      "Name: Dhoni\n",
      "Age: 45\n",
      "Eligible to vote: True\n"
     ]
    }
   ],
   "source": [
    "class Person:\n",
    "    def __init__(self, name, age):\n",
    "        self.__name = name  \n",
    "        self.__age = age    \n",
    "\n",
    "    def get_name(self):\n",
    "        return self.__name\n",
    "\n",
    "    def get_age(self):\n",
    "        return self.__age\n",
    "\n",
    "    def is_eligible_to_vote(self):\n",
    "        return self.__age >= 18\n",
    "\n",
    "# Usage example:\n",
    "person1 = Person(\"Dhoni\", 45)\n",
    "print(f\"Name: {person1.get_name()}\")\n",
    "print(f\"Age: {person1.get_age()}\")\n",
    "print(f\"Eligible to vote: {person1.is_eligible_to_vote()}\")"
   ]
  },
  {
   "cell_type": "code",
   "execution_count": 14,
   "id": "e7b7c056",
   "metadata": {},
   "outputs": [
    {
     "name": "stdout",
     "output_type": "stream",
     "text": [
      "Name: Virat\n",
      "Age: 17\n",
      "Eligible to vote: False\n"
     ]
    }
   ],
   "source": [
    "class Person:\n",
    "    def __init__(self, name, age):\n",
    "        self.__name = name  \n",
    "        self.__age = age    \n",
    "\n",
    "    def get_name(self):\n",
    "        return self.__name\n",
    "\n",
    "    def get_age(self):\n",
    "        return self.__age\n",
    "\n",
    "    def is_eligible_to_vote(self):\n",
    "        return self.__age >= 18\n",
    "\n",
    "# Usage example:\n",
    "person1 = Person(\"Virat\", 17)\n",
    "print(f\"Name: {person1.get_name()}\")\n",
    "print(f\"Age: {person1.get_age()}\")\n",
    "print(f\"Eligible to vote: {person1.is_eligible_to_vote()}\")"
   ]
  },
  {
   "cell_type": "code",
   "execution_count": null,
   "id": "e4cf8200",
   "metadata": {},
   "outputs": [],
   "source": []
  }
 ],
 "metadata": {
  "kernelspec": {
   "display_name": "Python 3 (ipykernel)",
   "language": "python",
   "name": "python3"
  },
  "language_info": {
   "codemirror_mode": {
    "name": "ipython",
    "version": 3
   },
   "file_extension": ".py",
   "mimetype": "text/x-python",
   "name": "python",
   "nbconvert_exporter": "python",
   "pygments_lexer": "ipython3",
   "version": "3.11.4"
  }
 },
 "nbformat": 4,
 "nbformat_minor": 5
}

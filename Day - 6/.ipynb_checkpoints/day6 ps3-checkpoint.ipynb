{
 "cells": [
  {
   "cell_type": "markdown",
   "id": "35fb2fe4",
   "metadata": {},
   "source": [
    "# 3.You are tasked with designing a Python class hierarchy for a simple banking system. The system should be able to handle different types of accounts, such as Savings Accounts and Checking Accounts. Both account types should have common attributes like an account number, account holder's name, and balance. However, Savings Accounts should have an additional attribute for interest rate, while Checking Accounts should have an attribute for overdraft limit."
   ]
  },
  {
   "cell_type": "code",
   "execution_count": 7,
   "id": "42564b05",
   "metadata": {},
   "outputs": [
    {
     "ename": "AttributeError",
     "evalue": "'SavingsAccount' object has no attribute '_SavingsAccount__balance'",
     "output_type": "error",
     "traceback": [
      "\u001b[1;31m---------------------------------------------------------------------------\u001b[0m",
      "\u001b[1;31mAttributeError\u001b[0m                            Traceback (most recent call last)",
      "Cell \u001b[1;32mIn[7], line 62\u001b[0m\n\u001b[0;32m     60\u001b[0m \u001b[38;5;66;03m# Deposit and withdraw from accounts\u001b[39;00m\n\u001b[0;32m     61\u001b[0m savings_account\u001b[38;5;241m.\u001b[39mdeposit(\u001b[38;5;241m1000\u001b[39m)\n\u001b[1;32m---> 62\u001b[0m savings_account\u001b[38;5;241m.\u001b[39mcalculate_interest()\n\u001b[0;32m     63\u001b[0m checking_account\u001b[38;5;241m.\u001b[39mdeposit(\u001b[38;5;241m500\u001b[39m)\n\u001b[0;32m     64\u001b[0m checking_account\u001b[38;5;241m.\u001b[39mwithdraw(\u001b[38;5;241m400\u001b[39m)\n",
      "Cell \u001b[1;32mIn[7], line 37\u001b[0m, in \u001b[0;36mSavingsAccount.calculate_interest\u001b[1;34m(self)\u001b[0m\n\u001b[0;32m     36\u001b[0m \u001b[38;5;28;01mdef\u001b[39;00m \u001b[38;5;21mcalculate_interest\u001b[39m(\u001b[38;5;28mself\u001b[39m):\n\u001b[1;32m---> 37\u001b[0m     interest \u001b[38;5;241m=\u001b[39m \u001b[38;5;28mself\u001b[39m\u001b[38;5;241m.\u001b[39m__balance \u001b[38;5;241m*\u001b[39m \u001b[38;5;28mself\u001b[39m\u001b[38;5;241m.\u001b[39m__interest_rate\n\u001b[0;32m     38\u001b[0m     \u001b[38;5;28mself\u001b[39m\u001b[38;5;241m.\u001b[39mdeposit(interest)\n",
      "\u001b[1;31mAttributeError\u001b[0m: 'SavingsAccount' object has no attribute '_SavingsAccount__balance'"
     ]
    }
   ],
   "source": [
    "class BankAccount:\n",
    "    def __init__(self, account_number, account_holder_name, balance):\n",
    "        self.__account_number = account_number\n",
    "        self.__account_holder_name = account_holder_name\n",
    "        self.__balance = balance\n",
    "\n",
    "    def get_account_number(self):\n",
    "        return self.__account_number\n",
    "\n",
    "    def get_account_holder_name(self):\n",
    "        return self.__account_holder_name\n",
    "\n",
    "    def get_balance(self):\n",
    "        return self.__balance\n",
    "\n",
    "    def deposit(self, amount):\n",
    "        if amount > 0:\n",
    "            self.__balance += amount\n",
    "        else:\n",
    "            raise ValueError(\"Amount for deposit must be greater than 0.\")\n",
    "\n",
    "    def withdraw(self, amount):\n",
    "        if 0 < amount <= self.__balance:\n",
    "            self.__balance -= amount\n",
    "        else:\n",
    "            raise ValueError(\"Invalid amount for withdrawal.\")\n",
    "\n",
    "class SavingsAccount(BankAccount):\n",
    "    def __init__(self, account_number, account_holder_name, balance, interest_rate):\n",
    "        super().__init__(account_number, account_holder_name, balance)\n",
    "        self.__interest_rate = interest_rate\n",
    "\n",
    "    def get_interest_rate(self):\n",
    "        return self.__interest_rate\n",
    "\n",
    "    def calculate_interest(self):\n",
    "        interest = self.__balance * self.__interest_rate\n",
    "        self.deposit(interest)\n",
    "\n",
    "class CheckingAccount(BankAccount):\n",
    "    def __init__(self, account_number, account_holder_name, balance, overdraft_limit):\n",
    "        super().__init__(account_number, account_holder_name, balance)\n",
    "        self.__overdraft_limit = overdraft_limit\n",
    "\n",
    "    def get_overdraft_limit(self):\n",
    "        return self.__overdraft_limit\n",
    "\n",
    "    def withdraw(self, amount):\n",
    "        if 0 < amount <= self.__balance + self.__overdraft_limit:\n",
    "            self.__balance -= amount\n",
    "        else:\n",
    "            raise ValueError(\"Invalid amount for withdrawal.\")\n",
    "\n",
    "\n",
    "if __name__ == \"__main__\":\n",
    "    \n",
    "    savings_account = SavingsAccount(\"SA123\", \"Dhoni\", 1000, 100)\n",
    "    checking_account = CheckingAccount(\"CA456\", \"virat\", 500, 200)\n",
    "\n",
    "    savings_account.deposit(1000)\n",
    "    savings_account.calculate_interest()\n",
    "    checking_account.deposit(500)\n",
    "    checking_account.withdraw(400)\n",
    "\n",
    "    print(f\"Savings Account Balance: {savings_account.get_balance()}\")\n",
    "    print(f\"Checking Account Balance: {checking_account.get_balance()}\")"
   ]
  },
  {
   "cell_type": "code",
   "execution_count": null,
   "id": "8f7c7d66",
   "metadata": {},
   "outputs": [],
   "source": []
  }
 ],
 "metadata": {
  "kernelspec": {
   "display_name": "Python 3 (ipykernel)",
   "language": "python",
   "name": "python3"
  },
  "language_info": {
   "codemirror_mode": {
    "name": "ipython",
    "version": 3
   },
   "file_extension": ".py",
   "mimetype": "text/x-python",
   "name": "python",
   "nbconvert_exporter": "python",
   "pygments_lexer": "ipython3",
   "version": "3.11.4"
  }
 },
 "nbformat": 4,
 "nbformat_minor": 5
}

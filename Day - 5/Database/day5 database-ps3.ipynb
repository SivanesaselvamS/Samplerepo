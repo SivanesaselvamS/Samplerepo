{
 "cells": [
  {
   "cell_type": "markdown",
   "id": "1fb136f6",
   "metadata": {},
   "source": [
    "# 3. You are tasked with developing a Python program that connects to a MySQL database, retrieves data from a table, performs some operations on the data, and updates the database with the modified data. Please write Python code to accomplish this task."
   ]
  },
  {
   "cell_type": "code",
   "execution_count": 1,
   "id": "505f4817",
   "metadata": {},
   "outputs": [
    {
     "name": "stdout",
     "output_type": "stream",
     "text": [
      "<mysql.connector.connection_cext.CMySQLConnection object at 0x00000195EA41F2D0>\n"
     ]
    }
   ],
   "source": [
    "import mysql.connector\n",
    "db = mysql.connector.connect(\n",
    "    host=\"127.0.0.1\",\n",
    "    user=\"root\",\n",
    "    password=\"Sivaneshsri@1520\",\n",
    "    database=\"customer_data\")\n",
    "print(db)"
   ]
  },
  {
   "cell_type": "code",
   "execution_count": 2,
   "id": "5687fe6b",
   "metadata": {},
   "outputs": [
    {
     "data": {
      "text/plain": [
       "<mysql.connector.cursor_cext.CMySQLCursor at 0x195ea439510>"
      ]
     },
     "execution_count": 2,
     "metadata": {},
     "output_type": "execute_result"
    }
   ],
   "source": [
    "cursor = db.cursor()\n",
    "cursor"
   ]
  },
  {
   "cell_type": "code",
   "execution_count": null,
   "id": "96c0c1cc",
   "metadata": {},
   "outputs": [],
   "source": [
    "cursor.execute('INSERT INTO products (product_id,product_name,price,quantity,quantity_available) VALUES (3,\"sum\",1800,15,20)')\n",
    "db.commit()"
   ]
  },
  {
   "cell_type": "code",
   "execution_count": 3,
   "id": "14b17cb6",
   "metadata": {},
   "outputs": [
    {
     "name": "stdout",
     "output_type": "stream",
     "text": [
      "Error: 1146 (42S02): Table 'customer_data.products' doesn't exist\n"
     ]
    }
   ],
   "source": [
    "import mysql.connector\n",
    "\n",
    "try:\n",
    "    \n",
    "    db_config = {\n",
    "        \"host\":\"127.0.0.1\",\n",
    "        \"port\":3306,\n",
    "        \"user\": \"root\",\n",
    "        \"password\": \"Sivaneshsri@1520\",\n",
    "        \"database\": \"customer_data\" }\n",
    "    conn = mysql.connector.connect(**db_config)\n",
    "    cursor = conn.cursor()\n",
    "    cursor.execute(\"SELECT * FROM Products\")\n",
    "    records = cursor.fetchall()\n",
    "    total_quantity = sum(record[4] for record in records)\n",
    "    update_query = \"UPDATE Products SET quantity = quantity * 2\"\n",
    "    cursor.execute(update_query)\n",
    "\n",
    "    conn.commit()\n",
    "\n",
    "    cursor.close()\n",
    "    conn.close()\n",
    "\n",
    "    print(\"Database update completed successfully.\")\n",
    "    print(f\"Total quantity before update: {total_quantity}\")\n",
    "    print(f\"Total quantity after update: {total_quantity * 2}\")\n",
    "\n",
    "except mysql.connector.Error as err:\n",
    "    print(f\"Error: {err}\")\n",
    "except Exception as e:\n",
    "    print(f\"An error occurred: {e}\")"
   ]
  },
  {
   "cell_type": "code",
   "execution_count": null,
   "id": "4687376d",
   "metadata": {},
   "outputs": [],
   "source": []
  }
 ],
 "metadata": {
  "kernelspec": {
   "display_name": "Python 3 (ipykernel)",
   "language": "python",
   "name": "python3"
  },
  "language_info": {
   "codemirror_mode": {
    "name": "ipython",
    "version": 3
   },
   "file_extension": ".py",
   "mimetype": "text/x-python",
   "name": "python",
   "nbconvert_exporter": "python",
   "pygments_lexer": "ipython3",
   "version": "3.11.4"
  }
 },
 "nbformat": 4,
 "nbformat_minor": 5
}

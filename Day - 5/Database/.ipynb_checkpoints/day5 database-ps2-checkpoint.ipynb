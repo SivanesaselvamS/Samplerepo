{
 "cells": [
  {
   "cell_type": "markdown",
   "id": "798f3fb5",
   "metadata": {},
   "source": [
    "# 2. Customer Order Processing\n",
    "\n",
    "Scenario: You are building a customer order processing system for an e-commerce company. The system needs to interact with a MySQL database to store customer orders, products, and order details\n",
    "\n",
    "1.Design a MySQL database schema for the order processing system, including tables for customers, products, and orders\n",
    "\n",
    "2.Write a Python program that connects to the database and allows customers to place new orders\n",
    "Implement a feature that calculates the total cost of an order and updates product quantities in the database\n",
    "\n",
    "3.How would you handle cases where a product is no longer available when a customer places an order?\n",
    "\n",
    "4.Develop a function to generate order reports for the company's finance department"
   ]
  },
  {
   "cell_type": "code",
   "execution_count": 6,
   "id": "eb335c0f",
   "metadata": {},
   "outputs": [
    {
     "name": "stdout",
     "output_type": "stream",
     "text": [
      "<mysql.connector.connection_cext.CMySQLConnection object at 0x000002595B717D10>\n"
     ]
    }
   ],
   "source": [
    "import mysql.connector\n",
    "db = mysql.connector.connect(\n",
    "    host=\"127.0.0.1\",\n",
    "    user=\"root\",\n",
    "    password=\"Sivaneshsri@1520\",\n",
    "    database=\"customer_data\")\n",
    "print(db)"
   ]
  },
  {
   "cell_type": "code",
   "execution_count": null,
   "id": "098eb79c",
   "metadata": {},
   "outputs": [],
   "source": [
    "cursor.execute(\"CREATE TABLE Customers(customer_id INT AUTO_INCREMENT PRIMARY KEY,first_name VARCHAR(255) NOT NULL,last_name VARCHAR(255) NOT NULL,email VARCHAR(255) NOT NULL)\")\n",
    "cursor.execute(\"CREATE TABLE Products(product_id INT AUTO_INCREMENT PRIMARY KEY,product_name VARCHAR(255) NOT NULL,price DECIMAL(10, 2) NOT NULL,quantity INT NOT NULL)\")\n",
    "cursor.execute(\"CREATE TABLE Orders(order_id INT AUTO_INCREMENT PRIMARY KEY,customer_id INT NOT NULL,order_date DATE NOT NULL,FOREIGN KEY (customer_id) REFERENCES Customers(customer_id))\")\n"
   ]
  },
  {
   "cell_type": "code",
   "execution_count": null,
   "id": "d139aa6c",
   "metadata": {},
   "outputs": [],
   "source": [
    "cursor.execute(\"alter table Orders add column total_cost INT NOT NULL \")"
   ]
  },
  {
   "cell_type": "code",
   "execution_count": null,
   "id": "30bfc681",
   "metadata": {},
   "outputs": [],
   "source": [
    "cursor.execute(\"alter table Products add column quantity_available INT NOT NULL \")"
   ]
  },
  {
   "cell_type": "code",
   "execution_count": 7,
   "id": "984da7b3",
   "metadata": {},
   "outputs": [
    {
     "ename": "NameError",
     "evalue": "name 'cursor' is not defined",
     "output_type": "error",
     "traceback": [
      "\u001b[1;31m---------------------------------------------------------------------------\u001b[0m",
      "\u001b[1;31mNameError\u001b[0m                                 Traceback (most recent call last)",
      "Cell \u001b[1;32mIn[7], line 21\u001b[0m\n\u001b[0;32m     19\u001b[0m     db\u001b[38;5;241m.\u001b[39mcommit()\n\u001b[0;32m     20\u001b[0m     \u001b[38;5;28mprint\u001b[39m(\u001b[38;5;124m\"\u001b[39m\u001b[38;5;124mOrder placed successfully.\u001b[39m\u001b[38;5;124m\"\u001b[39m)\n\u001b[1;32m---> 21\u001b[0m place_order(\u001b[38;5;241m1\u001b[39m, \u001b[38;5;241m101\u001b[39m, \u001b[38;5;241m3\u001b[39m)\n",
      "Cell \u001b[1;32mIn[7], line 3\u001b[0m, in \u001b[0;36mplace_order\u001b[1;34m(customer_id, product_id, quantity)\u001b[0m\n\u001b[0;32m      1\u001b[0m \u001b[38;5;28;01mdef\u001b[39;00m \u001b[38;5;21mplace_order\u001b[39m(customer_id, product_id, quantity):\n\u001b[0;32m      2\u001b[0m     \u001b[38;5;66;03m# Check if the product is available\u001b[39;00m\n\u001b[1;32m----> 3\u001b[0m     cursor\u001b[38;5;241m.\u001b[39mexecute(\u001b[38;5;124m\"\u001b[39m\u001b[38;5;124mSELECT quantity_available FROM Products WHERE product_id = \u001b[39m\u001b[38;5;132;01m%s\u001b[39;00m\u001b[38;5;124m\"\u001b[39m, (product_id,))\n\u001b[0;32m      4\u001b[0m     available_quantity \u001b[38;5;241m=\u001b[39m \u001b[38;5;241m1\u001b[39m\n\u001b[0;32m      6\u001b[0m     \u001b[38;5;28;01mif\u001b[39;00m available_quantity \u001b[38;5;241m<\u001b[39m quantity:\n",
      "\u001b[1;31mNameError\u001b[0m: name 'cursor' is not defined"
     ]
    }
   ],
   "source": [
    "def place_order(customer_id, product_id, quantity):\n",
    "    \n",
    "    cursor.execute(\"SELECT quantity_available FROM Products WHERE product_id = %s\", (product_id,))\n",
    "    available_quantity = 1\n",
    "\n",
    "    if available_quantity < quantity:\n",
    "        print(\"Product not available in the desired quantity.\")\n",
    "        return\n",
    "\n",
    "    cursor.execute(\"SELECT price FROM Products WHERE product_id = %s\", (product_id,))\n",
    "    unit_price = cursor.fetchone()[0]\n",
    "    total_cost = unit_price * quantity\n",
    "    cursor.execute(\"INSERT INTO Orders (customer_id, total_cost) VALUES (%s, %s)\", (customer_id, total_cost))\n",
    "    order_id = cursor.lastrowid\n",
    "    cursor.execute(\"INSERT INTO OrderDetails (order_id, product_id, quantity, unit_price) VALUES (%s, %s, %s, %s)\",(order_id, product_id, quantity, unit_price))\n",
    "    new_quantity = available_quantity - quantity\n",
    "    cursor.execute(\"UPDATE Products SET quantity_available = %s WHERE product_id = %s\", (new_quantity, product_id))\n",
    "    db.commit()\n",
    "    print(\"Order placed successfully.\")\n",
    "place_order(1, 101, 3) "
   ]
  },
  {
   "cell_type": "code",
   "execution_count": 8,
   "id": "7a18bd14",
   "metadata": {},
   "outputs": [
    {
     "ename": "NameError",
     "evalue": "name 'cursor' is not defined",
     "output_type": "error",
     "traceback": [
      "\u001b[1;31m---------------------------------------------------------------------------\u001b[0m",
      "\u001b[1;31mNameError\u001b[0m                                 Traceback (most recent call last)",
      "Cell \u001b[1;32mIn[8], line 17\u001b[0m\n\u001b[0;32m     15\u001b[0m     \u001b[38;5;28;01mfor\u001b[39;00m order \u001b[38;5;129;01min\u001b[39;00m orders:\n\u001b[0;32m     16\u001b[0m         \u001b[38;5;28mprint\u001b[39m(\u001b[38;5;124mf\u001b[39m\u001b[38;5;124m\"\u001b[39m\u001b[38;5;132;01m{\u001b[39;00morder[\u001b[38;5;241m0\u001b[39m]\u001b[38;5;132;01m}\u001b[39;00m\u001b[38;5;124m \u001b[39m\u001b[38;5;132;01m{\u001b[39;00morder[\u001b[38;5;241m1\u001b[39m]\u001b[38;5;132;01m}\u001b[39;00m\u001b[38;5;130;01m\\t\u001b[39;00m\u001b[38;5;132;01m{\u001b[39;00morder[\u001b[38;5;241m2\u001b[39m]\u001b[38;5;132;01m}\u001b[39;00m\u001b[38;5;130;01m\\t\u001b[39;00m\u001b[38;5;124m$\u001b[39m\u001b[38;5;132;01m{\u001b[39;00morder[\u001b[38;5;241m3\u001b[39m]\u001b[38;5;132;01m:\u001b[39;00m\u001b[38;5;124m.2f\u001b[39m\u001b[38;5;132;01m}\u001b[39;00m\u001b[38;5;124m\"\u001b[39m)\n\u001b[1;32m---> 17\u001b[0m generate_order_report(\u001b[38;5;124m\"\u001b[39m\u001b[38;5;124m2023-01-01\u001b[39m\u001b[38;5;124m\"\u001b[39m, \u001b[38;5;124m\"\u001b[39m\u001b[38;5;124m2023-12-31\u001b[39m\u001b[38;5;124m\"\u001b[39m)\n",
      "Cell \u001b[1;32mIn[8], line 2\u001b[0m, in \u001b[0;36mgenerate_order_report\u001b[1;34m(start_date, end_date)\u001b[0m\n\u001b[0;32m      1\u001b[0m \u001b[38;5;28;01mdef\u001b[39;00m \u001b[38;5;21mgenerate_order_report\u001b[39m(start_date, end_date):\n\u001b[1;32m----> 2\u001b[0m     cursor\u001b[38;5;241m.\u001b[39mexecute(\u001b[38;5;124m\"\u001b[39m\u001b[38;5;124mSELECT Customers.first_name, Customers.last_name, Orders.order_date, Orders.total_cost \u001b[39m\u001b[38;5;124m\"\u001b[39m\n\u001b[0;32m      3\u001b[0m                    \u001b[38;5;124m\"\u001b[39m\u001b[38;5;124mFROM Customers \u001b[39m\u001b[38;5;124m\"\u001b[39m\n\u001b[0;32m      4\u001b[0m                    \u001b[38;5;124m\"\u001b[39m\u001b[38;5;124mJOIN Orders ON Customers.customer_id = Orders.customer_id \u001b[39m\u001b[38;5;124m\"\u001b[39m\n\u001b[0;32m      5\u001b[0m                    \u001b[38;5;124m\"\u001b[39m\u001b[38;5;124mWHERE Orders.order_date BETWEEN \u001b[39m\u001b[38;5;132;01m%s\u001b[39;00m\u001b[38;5;124m AND \u001b[39m\u001b[38;5;132;01m%s\u001b[39;00m\u001b[38;5;124m\"\u001b[39m, (start_date, end_date))\n\u001b[0;32m      7\u001b[0m     orders \u001b[38;5;241m=\u001b[39m cursor\u001b[38;5;241m.\u001b[39mfetchall()\n\u001b[0;32m      9\u001b[0m     \u001b[38;5;28;01mif\u001b[39;00m \u001b[38;5;129;01mnot\u001b[39;00m orders:\n",
      "\u001b[1;31mNameError\u001b[0m: name 'cursor' is not defined"
     ]
    }
   ],
   "source": [
    "def generate_order_report(start_date, end_date):\n",
    "    cursor.execute(\"SELECT Customers.first_name, Customers.last_name, Orders.order_date, Orders.total_cost \"\n",
    "                   \"FROM Customers \"\n",
    "                   \"JOIN Orders ON Customers.customer_id = Orders.customer_id \"\n",
    "                   \"WHERE Orders.order_date BETWEEN %s AND %s\", (start_date, end_date))\n",
    "    \n",
    "    orders = cursor.fetchall()\n",
    "\n",
    "    if not orders:\n",
    "        print(\"No orders found for the specified date range.\")\n",
    "        return\n",
    "\n",
    "    print(\"Order Report:\")\n",
    "    print(\"Customer Name\\tOrder Date\\tTotal Cost\")\n",
    "    for order in orders:\n",
    "        print(f\"{order[0]} {order[1]}\\t{order[2]}\\t${order[3]:.2f}\")\n",
    "generate_order_report(\"2023-01-01\", \"2023-12-31\")\n"
   ]
  },
  {
   "cell_type": "code",
   "execution_count": null,
   "id": "7f0fd2a0",
   "metadata": {},
   "outputs": [],
   "source": []
  }
 ],
 "metadata": {
  "kernelspec": {
   "display_name": "Python 3 (ipykernel)",
   "language": "python",
   "name": "python3"
  },
  "language_info": {
   "codemirror_mode": {
    "name": "ipython",
    "version": 3
   },
   "file_extension": ".py",
   "mimetype": "text/x-python",
   "name": "python",
   "nbconvert_exporter": "python",
   "pygments_lexer": "ipython3",
   "version": "3.11.4"
  }
 },
 "nbformat": 4,
 "nbformat_minor": 5
}

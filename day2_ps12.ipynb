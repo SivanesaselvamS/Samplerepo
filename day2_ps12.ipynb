{
  "nbformat": 4,
  "nbformat_minor": 0,
  "metadata": {
    "colab": {
      "provenance": []
    },
    "kernelspec": {
      "name": "python3",
      "display_name": "Python 3"
    },
    "language_info": {
      "name": "python"
    }
  },
  "cells": [
    {
      "cell_type": "markdown",
      "source": [
        "**12.Find the number of digits and sum of digits for a given integer.**"
      ],
      "metadata": {
        "id": "JT55bGjFnv8x"
      }
    },
    {
      "cell_type": "code",
      "source": [
        "num = [10,20,30,40,50]\n",
        "print(len(num))\n",
        "print(sum(num))"
      ],
      "metadata": {
        "colab": {
          "base_uri": "https://localhost:8080/"
        },
        "id": "qteHCFYfn--7",
        "outputId": "02d6d105-4c6e-48c2-e403-3aff9a9d58dd"
      },
      "execution_count": 2,
      "outputs": [
        {
          "output_type": "stream",
          "name": "stdout",
          "text": [
            "5\n",
            "150\n"
          ]
        }
      ]
    }
  ]
}
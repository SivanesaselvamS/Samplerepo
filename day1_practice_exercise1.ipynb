{
  "nbformat": 4,
  "nbformat_minor": 0,
  "metadata": {
    "colab": {
      "provenance": []
    },
    "kernelspec": {
      "name": "python3",
      "display_name": "Python 3"
    },
    "language_info": {
      "name": "python"
    }
  },
  "cells": [
    {
      "cell_type": "code",
      "execution_count": null,
      "metadata": {
        "id": "e1qFwqjP4jr7"
      },
      "outputs": [],
      "source": []
    },
    {
      "cell_type": "markdown",
      "source": [
        "**1.Manipulate using a list.**"
      ],
      "metadata": {
        "id": "f9O--PYt8o9H"
      }
    },
    {
      "cell_type": "markdown",
      "source": [
        "i) To add new elements to the end of the list"
      ],
      "metadata": {
        "id": "2bYRc6TTRD-P"
      }
    },
    {
      "cell_type": "code",
      "source": [
        "my_list = ['java','python']\n",
        "my_list.append('Html')\n",
        "print (my_list)"
      ],
      "metadata": {
        "colab": {
          "base_uri": "https://localhost:8080/"
        },
        "id": "8xKbTc7d8psN",
        "outputId": "fecee7ba-d28a-4bc2-b344-e77bb5a3e74a"
      },
      "execution_count": 5,
      "outputs": [
        {
          "output_type": "stream",
          "name": "stdout",
          "text": [
            "['java', 'python', 'Html']\n"
          ]
        }
      ]
    },
    {
      "cell_type": "code",
      "source": [
        "ii) To Reverse elements in a list."
      ],
      "metadata": {
        "id": "koZQK-NL8XSE"
      },
      "execution_count": null,
      "outputs": []
    },
    {
      "cell_type": "code",
      "source": [
        "my_list = ['java','python']\n",
        "my_list.reverse()\n",
        "print (my_list)"
      ],
      "metadata": {
        "colab": {
          "base_uri": "https://localhost:8080/"
        },
        "id": "YTGL_cNG-TSk",
        "outputId": "0cf8345d-25d5-4a5a-c563-dd1b7fb468fa"
      },
      "execution_count": 6,
      "outputs": [
        {
          "output_type": "stream",
          "name": "stdout",
          "text": [
            "['python', 'java']\n"
          ]
        }
      ]
    },
    {
      "cell_type": "code",
      "source": [
        "iii) To Display the same list of elements multiple times."
      ],
      "metadata": {
        "id": "FovqJxwZ-Klc"
      },
      "execution_count": null,
      "outputs": []
    },
    {
      "cell_type": "code",
      "source": [
        "my_list = ['Python!']\n",
        "my_list = 5*(my_list)\n",
        "print (my_list)\n"
      ],
      "metadata": {
        "colab": {
          "base_uri": "https://localhost:8080/"
        },
        "id": "JA4hU2eg_AYU",
        "outputId": "2d4f73e0-ba23-496c-e900-44fb9a2361f9"
      },
      "execution_count": 15,
      "outputs": [
        {
          "output_type": "stream",
          "name": "stdout",
          "text": [
            "['Python!', 'Python!', 'Python!', 'Python!', 'Python!']\n"
          ]
        }
      ]
    },
    {
      "cell_type": "markdown",
      "source": [
        "iv) To Concatenate two list"
      ],
      "metadata": {
        "id": "YB9IiY0MBjWJ"
      }
    },
    {
      "cell_type": "code",
      "source": [
        "my_list1 = [\"a\",\"b\",\"c\"]\n",
        "my_list2 = [1,2,3]\n",
        "my_list1.extend(my_list2)\n",
        "print (my_list1)"
      ],
      "metadata": {
        "colab": {
          "base_uri": "https://localhost:8080/"
        },
        "id": "X9NYVAF8BxRM",
        "outputId": "18efdff4-fca8-4b5f-9995-07e4a10b5103"
      },
      "execution_count": 16,
      "outputs": [
        {
          "output_type": "stream",
          "name": "stdout",
          "text": [
            "['a', 'b', 'c', 1, 2, 3]\n"
          ]
        }
      ]
    },
    {
      "cell_type": "markdown",
      "source": [
        "V) To sort the elements in the list in ascending order."
      ],
      "metadata": {
        "id": "ZzL5oaMZEvL8"
      }
    },
    {
      "cell_type": "code",
      "source": [
        "my_list = [\"car\",\"bike\",\"lorry\",\"van\"]\n",
        "my_list.sort()\n",
        "print (my_list)"
      ],
      "metadata": {
        "colab": {
          "base_uri": "https://localhost:8080/"
        },
        "id": "XIbM1TmtFLOC",
        "outputId": "2bfe4c1b-3ad5-44fe-9e14-0e1976c16aac"
      },
      "execution_count": 18,
      "outputs": [
        {
          "output_type": "stream",
          "name": "stdout",
          "text": [
            "['bike', 'car', 'lorry', 'van']\n"
          ]
        }
      ]
    },
    {
      "cell_type": "code",
      "source": [],
      "metadata": {
        "id": "mtlv_JEoOF8r"
      },
      "execution_count": null,
      "outputs": []
    },
    {
      "cell_type": "markdown",
      "source": [],
      "metadata": {
        "id": "Xj41V0UeEahB"
      }
    },
    {
      "cell_type": "markdown",
      "source": [],
      "metadata": {
        "id": "ORWd4Ea6K7WB"
      }
    },
    {
      "cell_type": "markdown",
      "source": [],
      "metadata": {
        "id": "1HeySPncK6CZ"
      }
    },
    {
      "cell_type": "markdown",
      "source": [],
      "metadata": {
        "id": "Ou6LUt7PEorO"
      }
    },
    {
      "cell_type": "code",
      "source": [],
      "metadata": {
        "id": "Ym3mflyCEm6g"
      },
      "execution_count": null,
      "outputs": []
    },
    {
      "cell_type": "markdown",
      "source": [],
      "metadata": {
        "id": "2ZQ7qwZjEnXa"
      }
    },
    {
      "cell_type": "markdown",
      "source": [
        "\n"
      ],
      "metadata": {
        "id": "gPRT66g3_DAf"
      }
    },
    {
      "cell_type": "markdown",
      "source": [],
      "metadata": {
        "id": "E3n2YchH-OCP"
      }
    },
    {
      "cell_type": "markdown",
      "source": [],
      "metadata": {
        "id": "QTu04eH59t60"
      }
    },
    {
      "cell_type": "markdown",
      "source": [],
      "metadata": {
        "id": "rdwRo9d29u95"
      }
    },
    {
      "cell_type": "markdown",
      "source": [],
      "metadata": {
        "id": "LJ6f1WA66hF1"
      }
    },
    {
      "cell_type": "code",
      "source": [],
      "metadata": {
        "id": "TWCX3BjR8Nhu"
      },
      "execution_count": null,
      "outputs": []
    },
    {
      "cell_type": "markdown",
      "source": [],
      "metadata": {
        "id": "-RJJ2ZU88CCH"
      }
    },
    {
      "cell_type": "code",
      "source": [],
      "metadata": {
        "id": "zigR6lfs8Clj"
      },
      "execution_count": null,
      "outputs": []
    },
    {
      "cell_type": "code",
      "source": [],
      "metadata": {
        "id": "nINWyBki6hiY"
      },
      "execution_count": null,
      "outputs": []
    },
    {
      "cell_type": "code",
      "source": [],
      "metadata": {
        "id": "LpxULwZp6hz9"
      },
      "execution_count": null,
      "outputs": []
    },
    {
      "cell_type": "markdown",
      "source": [],
      "metadata": {
        "id": "hzv664Ay5yOe"
      }
    },
    {
      "cell_type": "code",
      "source": [],
      "metadata": {
        "id": "urRzmDE95yni"
      },
      "execution_count": null,
      "outputs": []
    },
    {
      "cell_type": "code",
      "source": [],
      "metadata": {
        "id": "o79uDvRI5ss6"
      },
      "execution_count": null,
      "outputs": []
    },
    {
      "cell_type": "markdown",
      "source": [],
      "metadata": {
        "id": "JQzgqMtL5t6w"
      }
    }
  ]
}
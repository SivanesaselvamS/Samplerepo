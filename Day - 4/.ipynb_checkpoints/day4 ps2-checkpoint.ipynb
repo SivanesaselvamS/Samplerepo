{
 "cells": [
  {
   "cell_type": "markdown",
   "id": "f3840919",
   "metadata": {},
   "source": [
    "# 2.Write a python program with exception handling to input electricity unit charges and calculate the total electricity bill according to the given condition:\n",
    "    \n",
    "     i) For the first 50 units Rs. 0.50/unit\n",
    "     ii) For the next 100 units Rs. 0.75/unit\n",
    "     iii) For the next 50 units Rs. 1.20/unit\n",
    "     iv) For units above 250 Rs. 1.50/unit\n",
    "      v) An additional surcharge of 20% is added to the bill."
   ]
  },
  {
   "cell_type": "code",
   "execution_count": 3,
   "id": "b13a2c57",
   "metadata": {},
   "outputs": [
    {
     "name": "stdout",
     "output_type": "stream",
     "text": [
      "Enter the electricity unit charges: 1000\n",
      "Total Electricity Bill: Rs. 1632.00\n"
     ]
    }
   ],
   "source": [
    "try:\n",
    "    \n",
    "    units = float(input(\"Enter the electricity unit charges: \"))\n",
    "\n",
    "    if units <= 50:\n",
    "        total_bill = units * 0.50\n",
    "    elif units <= 150:\n",
    "        total_bill = 50 * 0.50 + (units - 50) * 0.75\n",
    "    elif units <= 200:\n",
    "        total_bill = 50 * 0.50 + 100 * 0.75 + (units - 150) * 1.20\n",
    "    else:\n",
    "        total_bill = 50 * 0.50 + 100 * 0.75 + 50 * 1.20 + (units - 200) * 1.50\n",
    "\n",
    "    # Add a 20% surcharge\n",
    "    total_bill += total_bill * 0.20\n",
    "\n",
    "    \n",
    "    print(f\"Total Electricity Bill: Rs. {total_bill:.2f}\")\n",
    "\n",
    "except ValueError:\n",
    "    print(\"Invalid input. Please enter a valid number of units.\")\n",
    "except Exception as e:\n",
    "    print(f\"An error occurred: {e}\")"
   ]
  },
  {
   "cell_type": "code",
   "execution_count": null,
   "id": "0ff40a02",
   "metadata": {},
   "outputs": [],
   "source": []
  }
 ],
 "metadata": {
  "kernelspec": {
   "display_name": "Python 3 (ipykernel)",
   "language": "python",
   "name": "python3"
  },
  "language_info": {
   "codemirror_mode": {
    "name": "ipython",
    "version": 3
   },
   "file_extension": ".py",
   "mimetype": "text/x-python",
   "name": "python",
   "nbconvert_exporter": "python",
   "pygments_lexer": "ipython3",
   "version": "3.11.4"
  }
 },
 "nbformat": 4,
 "nbformat_minor": 5
}

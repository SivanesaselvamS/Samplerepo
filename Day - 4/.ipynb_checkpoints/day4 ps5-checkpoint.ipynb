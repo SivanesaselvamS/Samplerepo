{
 "cells": [
  {
   "cell_type": "markdown",
   "id": "94745d30",
   "metadata": {},
   "source": [
    "# 5.Writea python program for finding the most frequent words in a text read from a file."
   ]
  },
  {
   "cell_type": "code",
   "execution_count": 12,
   "id": "cb9d868d",
   "metadata": {},
   "outputs": [
    {
     "name": "stdout",
     "output_type": "stream",
     "text": [
      "topic: 3\n",
      "is: 2\n",
      "day1: 1\n",
      "are: 1\n",
      "introduction: 1\n",
      "some: 1\n",
      "other: 1\n",
      "language: 1\n",
      "fundamendals: 1\n",
      "last: 1\n",
      "control: 1\n",
      "structure: 1\n"
     ]
    }
   ],
   "source": [
    "from collections import Counter\n",
    "\n",
    "with open('one.txt', 'r') as file:\n",
    "    \n",
    "    words = file.read().lower().split()\n",
    "\n",
    "word_count = Counter(words)\n",
    "\n",
    "most_common_words = word_count.most_common()\n",
    "for word, count in most_common_words:\n",
    "    print(f'{word}: {count}')"
   ]
  },
  {
   "cell_type": "code",
   "execution_count": null,
   "id": "ca317689",
   "metadata": {},
   "outputs": [],
   "source": []
  }
 ],
 "metadata": {
  "kernelspec": {
   "display_name": "Python 3 (ipykernel)",
   "language": "python",
   "name": "python3"
  },
  "language_info": {
   "codemirror_mode": {
    "name": "ipython",
    "version": 3
   },
   "file_extension": ".py",
   "mimetype": "text/x-python",
   "name": "python",
   "nbconvert_exporter": "python",
   "pygments_lexer": "ipython3",
   "version": "3.11.4"
  }
 },
 "nbformat": 4,
 "nbformat_minor": 5
}

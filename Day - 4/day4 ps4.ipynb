{
 "cells": [
  {
   "cell_type": "markdown",
   "id": "53fefadb",
   "metadata": {},
   "source": [
    "# 4. Write a Python program to implement word count using command line arguments\n",
    "\n",
    "i) Create a text document \"apple.txt\" whch contains text for wordcount.\n",
    "\n",
    "ii) Create a wordcount program which calls the \"apple.txt\" document by opening the file.\n",
    "\n",
    "iii) If the word is present again in the \"aaple.txt\",the wordcount is incremented by 1 until all the words are counted in the document.\n",
    "\n",
    "iv) Close the file.\n",
    "\n",
    "v) Create a command.py program which imports the wordcount py program\n",
    "\n",
    "vi) Count the number of words using command line arguments.\n",
    "\n",
    "vii) Print each word and its count."
   ]
  },
  {
   "cell_type": "code",
   "execution_count": 1,
   "id": "d2d4e63c",
   "metadata": {},
   "outputs": [
    {
     "ename": "ModuleNotFoundError",
     "evalue": "No module named 'wordcount'",
     "output_type": "error",
     "traceback": [
      "\u001b[1;31m---------------------------------------------------------------------------\u001b[0m",
      "\u001b[1;31mModuleNotFoundError\u001b[0m                       Traceback (most recent call last)",
      "Cell \u001b[1;32mIn[1], line 27\u001b[0m\n\u001b[0;32m     24\u001b[0m     \u001b[38;5;28mprint\u001b[39m(word_count_result)\n\u001b[0;32m     26\u001b[0m \u001b[38;5;28;01mimport\u001b[39;00m \u001b[38;5;21;01msys\u001b[39;00m\n\u001b[1;32m---> 27\u001b[0m \u001b[38;5;28;01mfrom\u001b[39;00m \u001b[38;5;21;01mwordcount\u001b[39;00m \u001b[38;5;28;01mimport\u001b[39;00m count_words\n\u001b[0;32m     29\u001b[0m \u001b[38;5;28;01mif\u001b[39;00m \u001b[38;5;18m__name__\u001b[39m \u001b[38;5;241m==\u001b[39m \u001b[38;5;124m\"\u001b[39m\u001b[38;5;124m_main_\u001b[39m\u001b[38;5;124m\"\u001b[39m:\n\u001b[0;32m     30\u001b[0m     \u001b[38;5;28;01mif\u001b[39;00m \u001b[38;5;28mlen\u001b[39m(sys\u001b[38;5;241m.\u001b[39margv) \u001b[38;5;241m!=\u001b[39m \u001b[38;5;241m2\u001b[39m:\n",
      "\u001b[1;31mModuleNotFoundError\u001b[0m: No module named 'wordcount'"
     ]
    }
   ],
   "source": [
    "def count_words(file_path):\n",
    "    word_count = {}\n",
    "\n",
    "    try:\n",
    "        with open(file_path, 'r') as file:\n",
    "            for line in file:\n",
    "                words = line.split()\n",
    "                for word in words:\n",
    "                    word = word.strip('.,!?()[]{}\"\\'').lower()\n",
    "                    if word:\n",
    "                        word_count[word] = word_count.get(word, 0) + 1\n",
    "\n",
    "    except FileNotFoundError:\n",
    "        print(f\"File not found: {file_path}\")\n",
    "    except Exception as e:\n",
    "        print(f\"An error occurred: {e}\")\n",
    "\n",
    "    return word_count\n",
    "\n",
    "if __name__ == \"_main_\":\n",
    "    file_path = \"one.txt\"\n",
    "    word_count_result = count_words(file_path)\n",
    "    print(word_count_result)\n",
    "    \n",
    "import sys\n",
    "from wordcount import count_words\n",
    "\n",
    "if __name__ == \"_main_\":\n",
    "    if len(sys.argv) != 2:\n",
    "        print(\"Usage: python command.py <file_path>\")\n",
    "    else:\n",
    "        file_path = sys.argv[1]\n",
    "        word_count_result = count_words(file_path)\n",
    "\n",
    "        for word, count in word_count_result.items():\n",
    "            print(f\"{word}: {count}\")"
   ]
  },
  {
   "cell_type": "code",
   "execution_count": null,
   "id": "ffa298c4",
   "metadata": {},
   "outputs": [],
   "source": []
  }
 ],
 "metadata": {
  "kernelspec": {
   "display_name": "Python 3 (ipykernel)",
   "language": "python",
   "name": "python3"
  },
  "language_info": {
   "codemirror_mode": {
    "name": "ipython",
    "version": 3
   },
   "file_extension": ".py",
   "mimetype": "text/x-python",
   "name": "python",
   "nbconvert_exporter": "python",
   "pygments_lexer": "ipython3",
   "version": "3.11.4"
  }
 },
 "nbformat": 4,
 "nbformat_minor": 5
}

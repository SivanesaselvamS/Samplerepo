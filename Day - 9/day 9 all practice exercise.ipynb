{
 "cells": [
  {
   "cell_type": "markdown",
   "id": "5d27fa1a",
   "metadata": {},
   "source": [
    "# 1.Create a 3x3x3 array with random values using numpy"
   ]
  },
  {
   "cell_type": "code",
   "execution_count": 3,
   "id": "ba32c30f",
   "metadata": {},
   "outputs": [
    {
     "name": "stdout",
     "output_type": "stream",
     "text": [
      "[[[0.40686263 0.3105857  0.53541663]\n",
      "  [0.73910527 0.85156568 0.56248259]\n",
      "  [0.2356392  0.06589492 0.5763424 ]]\n",
      "\n",
      " [[0.91903713 0.62567429 0.38494436]\n",
      "  [0.63388618 0.278327   0.27334822]\n",
      "  [0.00857764 0.10688649 0.46706461]]\n",
      "\n",
      " [[0.94745922 0.01185644 0.4033047 ]\n",
      "  [0.00487848 0.19499925 0.85291651]\n",
      "  [0.16080167 0.35945091 0.25120414]]]\n"
     ]
    }
   ],
   "source": [
    "import numpy as np\n",
    "\n",
    "array_3x3x3 = np.random.rand(3, 3, 3)\n",
    "\n",
    "print (array_3x3x3)\n"
   ]
  },
  {
   "cell_type": "code",
   "execution_count": null,
   "id": "a61995d6",
   "metadata": {},
   "outputs": [],
   "source": []
  },
  {
   "cell_type": "markdown",
   "id": "0fdc78c5",
   "metadata": {},
   "source": [
    "# 2.Create a 5x5 matrix with values 1,2,3,4 just below the diagonal"
   ]
  },
  {
   "cell_type": "code",
   "execution_count": 4,
   "id": "691e60d8",
   "metadata": {},
   "outputs": [
    {
     "name": "stdout",
     "output_type": "stream",
     "text": [
      "[[0. 0. 0. 0. 0.]\n",
      " [1. 0. 0. 0. 0.]\n",
      " [0. 2. 0. 0. 0.]\n",
      " [0. 0. 3. 0. 0.]\n",
      " [0. 0. 0. 4. 0.]]\n"
     ]
    }
   ],
   "source": [
    "import numpy as np\n",
    "\n",
    "matrix = np.zeros((5, 5))\n",
    "\n",
    "np.fill_diagonal(matrix[1:], [1, 2, 3, 4])\n",
    "\n",
    "print(matrix)\n"
   ]
  },
  {
   "cell_type": "code",
   "execution_count": null,
   "id": "fd238769",
   "metadata": {},
   "outputs": [],
   "source": []
  },
  {
   "cell_type": "markdown",
   "id": "3f09acf5",
   "metadata": {},
   "source": [
    "# 3.Create a 8x8 matrix and fill it with a checkerboard pattern."
   ]
  },
  {
   "cell_type": "code",
   "execution_count": 5,
   "id": "35c7d5a0",
   "metadata": {},
   "outputs": [
    {
     "name": "stdout",
     "output_type": "stream",
     "text": [
      "[[1 0 1 0 1 0 1 0]\n",
      " [0 1 0 1 0 1 0 1]\n",
      " [1 0 1 0 1 0 1 0]\n",
      " [0 1 0 1 0 1 0 1]\n",
      " [1 0 1 0 1 0 1 0]\n",
      " [0 1 0 1 0 1 0 1]\n",
      " [1 0 1 0 1 0 1 0]\n",
      " [0 1 0 1 0 1 0 1]]\n"
     ]
    }
   ],
   "source": [
    "import numpy as np\n",
    "\n",
    "matrix = np.zeros((8, 8), dtype=int)\n",
    "\n",
    "matrix[::2, ::2] = 1\n",
    "\n",
    "matrix[1::2, 1::2] = 1\n",
    "\n",
    "print(matrix)\n"
   ]
  },
  {
   "cell_type": "code",
   "execution_count": null,
   "id": "6fe222b3",
   "metadata": {},
   "outputs": [],
   "source": []
  },
  {
   "cell_type": "markdown",
   "id": "3c1f903c",
   "metadata": {},
   "source": [
    "# 4.Normalize a 5 * 5 random matrix"
   ]
  },
  {
   "cell_type": "code",
   "execution_count": 6,
   "id": "826c6838",
   "metadata": {},
   "outputs": [
    {
     "name": "stdout",
     "output_type": "stream",
     "text": [
      "Original matrix:\n",
      "[[0.38999573 0.87996604 0.35594942 0.66242398 0.46494793]\n",
      " [0.09883162 0.00569078 0.24689009 0.19873564 0.02814585]\n",
      " [0.17047443 0.7182126  0.95970795 0.01133439 0.73201677]\n",
      " [0.33824518 0.50706955 0.16903868 0.31685937 0.88770429]\n",
      " [0.46214356 0.55877637 0.39813118 0.31693121 0.15643372]]\n",
      "\n",
      "Normalized matrix:\n",
      "[[0.40636918 0.91691023 0.37089348 0.69023496 0.48446815]\n",
      " [0.10298093 0.0059297  0.25725543 0.20707928 0.02932752]\n",
      " [0.17763157 0.74836579 1.         0.01181025 0.76274951]\n",
      " [0.35244595 0.52835818 0.17613554 0.33016229 0.92497336]\n",
      " [0.48154604 0.58223585 0.41484619 0.33023714 0.16300138]]\n"
     ]
    }
   ],
   "source": [
    "import numpy as np\n",
    "\n",
    "random_matrix = np.random.rand(5, 5)\n",
    "\n",
    "max_value = random_matrix.max()\n",
    "\n",
    "normalized_matrix = random_matrix / max_value\n",
    "\n",
    "print(\"Original matrix:\")\n",
    "print(random_matrix)\n",
    "\n",
    "print(\"\\nNormalized matrix:\")\n",
    "print(normalized_matrix)\n"
   ]
  },
  {
   "cell_type": "code",
   "execution_count": null,
   "id": "a16ce12f",
   "metadata": {},
   "outputs": [],
   "source": []
  },
  {
   "cell_type": "markdown",
   "id": "d97bc3d6",
   "metadata": {},
   "source": [
    "# 5.How to find common values between two arrays?"
   ]
  },
  {
   "cell_type": "code",
   "execution_count": 7,
   "id": "e728de07",
   "metadata": {},
   "outputs": [
    {
     "name": "stdout",
     "output_type": "stream",
     "text": [
      "[4 5]\n"
     ]
    }
   ],
   "source": [
    "import numpy as np\n",
    "\n",
    "array1 = np.array([1, 2, 3, 4, 5])\n",
    "array2 = np.array([8, 4, 6, 5, 7])\n",
    "\n",
    "common_values = np.intersect1d(array1, array2)\n",
    "\n",
    "print(common_values)"
   ]
  },
  {
   "cell_type": "code",
   "execution_count": null,
   "id": "b2ed1984",
   "metadata": {},
   "outputs": [],
   "source": []
  },
  {
   "cell_type": "markdown",
   "id": "878d7036",
   "metadata": {},
   "source": [
    "# 6.How to get the dates of yesterday, today and tomorrow?"
   ]
  },
  {
   "cell_type": "code",
   "execution_count": 8,
   "id": "52516dc0",
   "metadata": {},
   "outputs": [
    {
     "name": "stdout",
     "output_type": "stream",
     "text": [
      "Yesterday: 2023-09-20\n",
      "Today: 2023-09-21\n",
      "Tomorrow: 2023-09-22\n"
     ]
    }
   ],
   "source": [
    "import numpy as np\n",
    "import datetime\n",
    "\n",
    "current_date = datetime.date.today()\n",
    "\n",
    "yesterday = current_date - datetime.timedelta(days=1)\n",
    "today = current_date\n",
    "tomorrow = current_date + datetime.timedelta(days=1)\n",
    "\n",
    "print(\"Yesterday:\", yesterday)\n",
    "print(\"Today:\", today)\n",
    "print(\"Tomorrow:\", tomorrow)"
   ]
  },
  {
   "cell_type": "code",
   "execution_count": null,
   "id": "1b219805",
   "metadata": {},
   "outputs": [],
   "source": []
  },
  {
   "cell_type": "markdown",
   "id": "e768cb75",
   "metadata": {},
   "source": [
    "# 7.Consider two random array A and B, check if they are equal "
   ]
  },
  {
   "cell_type": "code",
   "execution_count": 9,
   "id": "50a4622a",
   "metadata": {},
   "outputs": [
    {
     "name": "stdout",
     "output_type": "stream",
     "text": [
      "Arrays A and B are equal.\n"
     ]
    }
   ],
   "source": [
    "import numpy as np\n",
    "\n",
    "A = np.array([1, 2, 3])\n",
    "B = np.array([1, 2, 3])\n",
    "\n",
    "if np.array_equal(A, B):\n",
    "    print(\"Arrays A and B are equal.\")\n",
    "else:\n",
    "    print(\"Arrays A and B are not equal.\")\n"
   ]
  },
  {
   "cell_type": "code",
   "execution_count": null,
   "id": "11be4a84",
   "metadata": {},
   "outputs": [],
   "source": []
  },
  {
   "cell_type": "markdown",
   "id": "6803c9bc",
   "metadata": {},
   "source": [
    "# 8.Create random vector of size 10 and replace the maximum value by 0 "
   ]
  },
  {
   "cell_type": "code",
   "execution_count": 11,
   "id": "d0838d89",
   "metadata": {},
   "outputs": [
    {
     "name": "stdout",
     "output_type": "stream",
     "text": [
      "Random vector with the maximum value replaced by 0:\n",
      "[0.29405766 0.48347305 0.38357543 0.3793269  0.73762789 0.03884164\n",
      " 0.15995788 0.7346398  0.69089051 0.        ]\n"
     ]
    }
   ],
   "source": [
    "import numpy as np\n",
    "\n",
    "random_vector = np.random.rand(10)\n",
    "\n",
    "max_index = np.argmax(random_vector)\n",
    "\n",
    "random_vector[max_index] = 0\n",
    "\n",
    "print(\"Random vector with the maximum value replaced by 0:\")\n",
    "print(random_vector)"
   ]
  },
  {
   "cell_type": "code",
   "execution_count": null,
   "id": "3cc457ed",
   "metadata": {},
   "outputs": [],
   "source": []
  },
  {
   "cell_type": "markdown",
   "id": "4a8cf43c",
   "metadata": {},
   "source": [
    "# 9.How to print all the values of an array "
   ]
  },
  {
   "cell_type": "code",
   "execution_count": 13,
   "id": "11b61495",
   "metadata": {},
   "outputs": [
    {
     "name": "stdout",
     "output_type": "stream",
     "text": [
      "[10, 20, 30, 40, 50]\n"
     ]
    }
   ],
   "source": [
    "import numpy as np\n",
    "\n",
    "my_array = np.array([10, 20, 30, 40, 50])\n",
    "\n",
    "my_list = my_array.tolist()\n",
    "\n",
    "print(my_list)"
   ]
  },
  {
   "cell_type": "code",
   "execution_count": null,
   "id": "a8154270",
   "metadata": {},
   "outputs": [],
   "source": []
  },
  {
   "cell_type": "markdown",
   "id": "c2c980a9",
   "metadata": {},
   "source": [
    "# 10.Subtract the mean of each row of a matrix"
   ]
  },
  {
   "cell_type": "code",
   "execution_count": 14,
   "id": "2f4a6bc8",
   "metadata": {},
   "outputs": [
    {
     "name": "stdout",
     "output_type": "stream",
     "text": [
      "[[-1.  0.  1.]\n",
      " [-1.  0.  1.]\n",
      " [-1.  0.  1.]]\n"
     ]
    }
   ],
   "source": [
    "import numpy as np\n",
    "\n",
    "matrix = np.array([[1, 2, 3],\n",
    "                  [4, 5, 6],\n",
    "                  [7, 8, 9]])\n",
    "\n",
    "row_means = np.mean(matrix, axis=1, keepdims=True)\n",
    "\n",
    "result_matrix = matrix - row_means\n",
    "\n",
    "print(result_matrix)"
   ]
  },
  {
   "cell_type": "code",
   "execution_count": null,
   "id": "fa65efcc",
   "metadata": {},
   "outputs": [],
   "source": []
  },
  {
   "cell_type": "markdown",
   "id": "d1cc390b",
   "metadata": {},
   "source": [
    "# 11.Consider a given vector, how to add 1 to each element indexed by a second vector (be careful with repeated indices)?"
   ]
  },
  {
   "cell_type": "code",
   "execution_count": 21,
   "id": "fcb40393",
   "metadata": {},
   "outputs": [
    {
     "name": "stdout",
     "output_type": "stream",
     "text": [
      "[1 3 3 4 6]\n"
     ]
    }
   ],
   "source": [
    "import numpy as np\n",
    "\n",
    "first_vector = np.array([1, 2, 3, 4, 5])\n",
    "\n",
    "second_vector = np.array([1, 4, 4])\n",
    "\n",
    "result_vector = np.zeros_like(first_vector)\n",
    "\n",
    "result_vector[second_vector] += 1\n",
    "\n",
    "result_vector += first_vector\n",
    "\n",
    "print(result_vector)\n"
   ]
  },
  {
   "cell_type": "code",
   "execution_count": null,
   "id": "d6bcef67",
   "metadata": {},
   "outputs": [],
   "source": []
  },
  {
   "cell_type": "markdown",
   "id": "06558f61",
   "metadata": {},
   "source": [
    "# 12.How to get the diagonal of a dot product?"
   ]
  },
  {
   "cell_type": "code",
   "execution_count": 22,
   "id": "ac0fcf76",
   "metadata": {},
   "outputs": [
    {
     "name": "stdout",
     "output_type": "stream",
     "text": [
      "[30 69 90]\n"
     ]
    }
   ],
   "source": [
    "import numpy as np\n",
    "\n",
    "A = np.array([[1, 2, 3],\n",
    "              [4, 5, 6],\n",
    "              [7, 8, 9]])\n",
    "\n",
    "B = np.array([[9, 8, 7],\n",
    "              [6, 5, 4],\n",
    "              [3, 2, 1]])\n",
    "\n",
    "dot_product = np.dot(A, B)\n",
    "\n",
    "diagonal = np.diag(dot_product)\n",
    "\n",
    "print(diagonal)"
   ]
  },
  {
   "cell_type": "code",
   "execution_count": null,
   "id": "7cf0db27",
   "metadata": {},
   "outputs": [],
   "source": []
  },
  {
   "cell_type": "markdown",
   "id": "a02444bf",
   "metadata": {},
   "source": [
    "# 13.How to find the most frequent value in an array ?"
   ]
  },
  {
   "cell_type": "code",
   "execution_count": 24,
   "id": "601638a9",
   "metadata": {},
   "outputs": [
    {
     "name": "stdout",
     "output_type": "stream",
     "text": [
      "The most frequent value is: 40\n"
     ]
    }
   ],
   "source": [
    "import numpy as np\n",
    "\n",
    "array = np.array([10,20,40,30,50,40,30,10,40])\n",
    "counts = np.bincount(array)\n",
    "most_frequent_value = np.argmax(counts)\n",
    "\n",
    "print(\"The most frequent value is:\", most_frequent_value)\n"
   ]
  },
  {
   "cell_type": "code",
   "execution_count": null,
   "id": "3c99bc16",
   "metadata": {},
   "outputs": [],
   "source": []
  },
  {
   "cell_type": "markdown",
   "id": "f2d45e37",
   "metadata": {},
   "source": [
    "# 14.How to get the n largest values of an array"
   ]
  },
  {
   "cell_type": "code",
   "execution_count": 25,
   "id": "7835aed0",
   "metadata": {},
   "outputs": [
    {
     "name": "stdout",
     "output_type": "stream",
     "text": [
      "The 3 largest elements are: [5 6 9]\n"
     ]
    }
   ],
   "source": [
    "import numpy as np\n",
    "\n",
    "arr = np.array([3, 1, 4, 1, 5, 9, 2, 6, 5, 3])\n",
    "\n",
    "n = 3\n",
    "\n",
    "partitioned_arr = np.partition(arr, -n)\n",
    "\n",
    "n_largest_elements = partitioned_arr[-n:]\n",
    "\n",
    "print(\"The\", n, \"largest elements are:\", n_largest_elements)\n"
   ]
  },
  {
   "cell_type": "code",
   "execution_count": null,
   "id": "16861887",
   "metadata": {},
   "outputs": [],
   "source": []
  },
  {
   "cell_type": "markdown",
   "id": "b5b86f69",
   "metadata": {},
   "source": [
    "# 15.How to create a record array from a regular array "
   ]
  },
  {
   "cell_type": "code",
   "execution_count": 1,
   "id": "ce45510c",
   "metadata": {},
   "outputs": [
    {
     "name": "stdout",
     "output_type": "stream",
     "text": [
      "Record Array:\n",
      "[(1,) (2,) (3,) (4,) (5,)]\n",
      "Accessing 'my_coulmn': [1 2 3 4 5]\n"
     ]
    }
   ],
   "source": [
    "import numpy as np\n",
    "\n",
    "regular_array = np.array([1,2,3,4,5])\n",
    "\n",
    "record_array = np.rec.array(regular_array,dtype=[('my_column',int)])\n",
    "\n",
    "print(\"Record Array:\")   \n",
    "print(record_array) \n",
    "print(\"Accessing 'my_coulmn':\",record_array.my_column)  \n"
   ]
  },
  {
   "cell_type": "code",
   "execution_count": null,
   "id": "77ef9939",
   "metadata": {},
   "outputs": [],
   "source": []
  },
  {
   "cell_type": "markdown",
   "id": "d55978aa",
   "metadata": {},
   "source": [
    "# 16.How to swap two rows of an array"
   ]
  },
  {
   "cell_type": "code",
   "execution_count": 31,
   "id": "cf1e0d6b",
   "metadata": {},
   "outputs": [
    {
     "name": "stdout",
     "output_type": "stream",
     "text": [
      "[[7 8 9]\n",
      " [4 5 6]\n",
      " [1 2 3]]\n"
     ]
    }
   ],
   "source": [
    "import numpy as np\n",
    "\n",
    "arr = np.array([[1, 2, 3],\n",
    "                [4, 5, 6],\n",
    "                [7, 8, 9]])\n",
    "\n",
    "row1_index = 0  \n",
    "row2_index = 2  \n",
    "\n",
    "arr[row1_index], arr[row2_index] = arr[row2_index].copy(), arr[row1_index].copy()\n",
    "\n",
    "print(arr)\n"
   ]
  },
  {
   "cell_type": "code",
   "execution_count": null,
   "id": "fabf2192",
   "metadata": {},
   "outputs": [],
   "source": []
  },
  {
   "cell_type": "markdown",
   "id": "482b36a4",
   "metadata": {},
   "source": [
    "# 17.Write python code to reshape to the next dimension of numpy array "
   ]
  },
  {
   "cell_type": "code",
   "execution_count": 32,
   "id": "fc8da5a5",
   "metadata": {},
   "outputs": [
    {
     "name": "stdout",
     "output_type": "stream",
     "text": [
      "Original Array:\n",
      "[1 2 3 4 5 6]\n",
      "\n",
      "Reshaped Array:\n",
      "[[1 2]\n",
      " [3 4]\n",
      " [5 6]]\n"
     ]
    }
   ],
   "source": [
    "import numpy as np\n",
    "\n",
    "original_array = np.array([1, 2, 3, 4, 5, 6])\n",
    "\n",
    "reshaped_array = original_array.reshape(-1, 2)  \n",
    "\n",
    "print(\"Original Array:\")\n",
    "print(original_array)\n",
    "print(\"\\nReshaped Array:\")\n",
    "print(reshaped_array)"
   ]
  },
  {
   "cell_type": "code",
   "execution_count": null,
   "id": "6e74cde5",
   "metadata": {},
   "outputs": [],
   "source": []
  }
 ],
 "metadata": {
  "kernelspec": {
   "display_name": "Python 3 (ipykernel)",
   "language": "python",
   "name": "python3"
  },
  "language_info": {
   "codemirror_mode": {
    "name": "ipython",
    "version": 3
   },
   "file_extension": ".py",
   "mimetype": "text/x-python",
   "name": "python",
   "nbconvert_exporter": "python",
   "pygments_lexer": "ipython3",
   "version": "3.11.4"
  }
 },
 "nbformat": 4,
 "nbformat_minor": 5
}

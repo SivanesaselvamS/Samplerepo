{
  "nbformat": 4,
  "nbformat_minor": 0,
  "metadata": {
    "colab": {
      "provenance": []
    },
    "kernelspec": {
      "name": "python3",
      "display_name": "Python 3"
    },
    "language_info": {
      "name": "python"
    }
  },
  "cells": [
    {
      "cell_type": "code",
      "execution_count": null,
      "metadata": {
        "id": "YcaJl3Oq2BNm"
      },
      "outputs": [],
      "source": []
    },
    {
      "cell_type": "markdown",
      "source": [
        "5.**Write a python program:**"
      ],
      "metadata": {
        "id": "KXj-jhcu4VmN"
      }
    },
    {
      "cell_type": "markdown",
      "source": [
        "i) To calculate the length of a string"
      ],
      "metadata": {
        "id": "0hsAhsJj4xqd"
      }
    },
    {
      "cell_type": "code",
      "source": [
        "Str1 = \"South India\"\n",
        "print (len(Str1))"
      ],
      "metadata": {
        "id": "LaB98Ejy5IF5",
        "colab": {
          "base_uri": "https://localhost:8080/"
        },
        "outputId": "1cab3b30-4ae1-4ef6-8ff7-f9c9f0e47f0e"
      },
      "execution_count": 8,
      "outputs": [
        {
          "output_type": "stream",
          "name": "stdout",
          "text": [
            "11\n"
          ]
        }
      ]
    },
    {
      "cell_type": "markdown",
      "source": [
        "ii)To reverse words in a string"
      ],
      "metadata": {
        "id": "J1VF7xTA7uqC"
      }
    },
    {
      "cell_type": "code",
      "source": [
        "Str1 = \"South India\"\n",
        "Str1 = Str1 [::-1]\n",
        "print (Str1)"
      ],
      "metadata": {
        "colab": {
          "base_uri": "https://localhost:8080/"
        },
        "id": "z7HV8Hfl71oR",
        "outputId": "504956c3-ea0a-4f1d-8eec-27b1b47e56ef"
      },
      "execution_count": 10,
      "outputs": [
        {
          "output_type": "stream",
          "name": "stdout",
          "text": [
            "aidnI htuoS\n"
          ]
        }
      ]
    },
    {
      "cell_type": "markdown",
      "source": [
        "iii)To Display the same string multiple times"
      ],
      "metadata": {
        "id": "5hmKUfOi8oZt"
      }
    },
    {
      "cell_type": "code",
      "source": [
        "Str1 = [\"South India\"]\n",
        "Str1 = 3 * (Str1)\n",
        "print(Str1)"
      ],
      "metadata": {
        "colab": {
          "base_uri": "https://localhost:8080/"
        },
        "id": "hr9c-C8N8y4p",
        "outputId": "14c4881d-2820-4887-a9bc-273ffee1f7a5"
      },
      "execution_count": 16,
      "outputs": [
        {
          "output_type": "stream",
          "name": "stdout",
          "text": [
            "['South India', 'South India', 'South India']\n"
          ]
        }
      ]
    },
    {
      "cell_type": "markdown",
      "source": [
        "iv)To  concatenate two strings"
      ],
      "metadata": {
        "id": "JIVUxbD09ttD"
      }
    },
    {
      "cell_type": "code",
      "source": [
        "Str1 = \"South\"\n",
        "Str2 = \"India\"\n",
        "Str3 = (Str1+Str2)\n",
        "print (Str3)"
      ],
      "metadata": {
        "colab": {
          "base_uri": "https://localhost:8080/"
        },
        "id": "WlpEziP293Sc",
        "outputId": "8438ed63-556f-4501-e64b-4c7454ab42ab"
      },
      "execution_count": 21,
      "outputs": [
        {
          "output_type": "stream",
          "name": "stdout",
          "text": [
            "SouthIndia\n"
          ]
        }
      ]
    },
    {
      "cell_type": "markdown",
      "source": [
        "V)Str1=\"South India\",using string slicing to display\"India\""
      ],
      "metadata": {
        "id": "NEdb4KHz_Yvd"
      }
    },
    {
      "cell_type": "code",
      "source": [
        "Str1 = \"South India\"\n",
        "S = Str1[5:]\n",
        "print (S)"
      ],
      "metadata": {
        "colab": {
          "base_uri": "https://localhost:8080/"
        },
        "id": "g7LHelaD_3F4",
        "outputId": "079f57da-4a70-4eeb-e4be-c36d14f906e9"
      },
      "execution_count": 24,
      "outputs": [
        {
          "output_type": "stream",
          "name": "stdout",
          "text": [
            " India\n"
          ]
        }
      ]
    }
  ]
}
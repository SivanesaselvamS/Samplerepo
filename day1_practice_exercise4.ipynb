{
  "nbformat": 4,
  "nbformat_minor": 0,
  "metadata": {
    "colab": {
      "provenance": []
    },
    "kernelspec": {
      "name": "python3",
      "display_name": "Python 3"
    },
    "language_info": {
      "name": "python"
    }
  },
  "cells": [
    {
      "cell_type": "code",
      "execution_count": null,
      "metadata": {
        "id": "KhB740_4f9xH"
      },
      "outputs": [],
      "source": []
    },
    {
      "cell_type": "markdown",
      "source": [
        "**4. Write a python program: tuple1 = (10,50,20,40,30)**"
      ],
      "metadata": {
        "id": "34Ec88mjgEcA"
      }
    },
    {
      "cell_type": "markdown",
      "source": [
        "i) To display the elements 10 and 50 from tuple1"
      ],
      "metadata": {
        "id": "f06dJDmmgVhi"
      }
    },
    {
      "cell_type": "code",
      "source": [
        "tuple1 = (10,50,20,40,30)\n",
        "tuple1[:2]"
      ],
      "metadata": {
        "colab": {
          "base_uri": "https://localhost:8080/"
        },
        "id": "ZOCKz4G6gkDe",
        "outputId": "4509721b-1453-4aa8-d91a-8bcccb5b9bad"
      },
      "execution_count": null,
      "outputs": [
        {
          "output_type": "execute_result",
          "data": {
            "text/plain": [
              "(10, 50)"
            ]
          },
          "metadata": {},
          "execution_count": 7
        }
      ]
    },
    {
      "cell_type": "markdown",
      "source": [
        "ii) To display the length of a tuple1."
      ],
      "metadata": {
        "id": "2t_MybQHqwp8"
      }
    },
    {
      "cell_type": "code",
      "source": [
        "tuple1 = (10,50,20,40,30)\n",
        "len(tuple1)"
      ],
      "metadata": {
        "colab": {
          "base_uri": "https://localhost:8080/"
        },
        "id": "SjKw9kx-q6WI",
        "outputId": "fcdd11c2-4bbf-4f04-95f3-3093603a4dcb"
      },
      "execution_count": null,
      "outputs": [
        {
          "output_type": "execute_result",
          "data": {
            "text/plain": [
              "5"
            ]
          },
          "metadata": {},
          "execution_count": 8
        }
      ]
    },
    {
      "cell_type": "markdown",
      "source": [
        "iii)To find the minimum element from tuple1."
      ],
      "metadata": {
        "id": "vOVwv94CrMMp"
      }
    },
    {
      "cell_type": "code",
      "source": [
        "tuple1 = [10,50,20,40,30]\n",
        "mini = tuple1[0]\n",
        "for i in range(len(tuple1)):\n",
        "  if tuple1[i] < mini:\n",
        "    mini = tuple1(i)\n",
        "  print(mini)"
      ],
      "metadata": {
        "id": "N_dSGOCJsj8X",
        "colab": {
          "base_uri": "https://localhost:8080/"
        },
        "outputId": "9dfc796e-656e-434b-a697-7602793dbb52"
      },
      "execution_count": null,
      "outputs": [
        {
          "output_type": "stream",
          "name": "stdout",
          "text": [
            "10\n",
            "10\n",
            "10\n",
            "10\n",
            "10\n"
          ]
        }
      ]
    },
    {
      "cell_type": "markdown",
      "source": [
        "iv)To add all elements in tuple1"
      ],
      "metadata": {
        "id": "zGZaKPIyuT29"
      }
    },
    {
      "cell_type": "code",
      "source": [
        "tuple1 = [10,50,20,40,30]\n",
        "print(\"The original tuple1 is : \" + str(tuple1))\n",
        "x = 0\n",
        "for i in tuple1:\n",
        "  x += i\n",
        "print(\"The sum of tuple1 is : \" + str(x))\n"
      ],
      "metadata": {
        "colab": {
          "base_uri": "https://localhost:8080/"
        },
        "id": "Qq8vZi_Fu07c",
        "outputId": "ed5ab0c8-4dca-40fa-b663-66febd78c26d"
      },
      "execution_count": null,
      "outputs": [
        {
          "output_type": "stream",
          "name": "stdout",
          "text": [
            "The original tuple1 is : [10, 50, 20, 40, 30]\n",
            "The sum of tuple1 is : 150\n"
          ]
        }
      ]
    },
    {
      "cell_type": "markdown",
      "source": [
        "V) To display the same tuple1 multiple times"
      ],
      "metadata": {
        "id": "pU30JDEqz0J3"
      }
    },
    {
      "cell_type": "code",
      "source": [
        "tuple1 = [10,50,20,40,30]\n",
        "repeat_value = tuple1*5\n",
        "print (repeat_value)"
      ],
      "metadata": {
        "id": "kGcB1teH0r8d",
        "colab": {
          "base_uri": "https://localhost:8080/"
        },
        "outputId": "b15435da-52ee-4d4b-dcba-b99259b5b891"
      },
      "execution_count": 47,
      "outputs": [
        {
          "output_type": "stream",
          "name": "stdout",
          "text": [
            "[10, 50, 20, 40, 30, 10, 50, 20, 40, 30, 10, 50, 20, 40, 30, 10, 50, 20, 40, 30, 10, 50, 20, 40, 30]\n"
          ]
        }
      ]
    }
  ]
}
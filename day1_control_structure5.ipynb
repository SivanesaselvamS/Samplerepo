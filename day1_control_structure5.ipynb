{
  "nbformat": 4,
  "nbformat_minor": 0,
  "metadata": {
    "colab": {
      "provenance": []
    },
    "kernelspec": {
      "name": "python3",
      "display_name": "Python 3"
    },
    "language_info": {
      "name": "python"
    }
  },
  "cells": [
    {
      "cell_type": "markdown",
      "source": [
        "**5.Sum of odd numbers and even numbers that fall between 12 and 37.**"
      ],
      "metadata": {
        "id": "zo5hXlhThezM"
      }
    },
    {
      "cell_type": "code",
      "source": [
        "a = int(input(\"Enter the minimum value :\"))\n",
        "b = int(input(\"Enter the maximum value :\"))\n",
        "\n",
        "even_total = 0\n",
        "odd_total = 0\n",
        "\n",
        "for number in range(a,b + 1):\n",
        "   if(number % 2 == 0):\n",
        "    even_total = even_total + number\n",
        "   else:\n",
        "    odd_total = odd_total + number\n",
        "\n",
        "print(\"The sum of even numbers from 1 to {0} = {1}\".format(number,even_total))\n",
        "print(\"The sum of odd numbers from 1 to {0} = {1}\".format(number,odd_total))\n"
      ],
      "metadata": {
        "colab": {
          "base_uri": "https://localhost:8080/"
        },
        "id": "3ZWgbZcVhuJi",
        "outputId": "81d3cec7-b0e0-433d-a72e-da46a7983fae"
      },
      "execution_count": 2,
      "outputs": [
        {
          "output_type": "stream",
          "name": "stdout",
          "text": [
            "Enter the minimum value :12\n",
            "Enter the maximum value :37\n",
            "The sum of even numbers from 1 to 37 = 312\n",
            "The sum of odd numbers from 1 to 37 = 325\n"
          ]
        }
      ]
    }
  ]
}
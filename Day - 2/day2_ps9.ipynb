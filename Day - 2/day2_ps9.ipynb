{
  "nbformat": 4,
  "nbformat_minor": 0,
  "metadata": {
    "colab": {
      "provenance": []
    },
    "kernelspec": {
      "name": "python3",
      "display_name": "Python 3"
    },
    "language_info": {
      "name": "python"
    }
  },
  "cells": [
    {
      "cell_type": "markdown",
      "source": [
        "**9.Write a python Function for generating the Fibonacci series using the function.**"
      ],
      "metadata": {
        "id": "PpSk8dRhdQKg"
      }
    },
    {
      "cell_type": "code",
      "source": [
        "def fibonacci(n):\n",
        "    if n <= 0:\n",
        "        return []\n",
        "    elif n == 1:\n",
        "        return [0]\n",
        "    elif n == 2:\n",
        "        return [0, 1]\n",
        "    else:\n",
        "        fib_series = fibonacci(n - 1)\n",
        "        fib_series.append(fib_series[-1] + fib_series[-2])\n",
        "        return fib_series\n",
        "number = int(input(\"Enter the number: \"))\n",
        "result = fibonacci(number)\n",
        "print(f\"The Fibonacci series with {number} terms is: {result}\")"
      ],
      "metadata": {
        "colab": {
          "base_uri": "https://localhost:8080/"
        },
        "id": "jJ81-BIaduVC",
        "outputId": "c04cc8a3-8533-4826-e48e-fad583b1368c"
      },
      "execution_count": 1,
      "outputs": [
        {
          "output_type": "stream",
          "name": "stdout",
          "text": [
            "Enter the number: 8\n",
            "The Fibonacci series with 8 terms is: [0, 1, 1, 2, 3, 5, 8, 13]\n"
          ]
        }
      ]
    }
  ]
}
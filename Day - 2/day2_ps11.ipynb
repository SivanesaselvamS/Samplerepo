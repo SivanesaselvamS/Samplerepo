{
  "nbformat": 4,
  "nbformat_minor": 0,
  "metadata": {
    "colab": {
      "provenance": []
    },
    "kernelspec": {
      "name": "python3",
      "display_name": "Python 3"
    },
    "language_info": {
      "name": "python"
    }
  },
  "cells": [
    {
      "cell_type": "markdown",
      "source": [
        "**11.Write a Python Function to display all integers within the range 200-300 whose sum of digits is an even number.**"
      ],
      "metadata": {
        "id": "w0z-ENIofLZb"
      }
    },
    {
      "cell_type": "code",
      "source": [
        "def sum_of_digits_even(num):\n",
        "    digit_sum = sum(int(digit) for digit in str(num))\n",
        "    return digit_sum % 2 == 0\n",
        "def find_integers_with_even_digit_sum(start, end):\n",
        "    result = []\n",
        "    for num in range(start, end + 1):\n",
        "        if sum_of_digits_even(num):\n",
        "            result.append(num)\n",
        "    return result\n",
        "start_range = int(input(\"enter the start range: \"))\n",
        "end_range =  int(input(\"enter the end range: \"))\n",
        "integers_with_even_digit_sum = find_integers_with_even_digit_sum(start_range, end_range)\n",
        "print(\"Integers in the range \",{start_range},\"-\",{end_range} ,\"whose sum of digits is even:\")\n",
        "print(integers_with_even_digit_sum)"
      ],
      "metadata": {
        "colab": {
          "base_uri": "https://localhost:8080/"
        },
        "id": "SKXR1HF4fWYF",
        "outputId": "2015db29-4927-438b-cbfd-fa748edaff37"
      },
      "execution_count": 1,
      "outputs": [
        {
          "output_type": "stream",
          "name": "stdout",
          "text": [
            "enter the start range: 80\n",
            "enter the end range: 120\n",
            "Integers in the range  {80} - {120} whose sum of digits is even:\n",
            "[80, 82, 84, 86, 88, 91, 93, 95, 97, 99, 101, 103, 105, 107, 109, 110, 112, 114, 116, 118]\n"
          ]
        }
      ]
    }
  ]
}
{
  "nbformat": 4,
  "nbformat_minor": 0,
  "metadata": {
    "colab": {
      "provenance": []
    },
    "kernelspec": {
      "name": "python3",
      "display_name": "Python 3"
    },
    "language_info": {
      "name": "python"
    }
  },
  "cells": [
    {
      "cell_type": "markdown",
      "source": [
        "**13.Write functions called is sorted that takes a list as a parameter and returns True if the list is sorted I in ascending order and False otherwise and has duplicates that takes a list and returns True if there is any element that appears more than once. It should not modify the original list.**"
      ],
      "metadata": {
        "id": "4_K-XsGsf2Vi"
      }
    },
    {
      "cell_type": "code",
      "source": [
        "def is_sorted(input_list):\n",
        "    return all(input_list[i] <= input_list[i+1] for i in range(len(input_list)-1))\n",
        "def has_duplicates(input_list):\n",
        "    seen = set()\n",
        "    for item in input_list:\n",
        "        if item in seen:\n",
        "            return True\n",
        "        seen.add(item)\n",
        "    return False\n",
        "sorted_list = [1, 2, 3, 4, 5]\n",
        "unsorted_list = [5, 2, 7, 1, 4]\n",
        "list_with_duplicates = [1, 2, 3, 2, 4]\n",
        "\n",
        "print(\"Is sorted (ascending order):\")\n",
        "print(is_sorted(sorted_list))\n",
        "print(is_sorted(unsorted_list))\n",
        "\n",
        "print(\"\\nHas duplicates:\")\n",
        "print(has_duplicates(sorted_list))\n",
        "print(has_duplicates(list_with_duplicates))"
      ],
      "metadata": {
        "colab": {
          "base_uri": "https://localhost:8080/"
        },
        "id": "r3s-QrCpf_cK",
        "outputId": "66f17a4d-77b4-40f5-e6b7-9a8d8e54a12e"
      },
      "execution_count": 3,
      "outputs": [
        {
          "output_type": "stream",
          "name": "stdout",
          "text": [
            "Is sorted (ascending order):\n",
            "True\n",
            "False\n",
            "\n",
            "Has duplicates:\n",
            "False\n",
            "True\n"
          ]
        }
      ]
    }
  ]
}
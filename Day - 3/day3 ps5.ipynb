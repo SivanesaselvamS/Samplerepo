{
 "cells": [
  {
   "cell_type": "markdown",
   "id": "440bcc97",
   "metadata": {},
   "source": [
    "# 5. Text File Search and Replace: You have a text file with a large amount of text, and you want to search for specific words or phrases and replace them with new content."
   ]
  },
  {
   "cell_type": "markdown",
   "id": "bb5362ec",
   "metadata": {},
   "source": [
    "# a. Write Python code to search for and replace text within a text file."
   ]
  },
  {
   "cell_type": "code",
   "execution_count": 1,
   "id": "773015f9",
   "metadata": {},
   "outputs": [
    {
     "data": {
      "text/plain": [
       "'day1 topic are introduction\\nsome other topic is language fundamendals\\nlast topic is control structure'"
      ]
     },
     "execution_count": 1,
     "metadata": {},
     "output_type": "execute_result"
    }
   ],
   "source": [
    "file=open(\"one.txt\",'r')\n",
    "file.read()"
   ]
  },
  {
   "cell_type": "code",
   "execution_count": 2,
   "id": "01447fa1",
   "metadata": {},
   "outputs": [
    {
     "name": "stdout",
     "output_type": "stream",
     "text": [
      "Text 'language' replaced with 'basic' successfully.\n"
     ]
    }
   ],
   "source": [
    "def search_and_replace(input_file, output_file, search_text, replace_text):\n",
    "    try:\n",
    "        with open(input_file, 'r') as infile, open(output_file, 'w') as outfile:\n",
    "            for line in infile:\n",
    "                modified_line = line.replace(search_text, replace_text)\n",
    "                outfile.write(modified_line)\n",
    "    \n",
    "    except FileNotFoundError:\n",
    "        print(f\"Error: Input file '{input_file}' not found.\")\n",
    "    except Exception as e:\n",
    "        print(f\"An error occurred: {e}\")\n",
    "    else:\n",
    "        print(f\"Text '{search_text}' replaced with '{replace_text}' successfully.\")\n",
    "\n",
    "search_and_replace(\"one.txt\",\"three.txt\",\"language\",\"basic\")"
   ]
  },
  {
   "cell_type": "code",
   "execution_count": 3,
   "id": "494a2a50",
   "metadata": {},
   "outputs": [
    {
     "data": {
      "text/plain": [
       "'day1 topic are introduction\\nsome other topic is basic fundamendals\\nlast topic is control structure'"
      ]
     },
     "execution_count": 3,
     "metadata": {},
     "output_type": "execute_result"
    }
   ],
   "source": [
    "file=open(\"three.txt\",'r')\n",
    "file.read()"
   ]
  },
  {
   "cell_type": "markdown",
   "id": "7757a1f6",
   "metadata": {},
   "source": [
    "# b. How would you handle cases where you need to perform multiple replacements in a single pass?"
   ]
  },
  {
   "cell_type": "code",
   "execution_count": 4,
   "id": "448c1f1b",
   "metadata": {},
   "outputs": [
    {
     "data": {
      "text/plain": [
       "'day1 topic are introduction\\nsome other topic is language fundamendals\\nlast topic is control structure'"
      ]
     },
     "execution_count": 4,
     "metadata": {},
     "output_type": "execute_result"
    }
   ],
   "source": [
    "file=open(\"one.txt\",'r')\n",
    "file.read()"
   ]
  },
  {
   "cell_type": "code",
   "execution_count": 5,
   "id": "0e3db722",
   "metadata": {},
   "outputs": [
    {
     "name": "stdout",
     "output_type": "stream",
     "text": [
      "Multiple replacements completed successfully.\n"
     ]
    }
   ],
   "source": [
    "def search_and_replace_multiple(input_file, output_file, replace_dict):\n",
    "    try:\n",
    "        with open(input_file, 'r') as infile, open(output_file, 'w') as outfile:\n",
    "            for line in infile:\n",
    "                for search_text, replace_text in replace_dict.items():\n",
    "                    line = line.replace(search_text, replace_text)\n",
    "                outfile.write(line)\n",
    "    \n",
    "    except FileNotFoundError:\n",
    "        print(f\"Error: Input file '{input_file}' not found.\")\n",
    "    except Exception as e:\n",
    "        print(f\"An error occurred: {e}\")\n",
    "    else:\n",
    "        print(\"Multiple replacements completed successfully.\")\n",
    "\n",
    "replace_dict = {\n",
    "    \"language\": \"programming\",\n",
    "    \"last topic\": \"End topic\",\n",
    "    }\n",
    "\n",
    "search_and_replace_multiple(\"one.txt\", \"three.txt\", replace_dict)\n"
   ]
  },
  {
   "cell_type": "code",
   "execution_count": 6,
   "id": "88c8887c",
   "metadata": {},
   "outputs": [
    {
     "data": {
      "text/plain": [
       "'day1 topic are introduction\\nsome other topic is programming fundamendals\\nEnd topic is control structure'"
      ]
     },
     "execution_count": 6,
     "metadata": {},
     "output_type": "execute_result"
    }
   ],
   "source": [
    "file=open(\"three.txt\",'r')\n",
    "file.read()"
   ]
  },
  {
   "cell_type": "code",
   "execution_count": null,
   "id": "c21687c8",
   "metadata": {},
   "outputs": [],
   "source": []
  }
 ],
 "metadata": {
  "kernelspec": {
   "display_name": "Python 3 (ipykernel)",
   "language": "python",
   "name": "python3"
  },
  "language_info": {
   "codemirror_mode": {
    "name": "ipython",
    "version": 3
   },
   "file_extension": ".py",
   "mimetype": "text/x-python",
   "name": "python",
   "nbconvert_exporter": "python",
   "pygments_lexer": "ipython3",
   "version": "3.11.4"
  }
 },
 "nbformat": 4,
 "nbformat_minor": 5
}

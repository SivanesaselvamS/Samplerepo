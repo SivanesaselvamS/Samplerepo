{
 "cells": [
  {
   "cell_type": "markdown",
   "id": "391aa8ff",
   "metadata": {},
   "source": [
    "# 1. Write a python function that copies a file reading and writing"
   ]
  },
  {
   "cell_type": "code",
   "execution_count": 1,
   "id": "aecfcdb7",
   "metadata": {},
   "outputs": [
    {
     "data": {
      "text/plain": [
       "True"
      ]
     },
     "execution_count": 1,
     "metadata": {},
     "output_type": "execute_result"
    }
   ],
   "source": [
    "file=open(\"first.txt\",'r')\n",
    "file.readable()"
   ]
  },
  {
   "cell_type": "code",
   "execution_count": 2,
   "id": "49aa6d2e",
   "metadata": {},
   "outputs": [
    {
     "data": {
      "text/plain": [
       "'This is First text file'"
      ]
     },
     "execution_count": 2,
     "metadata": {},
     "output_type": "execute_result"
    }
   ],
   "source": [
    "file.read()"
   ]
  },
  {
   "cell_type": "code",
   "execution_count": 3,
   "id": "1877e07a",
   "metadata": {},
   "outputs": [],
   "source": [
    "file.close()"
   ]
  },
  {
   "cell_type": "code",
   "execution_count": 10,
   "id": "0736ac2c",
   "metadata": {},
   "outputs": [
    {
     "name": "stdout",
     "output_type": "stream",
     "text": [
      "File copied successfully.\n"
     ]
    }
   ],
   "source": [
    "def copy_file(input_file_path, output_file_path):\n",
    "    try:\n",
    "        with open(input_file_path, 'r') as input_file, open(output_file_path, 'w') as output_file:\n",
    "            while True:\n",
    "                chunk = input_file.read(50)\n",
    "                if not chunk:\n",
    "                    break\n",
    "                output_file.write(chunk)\n",
    "    except FileNotFoundError:\n",
    "        print(f\"Error: Input file '{input_file_path}' not found.\")\n",
    "    except Exception as e:\n",
    "        print(f\"An error occurred: {e}\")\n",
    "    else:\n",
    "        print(\"File copied successfully.\")\n",
    "input_file_path = 'first.txt'\n",
    "output_file_path = 'second.txt'\n",
    "copy_file(input_file_path, output_file_path)"
   ]
  },
  {
   "cell_type": "code",
   "execution_count": null,
   "id": "78a0762f",
   "metadata": {},
   "outputs": [],
   "source": []
  }
 ],
 "metadata": {
  "kernelspec": {
   "display_name": "Python 3 (ipykernel)",
   "language": "python",
   "name": "python3"
  },
  "language_info": {
   "codemirror_mode": {
    "name": "ipython",
    "version": 3
   },
   "file_extension": ".py",
   "mimetype": "text/x-python",
   "name": "python",
   "nbconvert_exporter": "python",
   "pygments_lexer": "ipython3",
   "version": "3.11.4"
  }
 },
 "nbformat": 4,
 "nbformat_minor": 5
}

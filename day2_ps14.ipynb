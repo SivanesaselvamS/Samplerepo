{
  "nbformat": 4,
  "nbformat_minor": 0,
  "metadata": {
    "colab": {
      "provenance": []
    },
    "kernelspec": {
      "name": "python3",
      "display_name": "Python 3"
    },
    "language_info": {
      "name": "python"
    }
  },
  "cells": [
    {
      "cell_type": "markdown",
      "source": [
        "**14.Write functions called nested_sum that takes a list of integers and adds up the elements from all the nested lists and cumsum that takes a list of numbers and returns the cumulative sum; that is, a new list where the ith element is the sum of the first i + 1 elements from the original list.**"
      ],
      "metadata": {
        "id": "Y8VcXFYTgmup"
      }
    },
    {
      "cell_type": "code",
      "source": [
        "def nested_sum(nested_list):\n",
        "    total = 0\n",
        "    for sublist in nested_list:\n",
        "        total += sum(sublist)\n",
        "    return total\n",
        "def cumsum(input_list):\n",
        "    cumulative_sum = []\n",
        "    current_sum = 0\n",
        "    for num in input_list:\n",
        "        current_sum += num\n",
        "        cumulative_sum.append(current_sum)\n",
        "    return cumulative_sum\n",
        "\n",
        "nested_numbers = [[1, 2], [3, 4, 5], [6, 7, 8, 9]]\n",
        "result_nested = nested_sum(nested_numbers)\n",
        "print(\"Nested Sum:\", result_nested)\n",
        "\n",
        "numbers = [1, 2, 3, 4, 5]\n",
        "result_cumsum = cumsum(numbers)\n",
        "print(\"Cumulative Sum:\", result_cumsum)"
      ],
      "metadata": {
        "colab": {
          "base_uri": "https://localhost:8080/"
        },
        "id": "7ZsKUPZBgxQe",
        "outputId": "ec330331-4274-407a-f8e7-ce5478ea738c"
      },
      "execution_count": 5,
      "outputs": [
        {
          "output_type": "stream",
          "name": "stdout",
          "text": [
            "Nested Sum: 45\n",
            "Cumulative Sum: [1, 3, 6, 10, 15]\n"
          ]
        }
      ]
    }
  ]
}
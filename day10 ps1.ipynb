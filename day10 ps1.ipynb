{
 "cells": [
  {
   "cell_type": "code",
   "execution_count": 32,
   "id": "12103247",
   "metadata": {},
   "outputs": [
    {
     "data": {
      "text/html": [
       "<div>\n",
       "<style scoped>\n",
       "    .dataframe tbody tr th:only-of-type {\n",
       "        vertical-align: middle;\n",
       "    }\n",
       "\n",
       "    .dataframe tbody tr th {\n",
       "        vertical-align: top;\n",
       "    }\n",
       "\n",
       "    .dataframe thead th {\n",
       "        text-align: right;\n",
       "    }\n",
       "</style>\n",
       "<table border=\"1\" class=\"dataframe\">\n",
       "  <thead>\n",
       "    <tr style=\"text-align: right;\">\n",
       "      <th></th>\n",
       "      <th>title</th>\n",
       "      <th>year</th>\n",
       "    </tr>\n",
       "  </thead>\n",
       "  <tbody>\n",
       "    <tr>\n",
       "      <th>0</th>\n",
       "      <td>Tasveer Mere Sanam</td>\n",
       "      <td>1996</td>\n",
       "    </tr>\n",
       "    <tr>\n",
       "      <th>1</th>\n",
       "      <td>Only You</td>\n",
       "      <td>1994</td>\n",
       "    </tr>\n",
       "    <tr>\n",
       "      <th>2</th>\n",
       "      <td>El pueblo del terror</td>\n",
       "      <td>1970</td>\n",
       "    </tr>\n",
       "    <tr>\n",
       "      <th>3</th>\n",
       "      <td>Machine</td>\n",
       "      <td>2007</td>\n",
       "    </tr>\n",
       "    <tr>\n",
       "      <th>4</th>\n",
       "      <td>MARy</td>\n",
       "      <td>2008</td>\n",
       "    </tr>\n",
       "    <tr>\n",
       "      <th>...</th>\n",
       "      <td>...</td>\n",
       "      <td>...</td>\n",
       "    </tr>\n",
       "    <tr>\n",
       "      <th>244909</th>\n",
       "      <td>Black Butterfly in a Colorful World</td>\n",
       "      <td>2018</td>\n",
       "    </tr>\n",
       "    <tr>\n",
       "      <th>244910</th>\n",
       "      <td>Hua fei hua wu chun man cheng</td>\n",
       "      <td>1980</td>\n",
       "    </tr>\n",
       "    <tr>\n",
       "      <th>244911</th>\n",
       "      <td>Nippon dabi katsukyu</td>\n",
       "      <td>1970</td>\n",
       "    </tr>\n",
       "    <tr>\n",
       "      <th>244912</th>\n",
       "      <td>Under Siege 2: Dark Territory</td>\n",
       "      <td>1995</td>\n",
       "    </tr>\n",
       "    <tr>\n",
       "      <th>244913</th>\n",
       "      <td>She Must Be Seeing Things</td>\n",
       "      <td>1987</td>\n",
       "    </tr>\n",
       "  </tbody>\n",
       "</table>\n",
       "<p>244914 rows × 2 columns</p>\n",
       "</div>"
      ],
      "text/plain": [
       "                                      title  year\n",
       "0                        Tasveer Mere Sanam  1996\n",
       "1                                  Only You  1994\n",
       "2                      El pueblo del terror  1970\n",
       "3                                   Machine  2007\n",
       "4                                      MARy  2008\n",
       "...                                     ...   ...\n",
       "244909  Black Butterfly in a Colorful World  2018\n",
       "244910        Hua fei hua wu chun man cheng  1980\n",
       "244911                 Nippon dabi katsukyu  1970\n",
       "244912        Under Siege 2: Dark Territory  1995\n",
       "244913            She Must Be Seeing Things  1987\n",
       "\n",
       "[244914 rows x 2 columns]"
      ]
     },
     "execution_count": 32,
     "metadata": {},
     "output_type": "execute_result"
    }
   ],
   "source": [
    "import pandas as pd\n",
    "df=pd.read_csv(\"titles.csv\")\n",
    "df"
   ]
  },
  {
   "cell_type": "markdown",
   "id": "22bf5147",
   "metadata": {},
   "source": [
    "# 1. How many movies are listed in the titles dataframe?"
   ]
  },
  {
   "cell_type": "code",
   "execution_count": 2,
   "id": "55ffa922",
   "metadata": {},
   "outputs": [
    {
     "data": {
      "text/html": [
       "<div>\n",
       "<style scoped>\n",
       "    .dataframe tbody tr th:only-of-type {\n",
       "        vertical-align: middle;\n",
       "    }\n",
       "\n",
       "    .dataframe tbody tr th {\n",
       "        vertical-align: top;\n",
       "    }\n",
       "\n",
       "    .dataframe thead th {\n",
       "        text-align: right;\n",
       "    }\n",
       "</style>\n",
       "<table border=\"1\" class=\"dataframe\">\n",
       "  <thead>\n",
       "    <tr style=\"text-align: right;\">\n",
       "      <th></th>\n",
       "      <th>title</th>\n",
       "      <th>year</th>\n",
       "    </tr>\n",
       "  </thead>\n",
       "  <tbody>\n",
       "    <tr>\n",
       "      <th>0</th>\n",
       "      <td>Tasveer Mere Sanam</td>\n",
       "      <td>1996</td>\n",
       "    </tr>\n",
       "    <tr>\n",
       "      <th>1</th>\n",
       "      <td>Only You</td>\n",
       "      <td>1994</td>\n",
       "    </tr>\n",
       "    <tr>\n",
       "      <th>2</th>\n",
       "      <td>El pueblo del terror</td>\n",
       "      <td>1970</td>\n",
       "    </tr>\n",
       "    <tr>\n",
       "      <th>3</th>\n",
       "      <td>Machine</td>\n",
       "      <td>2007</td>\n",
       "    </tr>\n",
       "    <tr>\n",
       "      <th>4</th>\n",
       "      <td>MARy</td>\n",
       "      <td>2008</td>\n",
       "    </tr>\n",
       "    <tr>\n",
       "      <th>...</th>\n",
       "      <td>...</td>\n",
       "      <td>...</td>\n",
       "    </tr>\n",
       "    <tr>\n",
       "      <th>244909</th>\n",
       "      <td>Black Butterfly in a Colorful World</td>\n",
       "      <td>2018</td>\n",
       "    </tr>\n",
       "    <tr>\n",
       "      <th>244910</th>\n",
       "      <td>Hua fei hua wu chun man cheng</td>\n",
       "      <td>1980</td>\n",
       "    </tr>\n",
       "    <tr>\n",
       "      <th>244911</th>\n",
       "      <td>Nippon dabi katsukyu</td>\n",
       "      <td>1970</td>\n",
       "    </tr>\n",
       "    <tr>\n",
       "      <th>244912</th>\n",
       "      <td>Under Siege 2: Dark Territory</td>\n",
       "      <td>1995</td>\n",
       "    </tr>\n",
       "    <tr>\n",
       "      <th>244913</th>\n",
       "      <td>She Must Be Seeing Things</td>\n",
       "      <td>1987</td>\n",
       "    </tr>\n",
       "  </tbody>\n",
       "</table>\n",
       "<p>244914 rows × 2 columns</p>\n",
       "</div>"
      ],
      "text/plain": [
       "                                      title  year\n",
       "0                        Tasveer Mere Sanam  1996\n",
       "1                                  Only You  1994\n",
       "2                      El pueblo del terror  1970\n",
       "3                                   Machine  2007\n",
       "4                                      MARy  2008\n",
       "...                                     ...   ...\n",
       "244909  Black Butterfly in a Colorful World  2018\n",
       "244910        Hua fei hua wu chun man cheng  1980\n",
       "244911                 Nippon dabi katsukyu  1970\n",
       "244912        Under Siege 2: Dark Territory  1995\n",
       "244913            She Must Be Seeing Things  1987\n",
       "\n",
       "[244914 rows x 2 columns]"
      ]
     },
     "execution_count": 2,
     "metadata": {},
     "output_type": "execute_result"
    }
   ],
   "source": [
    "titles= pd.read_csv('titles.csv')\n",
    "titles"
   ]
  },
  {
   "cell_type": "markdown",
   "id": "2ff0b2b3",
   "metadata": {},
   "source": [
    "# 2.What are the earliest two films listed in the titles dataframe "
   ]
  },
  {
   "cell_type": "code",
   "execution_count": 3,
   "id": "0c83e112",
   "metadata": {},
   "outputs": [
    {
     "name": "stdout",
     "output_type": "stream",
     "text": [
      "                     title  year\n",
      "193222          Miss Jerry  1894\n",
      "51388   The Startled Lover  1898\n"
     ]
    }
   ],
   "source": [
    "import pandas as pd\n",
    "\n",
    "titles_sorted = titles.sort_values(by='year')\n",
    "\n",
    "earliest_films = titles_sorted.head(2)\n",
    "\n",
    "print(earliest_films)"
   ]
  },
  {
   "cell_type": "markdown",
   "id": "ef9d687d",
   "metadata": {},
   "source": [
    "# 3.How many movies have the title \"Hamlet\""
   ]
  },
  {
   "cell_type": "code",
   "execution_count": 8,
   "id": "8ab8a152",
   "metadata": {},
   "outputs": [
    {
     "name": "stdout",
     "output_type": "stream",
     "text": [
      "Number of movies with the title 'Hamlet': 20\n"
     ]
    }
   ],
   "source": [
    "titles = pd.read_csv('titles.csv')\n",
    "\n",
    "hamlet = titles[titles['title'] == 'Hamlet']\n",
    "\n",
    "num_hamlet = len(hamlet)\n",
    "\n",
    "print(\"Number of movies with the title 'Hamlet':\", num_hamlet)"
   ]
  },
  {
   "cell_type": "markdown",
   "id": "07a8a9be",
   "metadata": {},
   "source": [
    "# 4.How many movies are titled 'north by nortwest'"
   ]
  },
  {
   "cell_type": "code",
   "execution_count": 9,
   "id": "5ab0f2b5",
   "metadata": {},
   "outputs": [
    {
     "name": "stdout",
     "output_type": "stream",
     "text": [
      "Number of movies with the title 'North by Northwest': 1\n"
     ]
    }
   ],
   "source": [
    "north_by_northwest = titles[titles['title'] == 'North by Northwest']\n",
    "num_north_by_northwest = len(north_by_northwest)\n",
    "print(\"Number of movies with the title 'North by Northwest':\",num_north_by_northwest)"
   ]
  },
  {
   "cell_type": "markdown",
   "id": "b38a7398",
   "metadata": {},
   "source": [
    "# 5.When was the first movie titled \"Hamlet\" made?"
   ]
  },
  {
   "cell_type": "code",
   "execution_count": 10,
   "id": "30a5df76",
   "metadata": {},
   "outputs": [
    {
     "name": "stdout",
     "output_type": "stream",
     "text": [
      "The first movie titled 'Hamlet' was made in: 1910\n"
     ]
    }
   ],
   "source": [
    "import pandas as pd\n",
    "\n",
    "hamlet_movies = titles[titles['title'] == 'Hamlet']\n",
    "\n",
    "hamlet_movies_sorted = hamlet_movies.sort_values(by='year')\n",
    "\n",
    "first_hamlet_movie = hamlet_movies_sorted.head(1)\n",
    "\n",
    "print(\"The first movie titled 'Hamlet' was made in:\", first_hamlet_movie['year'].values[0])"
   ]
  },
  {
   "cell_type": "markdown",
   "id": "2f58cb31",
   "metadata": {},
   "source": [
    "# 6.List all of the \"Treasure Island\" movies from earliest to most recent."
   ]
  },
  {
   "cell_type": "code",
   "execution_count": 11,
   "id": "a56dd97d",
   "metadata": {},
   "outputs": [
    {
     "name": "stdout",
     "output_type": "stream",
     "text": [
      "                  title  year\n",
      "55686   Treasure Island  1918\n",
      "196514  Treasure Island  1920\n",
      "141822  Treasure Island  1934\n",
      "77354   Treasure Island  1950\n",
      "65051   Treasure Island  1972\n",
      "37238   Treasure Island  1973\n",
      "173051  Treasure Island  1985\n",
      "27076   Treasure Island  1999\n"
     ]
    }
   ],
   "source": [
    "import pandas as pd\n",
    "\n",
    "treasure_island_movies = titles[titles['title'] == 'Treasure Island']\n",
    "\n",
    "treasure_island_movies_sorted = treasure_island_movies.sort_values(by='year')\n",
    "\n",
    "print(treasure_island_movies_sorted)\n"
   ]
  },
  {
   "cell_type": "markdown",
   "id": "84312b48",
   "metadata": {},
   "source": [
    "# 7.How many movies were made in the year 1950"
   ]
  },
  {
   "cell_type": "code",
   "execution_count": 12,
   "id": "57a1dd59",
   "metadata": {},
   "outputs": [
    {
     "name": "stdout",
     "output_type": "stream",
     "text": [
      "Number of movies made in 1950: 1113\n"
     ]
    }
   ],
   "source": [
    "import pandas as pd\n",
    "\n",
    "movies_1950 = titles[titles['year'] == 1950]\n",
    "\n",
    "num_movies_1950 = len(movies_1950)\n",
    "\n",
    "print(\"Number of movies made in 1950:\", num_movies_1950)"
   ]
  },
  {
   "cell_type": "markdown",
   "id": "2d102153",
   "metadata": {},
   "source": [
    "# 8.How many movies were made in the year 1960"
   ]
  },
  {
   "cell_type": "code",
   "execution_count": 13,
   "id": "0f5ac829",
   "metadata": {},
   "outputs": [
    {
     "name": "stdout",
     "output_type": "stream",
     "text": [
      "Number of movies made in 1960: 1549\n"
     ]
    }
   ],
   "source": [
    "import pandas as pd\n",
    "\n",
    "movies_1960 = titles[titles['year'] == 1960]\n",
    "\n",
    "num_movies_1960 = len(movies_1960)\n",
    "\n",
    "print(\"Number of movies made in 1960:\", num_movies_1960)\n"
   ]
  },
  {
   "cell_type": "markdown",
   "id": "3dc87152",
   "metadata": {},
   "source": [
    "# 9.How many movies were made from 1950 through 1959 "
   ]
  },
  {
   "cell_type": "code",
   "execution_count": 14,
   "id": "ea32f319",
   "metadata": {},
   "outputs": [
    {
     "name": "stdout",
     "output_type": "stream",
     "text": [
      "Number of movies made from 1950 through 1959: 12934\n"
     ]
    }
   ],
   "source": [
    "import pandas as pd\n",
    "\n",
    "movies_1950s = titles[(titles['year'] >= 1950) & (titles['year'] <= 1959)]\n",
    "\n",
    "num_movies_1950s = len(movies_1950s)\n",
    "\n",
    "print(\"Number of movies made from 1950 through 1959:\", num_movies_1950s)\n"
   ]
  },
  {
   "cell_type": "markdown",
   "id": "35904caa",
   "metadata": {},
   "source": [
    "# 10.In what years has a movie titled \"Batman\" been released"
   ]
  },
  {
   "cell_type": "code",
   "execution_count": 15,
   "id": "e5c624d7",
   "metadata": {},
   "outputs": [
    {
     "name": "stdout",
     "output_type": "stream",
     "text": [
      "Years in which a movie titled 'Batman' has been released: [1943 1989]\n"
     ]
    }
   ],
   "source": [
    "import pandas as pd\n",
    "\n",
    "batman_movies = titles[titles['title'] == 'Batman']\n",
    "\n",
    "unique_years = batman_movies['year'].unique()\n",
    "\n",
    "print(\"Years in which a movie titled 'Batman' has been released:\", unique_years)"
   ]
  },
  {
   "cell_type": "markdown",
   "id": "a8550190",
   "metadata": {},
   "source": [
    "# 11.How many roles were there in the movie \"Inception\" "
   ]
  },
  {
   "cell_type": "code",
   "execution_count": 20,
   "id": "a4dac1c0",
   "metadata": {},
   "outputs": [
    {
     "name": "stdout",
     "output_type": "stream",
     "text": [
      "Number of roles in the movie 'Inception': 56\n"
     ]
    }
   ],
   "source": [
    "cast = pd.read_csv('cast.csv')\n",
    "\n",
    "import pandas as pd\n",
    "\n",
    "inception_cast = cast[cast['title'] == 'Inception']\n",
    "\n",
    "num_roles_inception = inception_cast['character'].nunique()\n",
    "\n",
    "print(\"Number of roles in the movie 'Inception':\", num_roles_inception)"
   ]
  },
  {
   "cell_type": "markdown",
   "id": "184689d6",
   "metadata": {},
   "source": [
    "# 12.How many roles in the movie \"Inception\" are NOT ranked by an \"n\" value?"
   ]
  },
  {
   "cell_type": "code",
   "execution_count": 21,
   "id": "96ec2b98",
   "metadata": {},
   "outputs": [
    {
     "name": "stdout",
     "output_type": "stream",
     "text": [
      "Number of roles in 'Inception' without an 'n' value: 27\n"
     ]
    }
   ],
   "source": [
    "roles_without_n_value = len(inception_cast[(inception_cast['title'] == 'Inception') & (inception_cast['year'] == 2010) & inception_cast['n'].isna()])\n",
    "print(\"Number of roles in 'Inception' without an 'n' value:\", roles_without_n_value)\n"
   ]
  },
  {
   "cell_type": "markdown",
   "id": "a5e96279",
   "metadata": {},
   "source": [
    "# 13.How many roles in the movie \"Inception\" did receive an \"n\" value?"
   ]
  },
  {
   "cell_type": "code",
   "execution_count": 22,
   "id": "9ae16bf5",
   "metadata": {},
   "outputs": [
    {
     "name": "stdout",
     "output_type": "stream",
     "text": [
      "Number of roles in 'Inception' with an 'n' value: 51\n"
     ]
    }
   ],
   "source": [
    "roles_with_n_value = len(inception_cast[(inception_cast['title'] == 'Inception') & (inception_cast['year'] == 2010) & inception_cast['n'].notna()])\n",
    "print(\"Number of roles in 'Inception' with an 'n' value:\", roles_with_n_value)\n"
   ]
  },
  {
   "cell_type": "markdown",
   "id": "1c491c6c",
   "metadata": {},
   "source": [
    "# 14.Display the cast of \"North by Northwest\" in their correct \"n\"-value order, ignoring roles that did not earn a numeric \"n\" value."
   ]
  },
  {
   "cell_type": "code",
   "execution_count": 39,
   "id": "72c9d4bb",
   "metadata": {},
   "outputs": [
    {
     "name": "stdout",
     "output_type": "stream",
     "text": [
      "Cast of 'North by Northwest' in 'n' value order:\n",
      "Empty DataFrame\n",
      "Columns: [name, n]\n",
      "Index: []\n"
     ]
    }
   ],
   "source": [
    "df=pd.read_csv(\"cast.csv\")\n",
    "df\n",
    "north_by_northwest_cast = inception_cast[(inception_cast['title'] == 'North by Northwest')].dropna(subset=['n']).sort_values('n')\n",
    "print(\"Cast of 'North by Northwest' in 'n' value order:\")\n",
    "print(north_by_northwest_cast[['name', 'n']])"
   ]
  },
  {
   "cell_type": "markdown",
   "id": "1c5cd506",
   "metadata": {},
   "source": [
    "# 15.Display the entire cast, in n-order, of the 1972 film \"Sleuth\"\n"
   ]
  },
  {
   "cell_type": "code",
   "execution_count": 26,
   "id": "7320c1a4",
   "metadata": {},
   "outputs": [
    {
     "name": "stdout",
     "output_type": "stream",
     "text": [
      "Cast of the 1972 film 'Sleuth' in 'n' value order:\n",
      "Empty DataFrame\n",
      "Columns: [name, n]\n",
      "Index: []\n"
     ]
    }
   ],
   "source": [
    "sleuth_1972_cast = inception_cast[(inception_cast['title'] == 'Sleuth') & (inception_cast['year'] == 1972)].sort_values('n')\n",
    "print(\"Cast of the 1972 film 'Sleuth' in 'n' value order:\")\n",
    "print(sleuth_1972_cast[['name', 'n']])"
   ]
  },
  {
   "cell_type": "markdown",
   "id": "c9034d25",
   "metadata": {},
   "source": [
    "# 16.Display the entire cast, in \"n\"-order, of the 2007 version of \"Sleuth\""
   ]
  },
  {
   "cell_type": "code",
   "execution_count": 27,
   "id": "73311f48",
   "metadata": {},
   "outputs": [
    {
     "name": "stdout",
     "output_type": "stream",
     "text": [
      "Cast of the 2007 version of 'Sleuth' in 'n' value order:\n",
      "Empty DataFrame\n",
      "Columns: [name, n]\n",
      "Index: []\n"
     ]
    }
   ],
   "source": [
    "sleuth_2007_cast = inception_cast[(inception_cast['title'] == 'Sleuth') & (inception_cast['year'] == 2007)].sort_values('n')\n",
    "print(\"Cast of the 2007 version of 'Sleuth' in 'n' value order:\")\n",
    "print(sleuth_2007_cast[['name', 'n']])"
   ]
  },
  {
   "cell_type": "markdown",
   "id": "cc4156ba",
   "metadata": {},
   "source": [
    "# 17.How many roles were credited in the silent 1921 version of Hamlet?"
   ]
  },
  {
   "cell_type": "code",
   "execution_count": 28,
   "id": "2bf7a45c",
   "metadata": {},
   "outputs": [
    {
     "name": "stdout",
     "output_type": "stream",
     "text": [
      "Number of roles credited in the silent 1921 version of 'Hamlet': 0\n"
     ]
    }
   ],
   "source": [
    "roles_hamlet_1921 = len(inception_cast[(inception_cast['title'] == 'Hamlet') & (inception_cast['year'] == 1921)])\n",
    "print(\"Number of roles credited in the silent 1921 version of 'Hamlet':\", roles_hamlet_1921)\n"
   ]
  },
  {
   "cell_type": "markdown",
   "id": "981e5b82",
   "metadata": {},
   "source": [
    "# 18.How many roles were credited in Branagh's 1996 Hamlet?"
   ]
  },
  {
   "cell_type": "code",
   "execution_count": 29,
   "id": "ab304431",
   "metadata": {},
   "outputs": [
    {
     "name": "stdout",
     "output_type": "stream",
     "text": [
      "Number of roles credited in Branagh's 1996 'Hamlet': 0\n"
     ]
    }
   ],
   "source": [
    "roles_hamlet_1996 = len(inception_cast[(inception_cast['title'] == 'Hamlet') & (inception_cast['year'] == 1996)])\n",
    "print(\"Number of roles credited in Branagh's 1996 'Hamlet':\", roles_hamlet_1996)\n"
   ]
  },
  {
   "cell_type": "markdown",
   "id": "20e75c61",
   "metadata": {},
   "source": [
    "# 19.How many \"Hamlet\" roles have been Rated in all film credits through history?"
   ]
  },
  {
   "cell_type": "code",
   "execution_count": 33,
   "id": "f2139a55",
   "metadata": {},
   "outputs": [
    {
     "name": "stdout",
     "output_type": "stream",
     "text": [
      "Number of 'Hamlet' roles with an 'n' value through history: 0\n"
     ]
    }
   ],
   "source": [
    "hamlet_roles = len(inception_cast[(inception_cast['title'] == 'Hamlet') & inception_cast['n'].notna()])\n",
    "print(\"Number of 'Hamlet' roles with an 'n' value through history:\", hamlet_roles)"
   ]
  },
  {
   "cell_type": "markdown",
   "id": "be883063",
   "metadata": {},
   "source": [
    "# 20.How many people have played an \"Ophelia\"?"
   ]
  },
  {
   "cell_type": "code",
   "execution_count": 34,
   "id": "b02932c0",
   "metadata": {},
   "outputs": [
    {
     "name": "stdout",
     "output_type": "stream",
     "text": [
      "Number of roles as 'Ophelia': 0\n",
      "Number of unique actors who played 'Ophelia': 0\n"
     ]
    }
   ],
   "source": [
    "ophelia_roles = len(inception_cast[(inception_cast['character'] == 'Ophelia')])\n",
    "unique_ophelia_actors = len(inception_cast[(inception_cast['character'] == 'Ophelia')]['name'].unique())\n",
    "print(\"Number of roles as 'Ophelia':\", ophelia_roles)\n",
    "print(\"Number of unique actors who played 'Ophelia':\", unique_ophelia_actors)"
   ]
  },
  {
   "cell_type": "markdown",
   "id": "5c88cb73",
   "metadata": {},
   "source": [
    "# 21.How many people have played a role called \"The Dude\"?"
   ]
  },
  {
   "cell_type": "code",
   "execution_count": 40,
   "id": "f5180658",
   "metadata": {},
   "outputs": [
    {
     "name": "stdout",
     "output_type": "stream",
     "text": [
      "Number of people who have played a role called 'The Dude': 19\n"
     ]
    }
   ],
   "source": [
    "dude_roles = cast[cast['character'] == 'The Dude']\n",
    "num_dude_actors = len(dude_roles['name'].unique())\n",
    "print(\"Number of people who have played a role called 'The Dude':\", num_dude_actors)"
   ]
  },
  {
   "cell_type": "markdown",
   "id": "67122810",
   "metadata": {},
   "source": [
    "# 22.How many people have played a role called \"The Stranger\"?"
   ]
  },
  {
   "cell_type": "code",
   "execution_count": 41,
   "id": "9d99b445",
   "metadata": {},
   "outputs": [
    {
     "name": "stdout",
     "output_type": "stream",
     "text": [
      "Number of people who have played a role called 'The Stranger': 202\n"
     ]
    }
   ],
   "source": [
    "stranger_roles = cast[cast['character'] == 'The Stranger']\n",
    "num_stranger_actors = len(stranger_roles['name'].unique())\n",
    "print(\"Number of people who have played a role called 'The Stranger':\", num_stranger_actors)"
   ]
  },
  {
   "cell_type": "markdown",
   "id": "7c32b364",
   "metadata": {},
   "source": [
    "# 23.How many roles has Sidney Poitier played throughout his career?"
   ]
  },
  {
   "cell_type": "code",
   "execution_count": 42,
   "id": "e5f88a5c",
   "metadata": {},
   "outputs": [
    {
     "name": "stdout",
     "output_type": "stream",
     "text": [
      "Number of roles Sidney Poitier has played throughout his career: 43\n"
     ]
    }
   ],
   "source": [
    "sidney_poitier_roles = len(cast[cast['name'] == 'Sidney Poitier'])\n",
    "print(\"Number of roles Sidney Poitier has played throughout his career:\", sidney_poitier_roles)"
   ]
  },
  {
   "cell_type": "markdown",
   "id": "562c1a91",
   "metadata": {},
   "source": [
    "# 24.How many roles has Judi Dench played?"
   ]
  },
  {
   "cell_type": "code",
   "execution_count": 43,
   "id": "01dc01ae",
   "metadata": {},
   "outputs": [
    {
     "name": "stdout",
     "output_type": "stream",
     "text": [
      "Number of roles Judi Dench has played: 55\n"
     ]
    }
   ],
   "source": [
    "judi_dench_roles = len(cast[cast['name'] == 'Judi Dench'])\n",
    "print(\"Number of roles Judi Dench has played:\", judi_dench_roles)\n"
   ]
  },
  {
   "cell_type": "markdown",
   "id": "7286c99e",
   "metadata": {},
   "source": [
    "# 25.List the supporting roles (having n=2) played by Cary Grant in the 1940s, in order by year.\n"
   ]
  },
  {
   "cell_type": "code",
   "execution_count": 44,
   "id": "baa4dd41",
   "metadata": {},
   "outputs": [
    {
     "name": "stdout",
     "output_type": "stream",
     "text": [
      "Supporting roles played by Cary Grant in the 1940s, in order by year:\n",
      "          character  year\n",
      "871423   Nick Arden  1940\n",
      "871433  Roger Adams  1941\n"
     ]
    }
   ],
   "source": [
    "cary_grant_supporting_1940s = cast[(cast['name'] == 'Cary Grant') & (cast['n'] == 2) & (cast['year'] // 10 == 194)]\n",
    "supporting_roles_by_year = cary_grant_supporting_1940s.sort_values('year')\n",
    "print(\"Supporting roles played by Cary Grant in the 1940s, in order by year:\")\n",
    "print(supporting_roles_by_year[['character', 'year']])"
   ]
  },
  {
   "cell_type": "markdown",
   "id": "cfbe00e3",
   "metadata": {},
   "source": [
    "# 26.List the leading roles that Cary Grant played in the 1940s in order by year."
   ]
  },
  {
   "cell_type": "code",
   "execution_count": 45,
   "id": "93b92034",
   "metadata": {},
   "outputs": [
    {
     "name": "stdout",
     "output_type": "stream",
     "text": [
      "Leading roles played by Cary Grant in the 1940s, in order by year:\n",
      "                                   character  year\n",
      "871448                           Matt Howard  1940\n",
      "871407                          Walter Burns  1940\n",
      "871450                    C. K. Dexter Haven  1940\n",
      "871438                      Johnnie Aysgarth  1941\n",
      "871452                          Leopold Dilg  1942\n",
      "871429                 Patrick 'Pat' O'Toole  1942\n",
      "871398                         Capt. Cassidy  1943\n",
      "871422  Joe Adams -posing as Joe Bascopolous  1943\n",
      "871430                           Jerry Flynn  1944\n",
      "871390                     Mortimer Brewster  1944\n",
      "871425                            Ernie Mott  1944\n",
      "871424                           Cole Porter  1946\n",
      "871427                                Devlin  1946\n",
      "871444                           Dick Nugent  1947\n",
      "871445                                Dudley  1947\n",
      "871421                         Jim Blandings  1948\n",
      "871402                     Dr. Madison Brown  1948\n",
      "871411                 Captain Henri Rochard  1949\n"
     ]
    }
   ],
   "source": [
    "cary_grant_leading_1940s = cast[(cast['name'] == 'Cary Grant') & (cast['n'] == 1) & (cast['year'] // 10 == 194)]\n",
    "leading_roles_by_year = cary_grant_leading_1940s.sort_values('year')\n",
    "print(\"Leading roles played by Cary Grant in the 1940s, in order by year:\")\n",
    "print(leading_roles_by_year[['character', 'year']])"
   ]
  },
  {
   "cell_type": "markdown",
   "id": "5848fa16",
   "metadata": {},
   "source": [
    "# 27.How many roles were available for actors in the 1950s?\n"
   ]
  },
  {
   "cell_type": "code",
   "execution_count": 46,
   "id": "08166286",
   "metadata": {},
   "outputs": [
    {
     "name": "stdout",
     "output_type": "stream",
     "text": [
      "Number of roles available for actors in the 1950s: 0\n"
     ]
    }
   ],
   "source": [
    "roles_1950s_actors = len(cast[(cast['year'] // 10 == 1950) & (cast['type'] == 'actor')])\n",
    "print(\"Number of roles available for actors in the 1950s:\", roles_1950s_actors)"
   ]
  },
  {
   "cell_type": "markdown",
   "id": "f8426bbb",
   "metadata": {},
   "source": [
    "# 28.How many roles were available for actresses in the 1950s?"
   ]
  },
  {
   "cell_type": "code",
   "execution_count": 47,
   "id": "112d9474",
   "metadata": {},
   "outputs": [
    {
     "name": "stdout",
     "output_type": "stream",
     "text": [
      "Number of roles available for actresses in the 1950s: 0\n"
     ]
    }
   ],
   "source": [
    "roles_1950s_actresses = len(cast[(cast['year'] // 10 == 1950) & (cast['type'] == 'actress')])\n",
    "print(\"Number of roles available for actresses in the 1950s:\", roles_1950s_actresses)"
   ]
  },
  {
   "cell_type": "markdown",
   "id": "e179202b",
   "metadata": {},
   "source": [
    "# 29.How many leading roles (n=1) were available from the beginning of film history through 1980?"
   ]
  },
  {
   "cell_type": "code",
   "execution_count": 48,
   "id": "9114f125",
   "metadata": {},
   "outputs": [
    {
     "name": "stdout",
     "output_type": "stream",
     "text": [
      "Number of leading roles (n=1) available through 1980: 65140\n"
     ]
    }
   ],
   "source": [
    "leading_roles_through_1980 = len(cast[(cast['n'] == 1) & (cast['year'] <= 1980)])\n",
    "print(\"Number of leading roles (n=1) available through 1980:\", leading_roles_through_1980)"
   ]
  },
  {
   "cell_type": "markdown",
   "id": "be3d73ad",
   "metadata": {},
   "source": [
    "# 30.How many non-leading roles were available from the beginning of film history through 1980?"
   ]
  },
  {
   "cell_type": "code",
   "execution_count": 49,
   "id": "9b3d326d",
   "metadata": {},
   "outputs": [
    {
     "name": "stdout",
     "output_type": "stream",
     "text": [
      "Number of non-leading roles available through 1980: 1117667\n"
     ]
    }
   ],
   "source": [
    "non_leading_roles_through_1980 = len(cast[(cast['n'] != 1) & (cast['year'] <= 1980)])\n",
    "print(\"Number of non-leading roles available through 1980:\", non_leading_roles_through_1980)\n"
   ]
  },
  {
   "cell_type": "markdown",
   "id": "fb1e9d0e",
   "metadata": {},
   "source": [
    "# 31.How many roles through 1980 were minor enough that they did not warrant a numeric \"n\" rank?"
   ]
  },
  {
   "cell_type": "code",
   "execution_count": 50,
   "id": "417bd258",
   "metadata": {},
   "outputs": [
    {
     "name": "stdout",
     "output_type": "stream",
     "text": [
      "Number of roles through 1980 without a numeric 'n' rank: 448347\n"
     ]
    }
   ],
   "source": [
    "roles_without_n_rank_through_1980 = len(cast[(cast['n'].isna()) & (cast['year'] <= 1980)])\n",
    "print(\"Number of roles through 1980 without a numeric 'n' rank:\", roles_without_n_rank_through_1980)"
   ]
  },
  {
   "cell_type": "code",
   "execution_count": null,
   "id": "30209983",
   "metadata": {},
   "outputs": [],
   "source": []
  }
 ],
 "metadata": {
  "kernelspec": {
   "display_name": "Python 3 (ipykernel)",
   "language": "python",
   "name": "python3"
  },
  "language_info": {
   "codemirror_mode": {
    "name": "ipython",
    "version": 3
   },
   "file_extension": ".py",
   "mimetype": "text/x-python",
   "name": "python",
   "nbconvert_exporter": "python",
   "pygments_lexer": "ipython3",
   "version": "3.11.4"
  }
 },
 "nbformat": 4,
 "nbformat_minor": 5
}

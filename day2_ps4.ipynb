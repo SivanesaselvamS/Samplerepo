{
  "nbformat": 4,
  "nbformat_minor": 0,
  "metadata": {
    "colab": {
      "provenance": []
    },
    "kernelspec": {
      "name": "python3",
      "display_name": "Python 3"
    },
    "language_info": {
      "name": "python"
    }
  },
  "cells": [
    {
      "cell_type": "markdown",
      "source": [
        "**4.Write a Python program to compute the sum of all the multiples of 3 or 5 below 500.**"
      ],
      "metadata": {
        "id": "04mGajSqZXSg"
      }
    },
    {
      "cell_type": "code",
      "source": [
        "tot_sum = 0\n",
        "for num in range(1, 500):\n",
        "\n",
        "    if num % 3 == 0 or num % 5 == 0:\n",
        "        tot_sum += num\n",
        "\n",
        "print( tot_sum)"
      ],
      "metadata": {
        "colab": {
          "base_uri": "https://localhost:8080/"
        },
        "id": "OQraU3yYZdvt",
        "outputId": "0f4de91c-c797-4b12-9cd9-6d24784149dc"
      },
      "execution_count": 1,
      "outputs": [
        {
          "output_type": "stream",
          "name": "stdout",
          "text": [
            "57918\n"
          ]
        }
      ]
    }
  ]
}
{
  "nbformat": 4,
  "nbformat_minor": 0,
  "metadata": {
    "colab": {
      "provenance": []
    },
    "kernelspec": {
      "name": "python3",
      "display_name": "Python 3"
    },
    "language_info": {
      "name": "python"
    }
  },
  "cells": [
    {
      "cell_type": "code",
      "execution_count": null,
      "metadata": {
        "id": "OYD6S0AZA6wF"
      },
      "outputs": [],
      "source": []
    },
    {
      "cell_type": "markdown",
      "source": [
        "**6.Perform the following**"
      ],
      "metadata": {
        "id": "nGqnaFURBIan"
      }
    },
    {
      "cell_type": "markdown",
      "source": [
        "i) Creating the Dictionary."
      ],
      "metadata": {
        "id": "RXYlqu_WBSDH"
      }
    },
    {
      "cell_type": "code",
      "source": [
        "Person = {'f_name': 'Raja',\n",
        "          'l_name': 'ganesh',\n",
        "          'age': '30'}\n",
        "print (Person)"
      ],
      "metadata": {
        "colab": {
          "base_uri": "https://localhost:8080/"
        },
        "id": "kZf-Ll96Bisj",
        "outputId": "0a897181-5dc8-42e3-853a-c26c63ffec04"
      },
      "execution_count": 4,
      "outputs": [
        {
          "output_type": "stream",
          "name": "stdout",
          "text": [
            "{'f_name': 'Raja', 'l_name': 'ganesh', 'age': '30'}\n"
          ]
        }
      ]
    },
    {
      "cell_type": "markdown",
      "source": [
        "ii) Accessing values and keys in the dictionary"
      ],
      "metadata": {
        "id": "ncoi_R6_Dqjj"
      }
    },
    {
      "cell_type": "code",
      "source": [
        "Person = {'f_name': 'sarath',\n",
        "          'l_name': 'kumar',\n",
        "          'age': '30'}\n",
        "x = Person.keys()\n",
        "print(x)\n",
        "y = Person.values()\n",
        "print(y)"
      ],
      "metadata": {
        "colab": {
          "base_uri": "https://localhost:8080/"
        },
        "id": "272eG3soDxpn",
        "outputId": "0664b234-d5d8-4b4f-8b8e-5eb5da9b9742"
      },
      "execution_count": 7,
      "outputs": [
        {
          "output_type": "stream",
          "name": "stdout",
          "text": [
            "dict_keys(['f_name', 'l_name', 'age'])\n",
            "dict_values(['sarath', 'kumar', '30'])\n"
          ]
        }
      ]
    },
    {
      "cell_type": "markdown",
      "source": [
        "iii) Updating the dictionary using a function"
      ],
      "metadata": {
        "id": "jQnujaagGFob"
      }
    },
    {
      "cell_type": "code",
      "source": [
        "Person = {'f_name': 'sarath',\n",
        "          'l_name': 'kumar',\n",
        "          'age': '30'}\n",
        "Person.update({'age': 55})\n",
        "print (Person)"
      ],
      "metadata": {
        "colab": {
          "base_uri": "https://localhost:8080/"
        },
        "id": "D8HF3zK7Ghbl",
        "outputId": "412b1ed0-271d-4b97-d40c-1402e76c36ed"
      },
      "execution_count": 13,
      "outputs": [
        {
          "output_type": "stream",
          "name": "stdout",
          "text": [
            "{'f_name': 'sarath', 'l_name': 'kumar', 'age': 55}\n"
          ]
        }
      ]
    },
    {
      "cell_type": "markdown",
      "source": [
        "iv) Clear and delete the dictionary values"
      ],
      "metadata": {
        "id": "vW7zMri3HX3A"
      }
    },
    {
      "cell_type": "code",
      "source": [
        "Person = {'f_name': 'sarath',\n",
        "          'l_name': 'kumar',\n",
        "          'age': '30'}\n",
        "Person.clear()\n",
        "print(Person)"
      ],
      "metadata": {
        "colab": {
          "base_uri": "https://localhost:8080/"
        },
        "id": "dxyZSK5NHm8D",
        "outputId": "fff23c96-0736-4674-f35a-82b0a0dbee52"
      },
      "execution_count": 17,
      "outputs": [
        {
          "output_type": "stream",
          "name": "stdout",
          "text": [
            "{}\n"
          ]
        }
      ]
    }
  ]
}
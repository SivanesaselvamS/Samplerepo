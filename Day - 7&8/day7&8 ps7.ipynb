{
 "cells": [
  {
   "cell_type": "markdown",
   "id": "8e9bafc1",
   "metadata": {},
   "source": [
    "# 7.Write a python program to implement the various operations for Stack ADT\n",
    "\n",
    "i.) Push  ii.) Pop  iii.) Display."
   ]
  },
  {
   "cell_type": "code",
   "execution_count": 1,
   "id": "d2886df5",
   "metadata": {},
   "outputs": [
    {
     "name": "stdout",
     "output_type": "stream",
     "text": [
      "\n",
      "Stack Operations:\n",
      "1. Push\n",
      "2. Pop\n",
      "3. Display\n",
      "4. Quit\n",
      "Enter your choice: 1\n",
      "Enter the item to push: 25\n",
      "\n",
      "Stack Operations:\n",
      "1. Push\n",
      "2. Pop\n",
      "3. Display\n",
      "4. Quit\n",
      "Enter your choice: 3\n",
      "Stack: ['25']\n",
      "\n",
      "Stack Operations:\n",
      "1. Push\n",
      "2. Pop\n",
      "3. Display\n",
      "4. Quit\n",
      "Enter your choice: 4\n"
     ]
    }
   ],
   "source": [
    "class Stack:\n",
    "    def __init__(self):\n",
    "        self.items = []\n",
    "\n",
    "    def push(self, item):\n",
    "        self.items.append(item)\n",
    "\n",
    "    def pop(self):\n",
    "        if not self.is_empty():\n",
    "            return self.items.pop()\n",
    "        else:\n",
    "            return \"Stack is empty\"\n",
    "\n",
    "    def display(self):\n",
    "        return self.items\n",
    "\n",
    "    def is_empty(self):\n",
    "        return len(self.items) == 0\n",
    "\n",
    "stack = Stack()\n",
    "\n",
    "while True:\n",
    "    print(\"\\nStack Operations:\")\n",
    "    print(\"1. Push\")\n",
    "    print(\"2. Pop\")\n",
    "    print(\"3. Display\")\n",
    "    print(\"4. Quit\")\n",
    "\n",
    "    choice = int(input(\"Enter your choice: \"))\n",
    "\n",
    "    if choice == 1:\n",
    "        item = input(\"Enter the item to push: \")\n",
    "        stack.push(item)\n",
    "    elif choice == 2:\n",
    "        popped_item = stack.pop()\n",
    "        print(\"Popped item:\", popped_item)\n",
    "    elif choice == 3:\n",
    "        print(\"Stack:\", stack.display())\n",
    "    elif choice == 4:\n",
    "        break\n",
    "    else:\n",
    "        print(\"Invalid choice. Please try again.\")\n"
   ]
  },
  {
   "cell_type": "code",
   "execution_count": null,
   "id": "80228be7",
   "metadata": {},
   "outputs": [],
   "source": []
  }
 ],
 "metadata": {
  "kernelspec": {
   "display_name": "Python 3 (ipykernel)",
   "language": "python",
   "name": "python3"
  },
  "language_info": {
   "codemirror_mode": {
    "name": "ipython",
    "version": 3
   },
   "file_extension": ".py",
   "mimetype": "text/x-python",
   "name": "python",
   "nbconvert_exporter": "python",
   "pygments_lexer": "ipython3",
   "version": "3.11.4"
  }
 },
 "nbformat": 4,
 "nbformat_minor": 5
}

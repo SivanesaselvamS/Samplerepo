{
 "cells": [
  {
   "cell_type": "markdown",
   "id": "0dfa3a5b",
   "metadata": {},
   "source": [
    "# 8.Write a python script to implement the various operations for Queue ADT.\n",
    "\n",
    "i.) Insert   ii.) Delete   iii.) Display.\n"
   ]
  },
  {
   "cell_type": "code",
   "execution_count": 3,
   "id": "50046e4d",
   "metadata": {},
   "outputs": [
    {
     "name": "stdout",
     "output_type": "stream",
     "text": [
      "Queue elements: [10, 20, 30]\n",
      "Dequeued item: 10\n",
      "Queue elements: [20, 30]\n"
     ]
    }
   ],
   "source": [
    "class Queue:\n",
    "    def __init__(self):\n",
    "        self.queue = []\n",
    "\n",
    "    def enqueue(self, item):\n",
    "        self.queue.append(item)\n",
    "\n",
    "    def dequeue(self):\n",
    "        if not self.is_empty():\n",
    "            return self.queue.pop(0)\n",
    "        else:\n",
    "            return \"Queue is empty\"\n",
    "\n",
    "    def display(self):\n",
    "        if not self.is_empty():\n",
    "            print(\"Queue elements:\", self.queue)\n",
    "        else:\n",
    "            print(\"Queue is empty\")\n",
    "\n",
    "    def is_empty(self):\n",
    "        return len(self.queue) == 0\n",
    "\n",
    "if __name__ == \"__main__\":\n",
    "    my_queue = Queue()\n",
    "\n",
    "    my_queue.enqueue(10)\n",
    "    my_queue.enqueue(20)\n",
    "    my_queue.enqueue(30)\n",
    "\n",
    "    my_queue.display()  \n",
    "\n",
    "    item = my_queue.dequeue()\n",
    "    print(\"Dequeued item:\", item)  \n",
    "\n",
    "    my_queue.display()  "
   ]
  },
  {
   "cell_type": "code",
   "execution_count": null,
   "id": "6cc2dac8",
   "metadata": {},
   "outputs": [],
   "source": []
  }
 ],
 "metadata": {
  "kernelspec": {
   "display_name": "Python 3 (ipykernel)",
   "language": "python",
   "name": "python3"
  },
  "language_info": {
   "codemirror_mode": {
    "name": "ipython",
    "version": 3
   },
   "file_extension": ".py",
   "mimetype": "text/x-python",
   "name": "python",
   "nbconvert_exporter": "python",
   "pygments_lexer": "ipython3",
   "version": "3.11.4"
  }
 },
 "nbformat": 4,
 "nbformat_minor": 5
}

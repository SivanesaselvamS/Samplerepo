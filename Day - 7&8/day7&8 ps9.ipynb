{
 "cells": [
  {
   "cell_type": "markdown",
   "id": "831d660c",
   "metadata": {},
   "source": [
    "# Write a program in python to convert the following infix expression to its postfix form using push and pop operations of a Stack\n",
    "\n",
    "a. A/B^C+D E-F G\n",
    "\n",
    "b. (B^2-4*A*C)^(1/2) (100)"
   ]
  },
  {
   "cell_type": "code",
   "execution_count": 2,
   "id": "f6a696d7",
   "metadata": {},
   "outputs": [
    {
     "name": "stdout",
     "output_type": "stream",
     "text": [
      "Postfix Expression: ABC^/DE*+FG*-\n"
     ]
    }
   ],
   "source": [
    "def infix_to_postfix(expression):\n",
    "    precedence = {'+':1, '-':1, '*':2, '/':2, '^':3}\n",
    "    stack = []\n",
    "    postfix = []\n",
    "    \n",
    "    for char in expression:\n",
    "        if char.isalnum():\n",
    "            postfix.append(char)\n",
    "        elif char == '(':\n",
    "            stack.append(char)\n",
    "        elif char == ')':\n",
    "            while stack and stack[-1] != '(':\n",
    "                postfix.append(stack.pop())\n",
    "            stack.pop()\n",
    "        else:\n",
    "            while stack and stack[-1] != '(' and precedence[char] <= precedence.get(stack[-1], 0):\n",
    "                postfix.append(stack.pop())\n",
    "            stack.append(char)\n",
    "    \n",
    "    while stack:\n",
    "        postfix.append(stack.pop())\n",
    "    \n",
    "    return ''.join(postfix)\n",
    "\n",
    "infix_expression = \"A/B^C+D*E-F*G\"\n",
    "postfix_expression = infix_to_postfix(infix_expression)\n",
    "print(\"Postfix Expression:\", postfix_expression)\n"
   ]
  },
  {
   "cell_type": "code",
   "execution_count": 3,
   "id": "8f0162dc",
   "metadata": {},
   "outputs": [
    {
     "ename": "KeyError",
     "evalue": "' '",
     "output_type": "error",
     "traceback": [
      "\u001b[1;31m---------------------------------------------------------------------------\u001b[0m",
      "\u001b[1;31mKeyError\u001b[0m                                  Traceback (most recent call last)",
      "Cell \u001b[1;32mIn[3], line 26\u001b[0m\n\u001b[0;32m     23\u001b[0m     \u001b[38;5;28;01mreturn\u001b[39;00m \u001b[38;5;124m'\u001b[39m\u001b[38;5;124m'\u001b[39m\u001b[38;5;241m.\u001b[39mjoin(postfix)\n\u001b[0;32m     25\u001b[0m infix_expression \u001b[38;5;241m=\u001b[39m \u001b[38;5;124m\"\u001b[39m\u001b[38;5;124m(B^2-4*A*C)^(1/2) (100)\u001b[39m\u001b[38;5;124m\"\u001b[39m\n\u001b[1;32m---> 26\u001b[0m postfix_expression \u001b[38;5;241m=\u001b[39m infix_to_postfix(infix_expression)\n\u001b[0;32m     27\u001b[0m \u001b[38;5;28mprint\u001b[39m(\u001b[38;5;124m\"\u001b[39m\u001b[38;5;124mPostfix Expression:\u001b[39m\u001b[38;5;124m\"\u001b[39m, postfix_expression)\n",
      "Cell \u001b[1;32mIn[3], line 16\u001b[0m, in \u001b[0;36minfix_to_postfix\u001b[1;34m(expression)\u001b[0m\n\u001b[0;32m     14\u001b[0m     stack\u001b[38;5;241m.\u001b[39mpop()\n\u001b[0;32m     15\u001b[0m \u001b[38;5;28;01melse\u001b[39;00m:\n\u001b[1;32m---> 16\u001b[0m     \u001b[38;5;28;01mwhile\u001b[39;00m stack \u001b[38;5;129;01mand\u001b[39;00m stack[\u001b[38;5;241m-\u001b[39m\u001b[38;5;241m1\u001b[39m] \u001b[38;5;241m!=\u001b[39m \u001b[38;5;124m'\u001b[39m\u001b[38;5;124m(\u001b[39m\u001b[38;5;124m'\u001b[39m \u001b[38;5;129;01mand\u001b[39;00m precedence[char] \u001b[38;5;241m<\u001b[39m\u001b[38;5;241m=\u001b[39m precedence\u001b[38;5;241m.\u001b[39mget(stack[\u001b[38;5;241m-\u001b[39m\u001b[38;5;241m1\u001b[39m], \u001b[38;5;241m0\u001b[39m):\n\u001b[0;32m     17\u001b[0m         postfix\u001b[38;5;241m.\u001b[39mappend(stack\u001b[38;5;241m.\u001b[39mpop())\n\u001b[0;32m     18\u001b[0m     stack\u001b[38;5;241m.\u001b[39mappend(char)\n",
      "\u001b[1;31mKeyError\u001b[0m: ' '"
     ]
    }
   ],
   "source": [
    "def infix_to_postfix(expression):\n",
    "    precedence = {'+':1, '-':1, '*':2, '/':2, '^':3}\n",
    "    stack = []\n",
    "    postfix = []\n",
    "    \n",
    "    for char in expression:\n",
    "        if char.isalnum():\n",
    "            postfix.append(char)\n",
    "        elif char == '(':\n",
    "            stack.append(char)\n",
    "        elif char == ')':\n",
    "            while stack and stack[-1] != '(':\n",
    "                postfix.append(stack.pop())\n",
    "            stack.pop()\n",
    "        else:\n",
    "            while stack and stack[-1] != '(' and precedence[char] <= precedence.get(stack[-1], 0):\n",
    "                postfix.append(stack.pop())\n",
    "            stack.append(char)\n",
    "    \n",
    "    while stack:\n",
    "        postfix.append(stack.pop())\n",
    "    \n",
    "    return ''.join(postfix)\n",
    "\n",
    "infix_expression = \"(B^2-4*A*C)^(1/2) (100)\"\n",
    "postfix_expression = infix_to_postfix(infix_expression)\n",
    "print(\"Postfix Expression:\", postfix_expression)\n"
   ]
  },
  {
   "cell_type": "code",
   "execution_count": null,
   "id": "7e6bf7e4",
   "metadata": {},
   "outputs": [],
   "source": []
  }
 ],
 "metadata": {
  "kernelspec": {
   "display_name": "Python 3 (ipykernel)",
   "language": "python",
   "name": "python3"
  },
  "language_info": {
   "codemirror_mode": {
    "name": "ipython",
    "version": 3
   },
   "file_extension": ".py",
   "mimetype": "text/x-python",
   "name": "python",
   "nbconvert_exporter": "python",
   "pygments_lexer": "ipython3",
   "version": "3.11.4"
  }
 },
 "nbformat": 4,
 "nbformat_minor": 5
}

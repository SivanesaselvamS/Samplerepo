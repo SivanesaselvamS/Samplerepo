{
  "nbformat": 4,
  "nbformat_minor": 0,
  "metadata": {
    "colab": {
      "provenance": []
    },
    "kernelspec": {
      "name": "python3",
      "display_name": "Python 3"
    },
    "language_info": {
      "name": "python"
    }
  },
  "cells": [
    {
      "cell_type": "markdown",
      "source": [
        "**7.Count the number of vowels in a string**"
      ],
      "metadata": {
        "id": "49-jiIvYmp4k"
      }
    },
    {
      "cell_type": "code",
      "source": [
        "String = \"This is my new car\"\n",
        "vowels = \"aeiouAEIOU\"\n",
        "count = sum(String.count(vowel)for vowel in vowels)\n",
        "print(count)"
      ],
      "metadata": {
        "colab": {
          "base_uri": "https://localhost:8080/"
        },
        "id": "Q86W8MNwm2VH",
        "outputId": "f352d37c-ec58-4c7a-e7c2-da35c4a3954a"
      },
      "execution_count": 2,
      "outputs": [
        {
          "output_type": "stream",
          "name": "stdout",
          "text": [
            "4\n"
          ]
        }
      ]
    }
  ]
}
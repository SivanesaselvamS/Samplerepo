{
  "nbformat": 4,
  "nbformat_minor": 0,
  "metadata": {
    "colab": {
      "provenance": []
    },
    "kernelspec": {
      "name": "python3",
      "display_name": "Python 3"
    },
    "language_info": {
      "name": "python"
    }
  },
  "cells": [
    {
      "cell_type": "markdown",
      "source": [
        "**12.A list of the words is given.find the words from the list that have their second character in uppercase.**\n",
        "ls=['hello','Dear','hOw','ARe','You']"
      ],
      "metadata": {
        "id": "wQ50gYryUHSx"
      }
    },
    {
      "cell_type": "code",
      "source": [
        "ls=['hello','Dear','how','ARe','You']\n",
        "ls\n",
        "for i in ls:\n",
        "  if i[1]==i[1].upper():\n",
        "    print(i)"
      ],
      "metadata": {
        "colab": {
          "base_uri": "https://localhost:8080/"
        },
        "id": "P9zY0QGeVGYq",
        "outputId": "684f7b42-59b5-4eb4-d54c-1d706842d045"
      },
      "execution_count": 3,
      "outputs": [
        {
          "output_type": "stream",
          "name": "stdout",
          "text": [
            "ARe\n"
          ]
        }
      ]
    }
  ]
}
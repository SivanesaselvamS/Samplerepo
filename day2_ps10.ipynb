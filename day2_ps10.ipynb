{
  "nbformat": 4,
  "nbformat_minor": 0,
  "metadata": {
    "colab": {
      "provenance": []
    },
    "kernelspec": {
      "name": "python3",
      "display_name": "Python 3"
    },
    "language_info": {
      "name": "python"
    }
  },
  "cells": [
    {
      "cell_type": "markdown",
      "source": [
        "**10.Python program to display the given integer in reverse order using the function without an in-built function.**"
      ],
      "metadata": {
        "id": "L2jgnrrgeB4o"
      }
    },
    {
      "cell_type": "code",
      "source": [
        "def reverse_integer(n):\n",
        "  rev_num = 0\n",
        "  while n > 0:\n",
        "    rev_num = (rev_num * 10 + n % 10)\n",
        "    n = 10\n",
        "    return rev_num\n",
        "\n",
        "\n",
        "  n = int(input(\"Enter an integer: \"))\n",
        "  reversed_number = reverse_integer(n)\n",
        "  print(\"The reversed integer is:\", reverse_integer(n))"
      ],
      "metadata": {
        "id": "Ju8cmM-6eNaY"
      },
      "execution_count": 7,
      "outputs": []
    }
  ]
}
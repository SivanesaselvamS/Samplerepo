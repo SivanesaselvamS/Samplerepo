{
  "nbformat": 4,
  "nbformat_minor": 0,
  "metadata": {
    "colab": {
      "provenance": []
    },
    "kernelspec": {
      "name": "python3",
      "display_name": "Python 3"
    },
    "language_info": {
      "name": "python"
    }
  },
  "cells": [
    {
      "cell_type": "markdown",
      "source": [
        "**16.Write a python program to rotate a list by right n times with and without slicing technique.**"
      ],
      "metadata": {
        "id": "7AhAQM_nFxrB"
      }
    },
    {
      "cell_type": "code",
      "source": [
        "def rotate_list_using_slicing(input_list, n):\n",
        "    if len(input_list) == 0:\n",
        "        return input_list\n",
        "\n",
        "    n %= len(input_list)  # Ensure n is within the length of the list\n",
        "    rotated_list = input_list[-n:] + input_list[:-n]\n",
        "    return rotated_list\n",
        "\n",
        "# Input list\n",
        "my_list = [1, 2, 3, 4, 5]\n",
        "n = int(input(\"Enter the number of times to rotate to the right: \"))\n",
        "\n",
        "rotated_list = rotate_list_using_slicing(my_list, n)\n",
        "print(\"Rotated list with slicing technique:\", rotated_list)\n",
        "\n",
        "def rotate_list_without_slicing(input_list, n):\n",
        "    if len(input_list) == 0:\n",
        "        return input_list\n",
        "\n",
        "    n %= len(input_list)  # Ensure n is within the length of the list\n",
        "    for _ in range(n):\n",
        "        temp = input_list.pop()\n",
        "        input_list.insert(0, temp)\n",
        "    return input_list\n",
        "\n",
        "# Input list\n",
        "my_list = [1, 2, 3, 4, 5]\n",
        "n = int(input(\"Enter the number of times to rotate to the right: \"))\n",
        "\n",
        "rotated_list = rotate_list_without_slicing(my_list, n)\n",
        "print(\"Rotated list without slicing technique:\", rotated_list)"
      ],
      "metadata": {
        "colab": {
          "base_uri": "https://localhost:8080/"
        },
        "id": "jwcy3ZhiF3wH",
        "outputId": "19f01024-da73-4eb1-c097-3eb09d3a3ba2"
      },
      "execution_count": 2,
      "outputs": [
        {
          "output_type": "stream",
          "name": "stdout",
          "text": [
            "Enter the number of times to rotate to the right: 4\n",
            "Rotated list with slicing technique: [2, 3, 4, 5, 1]\n",
            "Enter the number of times to rotate to the right: 3\n",
            "Rotated list without slicing technique: [3, 4, 5, 1, 2]\n"
          ]
        }
      ]
    }
  ]
}
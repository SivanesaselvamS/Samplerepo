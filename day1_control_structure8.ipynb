{
  "nbformat": 4,
  "nbformat_minor": 0,
  "metadata": {
    "colab": {
      "provenance": []
    },
    "kernelspec": {
      "name": "python3",
      "display_name": "Python 3"
    },
    "language_info": {
      "name": "python"
    }
  },
  "cells": [
    {
      "cell_type": "code",
      "execution_count": null,
      "metadata": {
        "id": "Kba7sK2x574K"
      },
      "outputs": [],
      "source": []
    },
    {
      "cell_type": "markdown",
      "source": [
        "**8.Write a python program to implement arithmetic operations using nested if statement.**"
      ],
      "metadata": {
        "id": "cmjvL0Lt6kZI"
      }
    },
    {
      "cell_type": "code",
      "source": [
        "def perform_arithmetic_operation(num1, num2, operator):\n",
        "    if operator == '+':\n",
        "        result = num1 + num2\n",
        "    elif operator == '-':\n",
        "        result = num1 - num2\n",
        "    elif operator == '*':\n",
        "        result = num1 * num2\n",
        "    elif operator == '/':\n",
        "        if num2 != 0:\n",
        "            result = num1 / num2\n",
        "        else:\n",
        "            return \"Division by zero is not allowed\"\n",
        "    else:\n",
        "        return \"Invalid operator\"\n",
        "\n",
        "    return result\n",
        "\n",
        "num1 = float(input(\"Enter the first number: \"))\n",
        "num2 = float(input(\"Enter the second number: \"))\n",
        "operator = input(\"Enter the operator (+, -, *, /): \")\n",
        "\n",
        "result = perform_arithmetic_operation(num1, num2, operator)\n",
        "print(f\"Result: {result}\")"
      ],
      "metadata": {
        "id": "vEc_THk36olq",
        "colab": {
          "base_uri": "https://localhost:8080/"
        },
        "outputId": "bab531f9-c13a-4c69-a20c-584263aa3ddd"
      },
      "execution_count": 1,
      "outputs": [
        {
          "output_type": "stream",
          "name": "stdout",
          "text": [
            "Enter the first number: 10\n",
            "Enter the second number: 20\n",
            "Enter the operator (+, -, *, /): +\n",
            "Result: 30.0\n"
          ]
        }
      ]
    }
  ]
}
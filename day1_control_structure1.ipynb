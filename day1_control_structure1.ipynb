{
  "nbformat": 4,
  "nbformat_minor": 0,
  "metadata": {
    "colab": {
      "provenance": []
    },
    "kernelspec": {
      "name": "python3",
      "display_name": "Python 3"
    },
    "language_info": {
      "name": "python"
    }
  },
  "cells": [
    {
      "cell_type": "markdown",
      "source": [
        "**1.Write a python program to find the first N prime numbers.**"
      ],
      "metadata": {
        "id": "k-mEBzi2YlyO"
      }
    },
    {
      "cell_type": "code",
      "source": [
        "a = int(input(\"Enter the start of range: \"))\n",
        "b = int(input(\"Enter the end of range: \"))\n",
        "\n",
        "for num in range(a, b+ 1):\n",
        "   if num> 1:\n",
        "     for i in range(2, int(num**0.5) + 1):\n",
        "         if (num % i) == 0:\n",
        "             break\n",
        "     else:\n",
        "          print(num)"
      ],
      "metadata": {
        "id": "00-DsD7jZGDP",
        "colab": {
          "base_uri": "https://localhost:8080/"
        },
        "outputId": "42f4a72f-b6cc-43bf-a32a-0afe4b5d7e69"
      },
      "execution_count": 12,
      "outputs": [
        {
          "output_type": "stream",
          "name": "stdout",
          "text": [
            "Enter the start of range: 1\n",
            "Enter the end of range: 30\n",
            "2\n",
            "3\n",
            "5\n",
            "7\n",
            "11\n",
            "13\n",
            "17\n",
            "19\n",
            "23\n",
            "29\n"
          ]
        }
      ]
    }
  ]
}
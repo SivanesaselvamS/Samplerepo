{
 "cells": [
  {
   "cell_type": "markdown",
   "id": "8440269d",
   "metadata": {},
   "source": [
    "# 1.Write a Python program to find a target values in a list using linear search with following steps:\n",
    "\n",
    "a. Initialize the list to store the input elements.\n",
    "\n",
    "b. Initialize found-False.\n",
    "\n",
    "c. Enter the item to be searched (match_item).\n",
    "\n",
    "d. For each element in the list\n",
    "\n",
    "        1. if match item = value\n",
    "\n",
    "            a. return match item's position.\n",
    "\n",
    "e. If the match item is not in the list, display an error message that the item is not found in the list"
   ]
  },
  {
   "cell_type": "code",
   "execution_count": 1,
   "id": "db526d37",
   "metadata": {},
   "outputs": [
    {
     "name": "stdout",
     "output_type": "stream",
     "text": [
      "Enter the item to be searched: 6\n",
      "Item 6 found at position 7.\n"
     ]
    }
   ],
   "source": [
    "\n",
    "input_list = [3, 1, 4, 1, 5, 9, 2, 6, 5, 3, 5]\n",
    "\n",
    "found = False\n",
    "\n",
    "match_item = int(input(\"Enter the item to be searched: \"))\n",
    "\n",
    "for index, value in enumerate(input_list):\n",
    "    if value == match_item:\n",
    "        print(f\"Item {match_item} found at position {index}.\")\n",
    "        found = True\n",
    "        break\n",
    "\n",
    "if not found:\n",
    "    print(f\"Item {match_item} is not found in the list.\")"
   ]
  },
  {
   "cell_type": "code",
   "execution_count": null,
   "id": "d240ac7c",
   "metadata": {},
   "outputs": [],
   "source": []
  }
 ],
 "metadata": {
  "kernelspec": {
   "display_name": "Python 3 (ipykernel)",
   "language": "python",
   "name": "python3"
  },
  "language_info": {
   "codemirror_mode": {
    "name": "ipython",
    "version": 3
   },
   "file_extension": ".py",
   "mimetype": "text/x-python",
   "name": "python",
   "nbconvert_exporter": "python",
   "pygments_lexer": "ipython3",
   "version": "3.11.4"
  }
 },
 "nbformat": 4,
 "nbformat_minor": 5
}

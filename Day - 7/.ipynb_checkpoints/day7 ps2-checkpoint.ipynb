{
 "cells": [
  {
   "cell_type": "markdown",
   "id": "89dd7298",
   "metadata": {},
   "source": [
    "# 2.Write a Python program to implement binary search to find the target values from the list:\n",
    "\n",
    "a. Create a separate function to do binary search. b. Get the number of inputs from the user.\n",
    "\n",
    "c. Store the inputs individually in a list.\n",
    "\n",
    "d. In binary search function at first sort the list in order to start the search from middle of the list.\n",
    "\n",
    "e. Compare the middle element to right and left elements to search target element. f. If greater, move to right of list or else move to another side of the list.\n",
    "\n",
    "g. Print the result along with the position of the element."
   ]
  },
  {
   "cell_type": "code",
   "execution_count": 3,
   "id": "d7dc5c9c",
   "metadata": {},
   "outputs": [
    {
     "name": "stdout",
     "output_type": "stream",
     "text": [
      "Enter the number of elements: 5\n",
      "Enter element 1: 21\n",
      "Enter element 2: 22\n",
      "Enter element 3: 23\n",
      "Enter element 4: 24\n",
      "Enter element 5: 25\n",
      "Enter the target value to search: 23\n",
      "Found 23 at position 3\n"
     ]
    }
   ],
   "source": [
    "def binary_search(arr, target):\n",
    "    arr.sort() \n",
    "    \n",
    "    left, right = 0, len(arr) - 1\n",
    "\n",
    "    while left <= right:\n",
    "        mid = (left + right) // 2\n",
    "\n",
    "        if arr[mid] == target:\n",
    "            return f\"Found {target} at position {mid + 1}\"\n",
    "        elif arr[mid] < target:\n",
    "            left = mid + 1\n",
    "        else:\n",
    "            right = mid - 1\n",
    "\n",
    "    return f\"{target} not found in the list\"\n",
    "\n",
    "num_inputs = int(input(\"Enter the number of elements: \"))\n",
    "\n",
    "input_list = []\n",
    "for i in range(num_inputs):\n",
    "    value = int(input(f\"Enter element {i + 1}: \"))\n",
    "    input_list.append(value)\n",
    "\n",
    "target_value = int(input(\"Enter the target value to search: \"))\n",
    "\n",
    "result = binary_search(input_list, target_value)\n",
    "\n",
    "print(result)"
   ]
  },
  {
   "cell_type": "code",
   "execution_count": null,
   "id": "d11eee56",
   "metadata": {},
   "outputs": [],
   "source": []
  }
 ],
 "metadata": {
  "kernelspec": {
   "display_name": "Python 3 (ipykernel)",
   "language": "python",
   "name": "python3"
  },
  "language_info": {
   "codemirror_mode": {
    "name": "ipython",
    "version": 3
   },
   "file_extension": ".py",
   "mimetype": "text/x-python",
   "name": "python",
   "nbconvert_exporter": "python",
   "pygments_lexer": "ipython3",
   "version": "3.11.4"
  }
 },
 "nbformat": 4,
 "nbformat_minor": 5
}

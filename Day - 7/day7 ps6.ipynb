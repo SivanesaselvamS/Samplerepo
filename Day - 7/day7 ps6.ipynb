{
 "cells": [
  {
   "cell_type": "markdown",
   "id": "a135a1b7",
   "metadata": {},
   "source": [
    "# 6.Write a Python script to perform the following operations on a singly linked list\n",
    "\n",
    "a. Create a list\n",
    "\n",
    "b. Find the smallest element from the list\n",
    "\n",
    "C. Insert an element if it is not a duplicate element\n",
    "\n",
    "d. Display the elements in reverse order\n"
   ]
  },
  {
   "cell_type": "code",
   "execution_count": 1,
   "id": "e4afa11c",
   "metadata": {},
   "outputs": [
    {
     "name": "stdout",
     "output_type": "stream",
     "text": [
      "Smallest element: 2\n",
      "Elements in reverse order:\n",
      "3\n",
      "2\n",
      "8\n",
      "2\n",
      "5\n"
     ]
    }
   ],
   "source": [
    "class Node:\n",
    "    def __init__(self, data):\n",
    "        self.data = data\n",
    "        self.next = None\n",
    "\n",
    "class LinkedList:\n",
    "    def __init__(self):\n",
    "        self.head = None\n",
    "\n",
    "    \n",
    "    def append(self, data):\n",
    "        new_node = Node(data)\n",
    "        if not self.head:\n",
    "            self.head = new_node\n",
    "        else:\n",
    "            current = self.head\n",
    "            while current.next:\n",
    "                current = current.next\n",
    "            current.next = new_node\n",
    "\n",
    "    \n",
    "    def find_smallest(self):\n",
    "        if not self.head:\n",
    "            return None\n",
    "        current = self.head\n",
    "        smallest = current.data\n",
    "        while current:\n",
    "            if current.data < smallest:\n",
    "                smallest = current.data\n",
    "            current = current.next\n",
    "        return smallest\n",
    "\n",
    "    \n",
    "    def insert_unique(self, data):\n",
    "        current = self.head\n",
    "        while current:\n",
    "            if current.data == data:\n",
    "                return  \n",
    "            current = current.next\n",
    "        self.append(data)\n",
    "\n",
    "    \n",
    "    def display_reverse(self):\n",
    "        stack = []\n",
    "        current = self.head\n",
    "        while current:\n",
    "            stack.append(current.data)\n",
    "            current = current.next\n",
    "        while stack:\n",
    "            print(stack.pop())\n",
    "\n",
    "\n",
    "if __name__ == \"__main__\":\n",
    "    linked_list = LinkedList()\n",
    "\n",
    "    \n",
    "    linked_list.append(5)\n",
    "    linked_list.append(2)\n",
    "    linked_list.append(8)\n",
    "    linked_list.append(2)\n",
    "\n",
    "    \n",
    "    smallest = linked_list.find_smallest()\n",
    "    print(\"Smallest element:\", smallest)\n",
    "\n",
    "    \n",
    "    linked_list.insert_unique(3)\n",
    "\n",
    "    \n",
    "    print(\"Elements in reverse order:\")\n",
    "    linked_list.display_reverse()\n"
   ]
  },
  {
   "cell_type": "code",
   "execution_count": null,
   "id": "4ca2017b",
   "metadata": {},
   "outputs": [],
   "source": []
  }
 ],
 "metadata": {
  "kernelspec": {
   "display_name": "Python 3 (ipykernel)",
   "language": "python",
   "name": "python3"
  },
  "language_info": {
   "codemirror_mode": {
    "name": "ipython",
    "version": 3
   },
   "file_extension": ".py",
   "mimetype": "text/x-python",
   "name": "python",
   "nbconvert_exporter": "python",
   "pygments_lexer": "ipython3",
   "version": "3.11.4"
  }
 },
 "nbformat": 4,
 "nbformat_minor": 5
}

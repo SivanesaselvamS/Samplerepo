{
  "nbformat": 4,
  "nbformat_minor": 0,
  "metadata": {
    "colab": {
      "provenance": []
    },
    "kernelspec": {
      "name": "python3",
      "display_name": "Python 3"
    },
    "language_info": {
      "name": "python"
    }
  },
  "cells": [
    {
      "cell_type": "markdown",
      "source": [
        "**11.Create a dictionary containing three lambda functions square,cube and square root.**"
      ],
      "metadata": {
        "id": "QkH9D9jeQjrE"
      }
    },
    {
      "cell_type": "code",
      "source": [
        "dict={'square':lambda a :a**2,\n",
        "    'cube':lambda a :a**3,\n",
        "      'squareroot':lambda a :a**0.5}\n",
        "a=int(input(\"Enter value of a: \"))\n",
        "square_result = dict['square'](a)\n",
        "cube_result = dict['cube'](a)\n",
        "squareroot_result = dict['squareroot'](a)\n",
        "adding = square_result + cube_result + squareroot_result\n",
        "print(adding)"
      ],
      "metadata": {
        "colab": {
          "base_uri": "https://localhost:8080/"
        },
        "id": "esLwG9ZHQ7Us",
        "outputId": "f484d931-c2d8-4b76-af19-d526dc26f2da"
      },
      "execution_count": 3,
      "outputs": [
        {
          "output_type": "stream",
          "name": "stdout",
          "text": [
            "Enter value of a: 40\n",
            "65606.32455532033\n"
          ]
        }
      ]
    }
  ]
}
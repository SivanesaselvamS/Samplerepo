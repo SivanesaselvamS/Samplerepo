{
  "nbformat": 4,
  "nbformat_minor": 0,
  "metadata": {
    "colab": {
      "provenance": []
    },
    "kernelspec": {
      "name": "python3",
      "display_name": "Python 3"
    },
    "language_info": {
      "name": "python"
    }
  },
  "cells": [
    {
      "cell_type": "code",
      "execution_count": null,
      "metadata": {
        "id": "AccafjYKx8Xn"
      },
      "outputs": [],
      "source": []
    },
    {
      "cell_type": "markdown",
      "source": [
        "**8.Python program to delete an element from a list by index**"
      ],
      "metadata": {
        "id": "sZH2u3StyDf-"
      }
    },
    {
      "cell_type": "code",
      "source": [
        "my_list = [7,8,1,5,0]\n",
        "my_list.pop(2)\n",
        "print (my_list)"
      ],
      "metadata": {
        "colab": {
          "base_uri": "https://localhost:8080/"
        },
        "id": "eX3KXF_zyFxS",
        "outputId": "0e78249b-6720-48d0-8db7-197c21e81e8c"
      },
      "execution_count": 1,
      "outputs": [
        {
          "output_type": "stream",
          "name": "stdout",
          "text": [
            "[7, 8, 5, 0]\n"
          ]
        }
      ]
    }
  ]
}